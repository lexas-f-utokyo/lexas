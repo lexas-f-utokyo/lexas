{
 "cells": [
  {
   "cell_type": "markdown",
   "metadata": {
    "id": "ki2f-ZQGTftt"
   },
   "source": [
    "# Install and Download"
   ]
  },
  {
   "cell_type": "code",
   "execution_count": 1,
   "metadata": {
    "id": "vuWG5t7iSuwI",
    "scrolled": false
   },
   "outputs": [
    {
     "name": "stdout",
     "output_type": "stream",
     "text": [
      "Cloning into 'pyrwr'...\n",
      "remote: Enumerating objects: 305, done.\u001b[K\n",
      "remote: Counting objects: 100% (110/110), done.\u001b[K\n",
      "remote: Compressing objects: 100% (51/51), done.\u001b[K\n",
      "remote: Total 305 (delta 68), reused 92 (delta 57), pack-reused 195\u001b[K\n",
      "Receiving objects: 100% (305/305), 193.61 KiB | 19.36 MiB/s, done.\n",
      "Resolving deltas: 100% (185/185), done.\n",
      "/home/user/Desktop/lexas/pyrwr\n",
      "Defaulting to user installation because normal site-packages is not writeable\n",
      "Collecting tqdm~=4.64.0\n",
      "  Downloading tqdm-4.64.1-py2.py3-none-any.whl (78 kB)\n",
      "     |████████████████████████████████| 78 kB 15.3 MB/s            \n",
      "\u001b[?25hCollecting fire~=0.4.0\n",
      "  Downloading fire-0.4.0.tar.gz (87 kB)\n",
      "     |████████████████████████████████| 87 kB 28.6 MB/s            \n",
      "\u001b[?25h  Preparing metadata (setup.py) ... \u001b[?25ldone\n",
      "\u001b[31mERROR: Could not find a version that satisfies the requirement numpy~=1.22.4 (from versions: 1.3.0, 1.4.1, 1.5.0, 1.5.1, 1.6.0, 1.6.1, 1.6.2, 1.7.0, 1.7.1, 1.7.2, 1.8.0, 1.8.1, 1.8.2, 1.9.0, 1.9.1, 1.9.2, 1.9.3, 1.10.0.post2, 1.10.1, 1.10.2, 1.10.4, 1.11.0, 1.11.1, 1.11.2, 1.11.3, 1.12.0, 1.12.1, 1.13.0, 1.13.1, 1.13.3, 1.14.0, 1.14.1, 1.14.2, 1.14.3, 1.14.4, 1.14.5, 1.14.6, 1.15.0, 1.15.1, 1.15.2, 1.15.3, 1.15.4, 1.16.0, 1.16.1, 1.16.2, 1.16.3, 1.16.4, 1.16.5, 1.16.6, 1.17.0, 1.17.1, 1.17.2, 1.17.3, 1.17.4, 1.17.5, 1.18.0, 1.18.1, 1.18.2, 1.18.3, 1.18.4, 1.18.5, 1.19.0, 1.19.1, 1.19.2, 1.19.3, 1.19.4, 1.19.5)\u001b[0m\n",
      "\u001b[31mERROR: No matching distribution found for numpy~=1.22.4\u001b[0m\n",
      "\u001b[?25h"
     ]
    }
   ],
   "source": [
    "#Install pyrwr\n",
    "!git clone https://github.com/jinhongjung/pyrwr.git\n",
    "%cd ./pyrwr\n",
    "!pip install -r requirements.txt"
   ]
  },
  {
   "cell_type": "code",
   "execution_count": 3,
   "metadata": {
    "colab": {
     "base_uri": "https://localhost:8080/"
    },
    "collapsed": true,
    "id": "MMtbu66sS3Vo",
    "outputId": "81dacab1-128c-409a-9bfa-a44371a69aa3"
   },
   "outputs": [
    {
     "name": "stdout",
     "output_type": "stream",
     "text": [
      "--2024-01-09 21:09:42--  https://funcoup5.scilifelab.se/downloads/download.action?type=network&instanceID=24480085&fileName=FC5.0_H.sapiens_full.gz\n",
      "funcoup5.scilifelab.se (funcoup5.scilifelab.se) をDNSに問いあわせています... 130.237.48.106\n",
      "funcoup5.scilifelab.se (funcoup5.scilifelab.se)|130.237.48.106|:443 に接続しています... 接続しました。\n",
      "HTTP による接続要求を送信しました、応答を待っています... 301 Moved Permanently\n",
      "場所: https://funcoup.org/downloads/download.action?type=network&instanceID=24480085&fileName=FC5.0_H.sapiens_full.gz [続く]\n",
      "--2024-01-09 21:09:45--  https://funcoup.org/downloads/download.action?type=network&instanceID=24480085&fileName=FC5.0_H.sapiens_full.gz\n",
      "funcoup.org (funcoup.org) をDNSに問いあわせています... 130.237.48.106\n",
      "funcoup.org (funcoup.org)|130.237.48.106|:443 に接続しています... 接続しました。\n",
      "HTTP による接続要求を送信しました、応答を待っています... 200 \n",
      "長さ: 284028906 (271M) [application/octet-stream]\n",
      "`funcoup5.tab.gz' に保存中\n",
      "\n",
      "funcoup5.tab.gz     100%[===================>] 270.87M  11.8MB/s    時間 27s     \n",
      "\n",
      "2024-01-09 21:10:14 (10.1 MB/s) - `funcoup5.tab.gz' へ保存完了 [284028906/284028906]\n",
      "\n",
      "--2024-01-09 21:10:19--  http://version10.string-db.org/download/protein.links.v10/9606.protein.links.v10.txt.gz\n",
      "version10.string-db.org (version10.string-db.org) をDNSに問いあわせています... 194.94.44.34\n",
      "version10.string-db.org (version10.string-db.org)|194.94.44.34|:80 に接続しています... 接続しました。\n",
      "HTTP による接続要求を送信しました、応答を待っています... 200 OK\n",
      "長さ: 46960139 (45M) [application/x-gzip]\n",
      "`./protein.links.v10.txt.gz' に保存中\n",
      "\n",
      "./protein.links.v10 100%[===================>]  44.78M   359KB/s    時間 2m 10s  \n",
      "\n",
      "2024-01-09 21:12:31 (352 KB/s) - `./protein.links.v10.txt.gz' へ保存完了 [46960139/46960139]\n",
      "\n"
     ]
    }
   ],
   "source": [
    "#Downloading data\n",
    "#FunCoup5\n",
    "!wget \"https://funcoup5.scilifelab.se/downloads/download.action?type=network&instanceID=24480085&fileName=FC5.0_H.sapiens_full.gz\" -O funcoup5.tab.gz\n",
    "!gunzip funcoup5.tab.gz\n",
    "\n",
    "#STRINGv10\n",
    "!wget http://version10.string-db.org/download/protein.links.v10/9606.protein.links.v10.txt.gz -O ./protein.links.v10.txt.gz\n",
    "!gunzip ./protein.links.v10.txt.gz"
   ]
  },
  {
   "cell_type": "code",
   "execution_count": 40,
   "metadata": {},
   "outputs": [],
   "source": [
    "import json\n",
    "#Dictionaries for ID conversion\n",
    "path = \"../data/ensg.json\"\n",
    "with open(path, mode=\"r\") as f:\n",
    "    sym_to_ensg = json.load(f)\n",
    "ensg_to_sym = {value: key for key, value in sym_to_ensg.items()}\n",
    "\n",
    "path = \"../data/ensp.json\"\n",
    "with open(path, mode=\"r\") as f:\n",
    "    sym_to_ensp = json.load(f)\n",
    "ensp_to_sym = {value: key for key, value in sym_to_ensp.items()}"
   ]
  },
  {
   "cell_type": "markdown",
   "metadata": {
    "id": "m4CnUgkZTjuq"
   },
   "source": [
    "# FunCoup\n",
    "\n",
    "Comparison is performed using the code in Evaluation.ipynb"
   ]
  },
  {
   "cell_type": "code",
   "execution_count": 68,
   "metadata": {
    "colab": {
     "base_uri": "https://localhost:8080/"
    },
    "id": "yocJ8iTRTjCu",
    "outputId": "3082aa6c-cfdf-40cd-cb6b-088c06282c26"
   },
   "outputs": [
    {
     "name": "stderr",
     "output_type": "stream",
     "text": [
      "5036826it [00:06, 746856.31it/s]\n"
     ]
    }
   ],
   "source": [
    "import tqdm\n",
    "\n",
    "# Create a mapping of genes to unique numbers from the funcoup file\n",
    "gene_list, numbd =[], {}\n",
    "c = 0\n",
    "\n",
    "with open(\"funcoup5.tab\", \"r\") as f:\n",
    "    next(f)  # Skip header\n",
    "    for line in tqdm.tqdm(f):\n",
    "        gene1, gene2 = line.split(\"\\t\")[2:4]\n",
    "        if gene1 not in numbd:\n",
    "            numbd[gene1] = str(c)\n",
    "            gene_list.append(gene1)\n",
    "            c += 1\n",
    "        if gene2 not in numbd:\n",
    "            numbd[gene2] = str(c)\n",
    "            gene_list.append(gene2)\n",
    "            c += 1"
   ]
  },
  {
   "cell_type": "code",
   "execution_count": 5,
   "metadata": {
    "colab": {
     "base_uri": "https://localhost:8080/"
    },
    "id": "ryb6s7XhUA7L",
    "outputId": "421e12c2-c74a-43e4-d119-8e89ebf75bb7"
   },
   "outputs": [
    {
     "name": "stderr",
     "output_type": "stream",
     "text": [
      "5036826it [00:16, 297759.40it/s]\n"
     ]
    }
   ],
   "source": [
    "import tqdm\n",
    "\n",
    "# Paths\n",
    "input_path = \"funcoup5.tab\"\n",
    "output_path = \"funcoup_graph.tsv\"\n",
    "\n",
    "# Mapping genes to unique numbers and writing relationships to a new file\n",
    "with open(input_path, \"r\") as input_file, open(output_path, \"w\") as output_file:\n",
    "    next(input_file)  # Skip header\n",
    "    for line in tqdm.tqdm(input_file):\n",
    "        gene1, gene2, score = line.strip().split(\"\\t\")[2], line.strip().split(\"\\t\")[3], line.strip().split(\"\\t\")[0]\n",
    "        output_file.write(\"\\t\".join([numbd[gene1], numbd[gene2], score]) + \"\\n\")\n"
   ]
  },
  {
   "cell_type": "code",
   "execution_count": 70,
   "metadata": {
    "colab": {
     "base_uri": "https://localhost:8080/"
    },
    "id": "pRBoOMwjU06g",
    "outputId": "59a1e9d8-90bb-4365-ee87-dcefd98af961"
   },
   "outputs": [
    {
     "name": "stderr",
     "output_type": "stream",
     "text": [
      "The iteration has converged at 73-iter:  73%|███████▎  | 73/100 [00:00<00:00, 100.23it/s]\n"
     ]
    },
    {
     "data": {
      "text/plain": [
       "array([1.51652320e-01, 3.31746339e-04, 8.58316114e-04, ...,\n",
       "       1.13060100e-08, 2.51885949e-08, 7.81477495e-09])"
      ]
     },
     "execution_count": 70,
     "metadata": {},
     "output_type": "execute_result"
    }
   ],
   "source": [
    "from pyrwr.rwr import RWR\n",
    "\n",
    "# Set up and read graph\n",
    "rwr = RWR()\n",
    "rwr.read_graph(\"./funcoup_graph.tsv\", \"undirected\")\n",
    "\n",
    "#Using a sample gene ID for testing\n",
    "seed = 0\n",
    "result = rwr.compute(seed, c=0.15, epsilon=1e-9, max_iters=100, device=\"cpu\") #Default parameter settings\n",
    "result"
   ]
  },
  {
   "cell_type": "code",
   "execution_count": 120,
   "metadata": {},
   "outputs": [
    {
     "name": "stderr",
     "output_type": "stream",
     "text": [
      "The iteration has converged at 77-iter:  77%|███████▋  | 77/100 [00:00<00:00, 103.89it/s]\n",
      "The iteration has converged at 77-iter:  77%|███████▋  | 77/100 [00:00<00:00, 104.18it/s]\n",
      "The iteration has converged at 77-iter:  77%|███████▋  | 77/100 [00:00<00:00, 101.06it/s]\n",
      "The iteration has converged at 77-iter:  77%|███████▋  | 77/100 [00:00<00:00, 103.61it/s]\n",
      "The iteration has converged at 75-iter:  75%|███████▌  | 75/100 [00:00<00:00, 104.55it/s]\n",
      "The iteration has converged at 77-iter:  77%|███████▋  | 77/100 [00:00<00:00, 103.55it/s]\n"
     ]
    }
   ],
   "source": [
    "# Calculate RWR similarity for comparison\n",
    "import pandas as pd\n",
    "import numpy as np\n",
    "symbols = [\"PLK4\",\"SASS6\",\"CEP152\",\"CEP192\",\"CEP63\",\"PCNT\"] #For demonstration\n",
    "\n",
    "for symbol in symbols:\n",
    "    ensg =sym_to_ensg[symbol]\n",
    "    seed = numbd[ensg]\n",
    "    result = rwr.compute(int(seed), c=0.15, epsilon=1e-9, max_iters=100, device=\"cpu\")\n",
    "\n",
    "    df = pd.DataFrame({\"ENSG\":gene_list,\"Score\":result})\n",
    "    df[\"Symbol\"] = [ensg_to_sym[gene] if gene in ensg_to_sym else None for gene in gene_list]\n",
    "    df = df.reindex(columns=['Symbol', 'Score', 'ENSG'])\n",
    "    df.dropna().to_csv(f\"../result/funcoup_rwr/{symbol}.csv\",index=None)\n",
    "\n",
    "#Evaluation is performed in Evaluation.ipynb"
   ]
  },
  {
   "cell_type": "markdown",
   "metadata": {
    "id": "sIaIrXLMUGQa"
   },
   "source": [
    "# STRING\n",
    "\n",
    "Comparison was performed using the code in Evaluation.ipynb"
   ]
  },
  {
   "cell_type": "code",
   "execution_count": 63,
   "metadata": {
    "colab": {
     "base_uri": "https://localhost:8080/"
    },
    "id": "pyRs9FbVUJHe",
    "outputId": "88d23c6b-40bb-485b-8f63-3e4481f06937"
   },
   "outputs": [
    {
     "name": "stderr",
     "output_type": "stream",
     "text": [
      "8548002it [00:05, 1660975.29it/s]\n"
     ]
    }
   ],
   "source": [
    "import tqdm\n",
    "\n",
    "# Create a mapping of proteins to unique numbers from the file\n",
    "protein_list, numbd2 = [], {}\n",
    "c = 0\n",
    "\n",
    "with open(\"./protein.links.v10.txt\", \"r\") as f:\n",
    "    next(f)  # Skip header\n",
    "    for line in tqdm.tqdm(f):\n",
    "        protein1, protein2 = line.strip().split(\" \")[:2]\n",
    "        if protein1 not in numbd2:\n",
    "            numbd2[protein1] = str(c)\n",
    "            protein_list.append(protein1)\n",
    "            c += 1\n",
    "        if protein2 not in numbd2:\n",
    "            numbd2[protein2] = str(c)\n",
    "            protein_list.append(protein2)\n",
    "            c += 1"
   ]
  },
  {
   "cell_type": "code",
   "execution_count": 65,
   "metadata": {
    "colab": {
     "base_uri": "https://localhost:8080/"
    },
    "id": "4zoLJa_FUa72",
    "outputId": "412393eb-bc7f-4e7b-acf5-b57185c94926"
   },
   "outputs": [
    {
     "name": "stderr",
     "output_type": "stream",
     "text": [
      "8548002it [00:06, 1312732.39it/s]\n"
     ]
    }
   ],
   "source": [
    "import tqdm\n",
    "\n",
    "#Paths\n",
    "input_path = \"./protein.links.v10.txt\"\n",
    "output_path = \"string_graph.tsv\"\n",
    "\n",
    "# Mapping genes to unique numbers and writing relationships to a new file\n",
    "with open(input_path, \"r\") as input_file, open(output_path, \"w\") as output_file:\n",
    "    next(input_file)  # Skip header\n",
    "    for line in tqdm.tqdm(input_file):\n",
    "        gene1, gene2, score = line.strip().split(\" \")\n",
    "        output_file.write(f\"{numbd2[gene1]}\\t{numbd2[gene2]}\\t{score}\\n\")"
   ]
  },
  {
   "cell_type": "code",
   "execution_count": 72,
   "metadata": {},
   "outputs": [
    {
     "name": "stderr",
     "output_type": "stream",
     "text": [
      "The iteration has converged at 78-iter:  78%|███████▊  | 78/100 [00:00<00:00, 114.47it/s]\n"
     ]
    },
    {
     "data": {
      "text/plain": [
       "array([1.50372212e-01, 2.13577422e-04, 1.02885063e-04, ...,\n",
       "       4.56252531e-08, 3.27692446e-08, 3.11163359e-08])"
      ]
     },
     "execution_count": 72,
     "metadata": {},
     "output_type": "execute_result"
    }
   ],
   "source": [
    "from pyrwr.rwr import RWR\n",
    "\n",
    "# Set up and read graph\n",
    "rwr2 = RWR()\n",
    "rwr2.read_graph(\"./string_graph.tsv\", \"undirected\")\n",
    "\n",
    "#Using a sample gene ID for testing\n",
    "seed = 0\n",
    "result = rwr2.compute(seed, c=0.15, epsilon=1e-9, max_iters=100, device=\"cpu\") #Default parameter settings\n",
    "result"
   ]
  },
  {
   "cell_type": "code",
   "execution_count": 117,
   "metadata": {
    "colab": {
     "base_uri": "https://localhost:8080/"
    },
    "id": "xe_rifwcUb9w",
    "outputId": "214edac9-6f2f-441d-8b54-0bd3d2843cc8"
   },
   "outputs": [
    {
     "name": "stderr",
     "output_type": "stream",
     "text": [
      "The iteration has converged at 78-iter:  78%|███████▊  | 78/100 [00:00<00:00, 110.11it/s]\n",
      "The iteration has converged at 78-iter:  78%|███████▊  | 78/100 [00:00<00:00, 108.87it/s]\n",
      "The iteration has converged at 78-iter:  78%|███████▊  | 78/100 [00:00<00:00, 113.92it/s]\n",
      "The iteration has converged at 78-iter:  78%|███████▊  | 78/100 [00:00<00:00, 113.03it/s]\n",
      "The iteration has converged at 78-iter:  78%|███████▊  | 78/100 [00:00<00:00, 110.05it/s]\n"
     ]
    }
   ],
   "source": [
    "# Calculate RWR similarity for comparison\n",
    "\n",
    "import pandas as pd\n",
    "import numpy as np\n",
    "symbols = [\"PLK4\",\"SASS6\",\"CEP152\",\"CEP192\",\"PCNT\"] #For demonstration\n",
    "\n",
    "with open(output_path, \"w\") as f:\n",
    "    for symbol in symbols:\n",
    "        ensp =sym_to_ensp[symbol]\n",
    "        seed = numbd2[\"9606.\"+ensp]\n",
    "        result = rwr2.compute(int(seed), c=0.15, epsilon=1e-9, max_iters=100, device=\"cpu\")\n",
    "        \n",
    "        df = pd.DataFrame({\"ENSP\":protein_list,\"Score\":result})\n",
    "        df[\"Symbol\"] = [ensp_to_sym[prot[5:]] if prot[5:] in ensp_to_sym else None for prot in protein_list]\n",
    "        df = df.reindex(columns=['Symbol', 'Score', 'ENSP'])\n",
    "        df.dropna().to_csv(f\"../result/string_rwr/{symbol}.csv\",index=None)\n",
    "\n",
    "#Evaluation is performed in Evaluation.ipynb"
   ]
  },
  {
   "cell_type": "markdown",
   "metadata": {},
   "source": [
    "# For training LEXAS-plus (with cutoffs)"
   ]
  },
  {
   "cell_type": "code",
   "execution_count": null,
   "metadata": {},
   "outputs": [],
   "source": [
    "# Calculate RWR similarity for preparing data for training LEXAS-plus\n",
    "import numpy as np\n",
    "output_path = \"funcoup_rwr.tsv\"\n",
    "cutoff_score = 0.001  # Use a threshold due to vast number of gene combinations\n",
    "with open(output_path, \"w\") as f:\n",
    "    for ensg, seed in numbd.items():\n",
    "        result = rwr.compute(int(seed), c=0.15, epsilon=1e-9, max_iters=100, device=\"cpu\")\n",
    "\n",
    "        # Filter by score, exclude self-relations, and write to file\n",
    "        for n, score in enumerate(result):\n",
    "            if score > cutoff_score and ensg != gene_list[n]:\n",
    "                f.write(f\"{ensg}\\t{gene_list[n]}\\t{round(score*100,3)}\\n\")\n",
    "\n",
    "        break # This is for testing, processing just one gene. Remove for processing all genes."
   ]
  },
  {
   "cell_type": "code",
   "execution_count": null,
   "metadata": {},
   "outputs": [],
   "source": [
    "# Calculate RWR similarity\n",
    "import numpy as np\n",
    "\n",
    "output_path = \"string_rwr.tsv\"\n",
    "cutoff_score = 0.0005  # Use a threshold due to vast number of gene combinations\n",
    "\n",
    "with open(output_path, \"w\") as f:\n",
    "    for ensp, seed in numbd2.items():\n",
    "        result = rwr.compute(int(seed), c=0.15, epsilon=1e-9, max_iters=100, device=\"cpu\")\n",
    "\n",
    "        # Filter by score, exclude self-relations, and write to file\n",
    "        for n, score in enumerate(result):\n",
    "            if score > cutoff_score and ensg != gene_list[n]:\n",
    "                f.write(f\"{ensp}\\t{protein_list[n]}\\t{round(score*100,3)}\\n\")\n",
    "\n",
    "        break # This is for testing, processing just one gene. Remove for processing all genes."
   ]
  },
  {
   "cell_type": "markdown",
   "metadata": {},
   "source": [
    "# STRING-raw and FunCoup-raw\n",
    "Evaluation is performed in Evaluation.ipynb"
   ]
  },
  {
   "cell_type": "code",
   "execution_count": 93,
   "metadata": {},
   "outputs": [
    {
     "name": "stderr",
     "output_type": "stream",
     "text": [
      "5036826it [00:18, 275749.98it/s]\n"
     ]
    }
   ],
   "source": [
    "funcoup5_dict = {symbol:{} for symbol in sym_to_ensg}\n",
    "with open(\"funcoup5.tab\", \"r\") as f:\n",
    "    next(f)  # Skip header\n",
    "    for line in tqdm.tqdm(f):\n",
    "        gene1, gene2, score = line.strip().split(\"\\t\")[2], line.strip().split(\"\\t\")[3], line.strip().split(\"\\t\")[0]\n",
    "        try:\n",
    "            symbol1,symbol2 = ensg_to_sym[gene1],ensg_to_sym[gene2]\n",
    "        except KeyError:\n",
    "            continue\n",
    "        funcoup5_dict[symbol1][symbol2] = score\n",
    "        funcoup5_dict[symbol2][symbol1] = score"
   ]
  },
  {
   "cell_type": "code",
   "execution_count": 116,
   "metadata": {},
   "outputs": [],
   "source": [
    "symbols = [\"PLK4\",\"SASS6\",\"CEP152\",\"CEP192\",\"PCNT\"]\n",
    "for symbol in symbols:\n",
    "    df = pd.DataFrame({\"Symbol\":funcoup5_dict[symbol].keys(),\n",
    "                       \"Score\":funcoup5_dict[symbol].values()})\n",
    "    df.dropna().to_csv(f\"../result/funcoup_raw/{symbol}.csv\",index=None)"
   ]
  },
  {
   "cell_type": "code",
   "execution_count": 111,
   "metadata": {},
   "outputs": [
    {
     "name": "stderr",
     "output_type": "stream",
     "text": [
      "8548002it [00:09, 894341.09it/s]\n"
     ]
    }
   ],
   "source": [
    "string_dict = {symbol:{} for symbol in sym_to_ensp}\n",
    "with open(\"./protein.links.v10.txt\", \"r\") as f:\n",
    "    next(f)  # Skip header\n",
    "    for line in tqdm.tqdm(f):\n",
    "        gene1, gene2, score = line.strip().split(\" \")\n",
    "        try:\n",
    "            symbol1,symbol2 = ensp_to_sym[gene1[5:]],ensp_to_sym[gene2[5:]]\n",
    "        except KeyError:\n",
    "            continue\n",
    "        string_dict[symbol1][symbol2] = score\n",
    "        string_dict[symbol2][symbol1] = score"
   ]
  },
  {
   "cell_type": "code",
   "execution_count": 113,
   "metadata": {},
   "outputs": [],
   "source": [
    "symbols = [\"PLK4\",\"SASS6\",\"CEP152\",\"CEP192\",\"PCNT\"]\n",
    "for symbol in symbols:\n",
    "    df = pd.DataFrame({\"Symbol\":string_dict[symbol].keys(),\n",
    "                       \"Score\":string_dict[symbol].values()})\n",
    "    df.dropna().to_csv(f\"../result/string_raw/{symbol}.csv\",index=None)"
   ]
  }
 ],
 "metadata": {
  "colab": {
   "collapsed_sections": [
    "ki2f-ZQGTftt",
    "m4CnUgkZTjuq",
    "sIaIrXLMUGQa"
   ],
   "provenance": []
  },
  "kernelspec": {
   "display_name": "Python 3",
   "language": "python",
   "name": "python3"
  },
  "language_info": {
   "codemirror_mode": {
    "name": "ipython",
    "version": 3
   },
   "file_extension": ".py",
   "mimetype": "text/x-python",
   "name": "python",
   "nbconvert_exporter": "python",
   "pygments_lexer": "ipython3",
   "version": "3.6.9"
  }
 },
 "nbformat": 4,
 "nbformat_minor": 1
}
