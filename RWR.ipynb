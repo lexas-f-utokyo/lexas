{
 "cells": [
  {
   "cell_type": "markdown",
   "metadata": {
    "id": "ki2f-ZQGTftt"
   },
   "source": [
    "# Install and Download"
   ]
  },
  {
   "cell_type": "code",
   "execution_count": null,
   "metadata": {
    "id": "vuWG5t7iSuwI",
    "scrolled": true
   },
   "outputs": [],
   "source": [
    "#Install pyrwr\n",
    "!git clone https://github.com/jinhongjung/pyrwr.git\n",
    "%cd ./pyrwr\n",
    "!pip install -r requirements.txt"
   ]
  },
  {
   "cell_type": "code",
   "execution_count": null,
   "metadata": {
    "colab": {
     "base_uri": "https://localhost:8080/"
    },
    "id": "MMtbu66sS3Vo",
    "outputId": "81dacab1-128c-409a-9bfa-a44371a69aa3"
   },
   "outputs": [],
   "source": [
    "#Downloading data\n",
    "#FunCoup5\n",
    "!wget \"https://funcoup5.scilifelab.se/downloads/download.action?type=network&instanceID=24480085&fileName=FC5.0_H.sapiens_full.gz\" -O funcoup5.tab.gz\n",
    "!gunzip funcoup5.tab.gz\n",
    "\n",
    "#STRINGv10\n",
    "!wget http://version10.string-db.org/download/protein.links.v10/9606.protein.links.v10.txt.gz -O ./protein.links.v10.txt.gz\n",
    "!gunzip ./protein.links.v10.txt.gz"
   ]
  },
  {
   "cell_type": "code",
   "execution_count": null,
   "metadata": {},
   "outputs": [],
   "source": [
    "import json\n",
    "#Dictionaries for ID conversion\n",
    "path = \"../data/ensg.json\"\n",
    "with open(path, mode=\"r\") as f:\n",
    "    sym_to_ensg = json.load(f)\n",
    "ensg_to_sym = {value: key for key, value in sym_to_ensg.items()}\n",
    "\n",
    "path = \"../data/ensp.json\"\n",
    "with open(path, mode=\"r\") as f:\n",
    "    sym_to_ensp = json.load(f)\n",
    "ensp_to_sym = {value: key for key, value in sym_to_ensp.items()}"
   ]
  },
  {
   "cell_type": "markdown",
   "metadata": {
    "id": "m4CnUgkZTjuq"
   },
   "source": [
    "# FunCoup\n",
    "\n",
    "Comparison is performed using the code in Evaluation.ipynb"
   ]
  },
  {
   "cell_type": "code",
   "execution_count": null,
   "metadata": {
    "colab": {
     "base_uri": "https://localhost:8080/"
    },
    "id": "yocJ8iTRTjCu",
    "outputId": "3082aa6c-cfdf-40cd-cb6b-088c06282c26"
   },
   "outputs": [],
   "source": [
    "import tqdm\n",
    "\n",
    "# Create a mapping of genes to unique numbers from the funcoup file\n",
    "gene_list, numbd =[], {}\n",
    "c = 0\n",
    "\n",
    "with open(\"funcoup5.tab\", \"r\") as f:\n",
    "    next(f)  # Skip header\n",
    "    for line in tqdm.tqdm(f):\n",
    "        gene1, gene2 = line.split(\"\\t\")[2:4]\n",
    "        if gene1 not in numbd:\n",
    "            numbd[gene1] = str(c)\n",
    "            gene_list.append(gene1)\n",
    "            c += 1\n",
    "        if gene2 not in numbd:\n",
    "            numbd[gene2] = str(c)\n",
    "            gene_list.append(gene2)\n",
    "            c += 1"
   ]
  },
  {
   "cell_type": "code",
   "execution_count": null,
   "metadata": {
    "colab": {
     "base_uri": "https://localhost:8080/"
    },
    "id": "ryb6s7XhUA7L",
    "outputId": "421e12c2-c74a-43e4-d119-8e89ebf75bb7"
   },
   "outputs": [],
   "source": [
    "import tqdm\n",
    "\n",
    "# Paths\n",
    "input_path = \"funcoup5.tab\"\n",
    "output_path = \"funcoup_graph.tsv\"\n",
    "\n",
    "# Mapping genes to unique numbers and writing relationships to a new file\n",
    "with open(input_path, \"r\") as input_file, open(output_path, \"w\") as output_file:\n",
    "    next(input_file)  # Skip header\n",
    "    for line in tqdm.tqdm(input_file):\n",
    "        gene1, gene2, score = line.strip().split(\"\\t\")[2], line.strip().split(\"\\t\")[3], line.strip().split(\"\\t\")[0]\n",
    "        output_file.write(\"\\t\".join([numbd[gene1], numbd[gene2], score]) + \"\\n\")\n"
   ]
  },
  {
   "cell_type": "code",
   "execution_count": null,
   "metadata": {
    "colab": {
     "base_uri": "https://localhost:8080/"
    },
    "id": "pRBoOMwjU06g",
    "outputId": "59a1e9d8-90bb-4365-ee87-dcefd98af961"
   },
   "outputs": [],
   "source": [
    "from pyrwr.rwr import RWR\n",
    "\n",
    "# Set up and read graph\n",
    "rwr = RWR()\n",
    "rwr.read_graph(\"./funcoup_graph.tsv\", \"undirected\")\n",
    "\n",
    "#Using a sample gene ID for testing\n",
    "seed = 0\n",
    "result = rwr.compute(seed, c=0.15, epsilon=1e-9, max_iters=100, device=\"cpu\") #Default parameter settings\n",
    "result"
   ]
  },
  {
   "cell_type": "code",
   "execution_count": null,
   "metadata": {},
   "outputs": [],
   "source": [
    "# Calculate RWR similarity for comparison\n",
    "import pandas as pd\n",
    "import numpy as np\n",
    "symbols = [\"PLK4\",\"SASS6\",\"CEP152\",\"CEP192\",\"CEP63\",\"PCNT\"] #For demonstration\n",
    "\n",
    "for symbol in symbols:\n",
    "    ensg =sym_to_ensg[symbol]\n",
    "    seed = numbd[ensg]\n",
    "    result = rwr.compute(int(seed), c=0.15, epsilon=1e-9, max_iters=100, device=\"cpu\")\n",
    "\n",
    "    df = pd.DataFrame({\"ENSG\":gene_list,\"Score\":result})\n",
    "    df[\"Symbol\"] = [ensg_to_sym[gene] if gene in ensg_to_sym else None for gene in gene_list]\n",
    "    df = df.reindex(columns=['Symbol', 'Score', 'ENSG'])\n",
    "    df.dropna().to_csv(f\"../result/funcoup_rwr/{symbol}.csv\",index=None)\n",
    "\n",
    "#Evaluation is performed in Evaluation.ipynb"
   ]
  },
  {
   "cell_type": "markdown",
   "metadata": {
    "id": "sIaIrXLMUGQa"
   },
   "source": [
    "# STRING\n",
    "\n",
    "Comparison was performed using the code in Evaluation.ipynb"
   ]
  },
  {
   "cell_type": "code",
   "execution_count": null,
   "metadata": {
    "colab": {
     "base_uri": "https://localhost:8080/"
    },
    "id": "pyRs9FbVUJHe",
    "outputId": "88d23c6b-40bb-485b-8f63-3e4481f06937"
   },
   "outputs": [],
   "source": [
    "import tqdm\n",
    "\n",
    "# Create a mapping of proteins to unique numbers from the file\n",
    "protein_list, numbd2 = [], {}\n",
    "c = 0\n",
    "\n",
    "with open(\"./protein.links.v10.txt\", \"r\") as f:\n",
    "    next(f)  # Skip header\n",
    "    for line in tqdm.tqdm(f):\n",
    "        protein1, protein2 = line.strip().split(\" \")[:2]\n",
    "        if protein1 not in numbd2:\n",
    "            numbd2[protein1] = str(c)\n",
    "            protein_list.append(protein1)\n",
    "            c += 1\n",
    "        if protein2 not in numbd2:\n",
    "            numbd2[protein2] = str(c)\n",
    "            protein_list.append(protein2)\n",
    "            c += 1"
   ]
  },
  {
   "cell_type": "code",
   "execution_count": null,
   "metadata": {
    "colab": {
     "base_uri": "https://localhost:8080/"
    },
    "id": "4zoLJa_FUa72",
    "outputId": "412393eb-bc7f-4e7b-acf5-b57185c94926"
   },
   "outputs": [],
   "source": [
    "import tqdm\n",
    "\n",
    "#Paths\n",
    "input_path = \"./protein.links.v10.txt\"\n",
    "output_path = \"string_graph.tsv\"\n",
    "\n",
    "# Mapping genes to unique numbers and writing relationships to a new file\n",
    "with open(input_path, \"r\") as input_file, open(output_path, \"w\") as output_file:\n",
    "    next(input_file)  # Skip header\n",
    "    for line in tqdm.tqdm(input_file):\n",
    "        gene1, gene2, score = line.strip().split(\" \")\n",
    "        output_file.write(f\"{numbd2[gene1]}\\t{numbd2[gene2]}\\t{score}\\n\")"
   ]
  },
  {
   "cell_type": "code",
   "execution_count": null,
   "metadata": {},
   "outputs": [],
   "source": [
    "from pyrwr.rwr import RWR\n",
    "\n",
    "# Set up and read graph\n",
    "rwr2 = RWR()\n",
    "rwr2.read_graph(\"./string_graph.tsv\", \"undirected\")\n",
    "\n",
    "#Using a sample gene ID for testing\n",
    "seed = 0\n",
    "result = rwr2.compute(seed, c=0.15, epsilon=1e-9, max_iters=100, device=\"cpu\") #Default parameter settings\n",
    "result"
   ]
  },
  {
   "cell_type": "code",
   "execution_count": null,
   "metadata": {
    "colab": {
     "base_uri": "https://localhost:8080/"
    },
    "id": "xe_rifwcUb9w",
    "outputId": "214edac9-6f2f-441d-8b54-0bd3d2843cc8"
   },
   "outputs": [],
   "source": [
    "# Calculate RWR similarity for comparison\n",
    "\n",
    "import pandas as pd\n",
    "import numpy as np\n",
    "symbols = [\"PLK4\",\"SASS6\",\"CEP152\",\"CEP192\",\"PCNT\"] #For demonstration\n",
    "\n",
    "with open(output_path, \"w\") as f:\n",
    "    for symbol in symbols:\n",
    "        ensp =sym_to_ensp[symbol]\n",
    "        seed = numbd2[\"9606.\"+ensp]\n",
    "        result = rwr2.compute(int(seed), c=0.15, epsilon=1e-9, max_iters=100, device=\"cpu\")\n",
    "        \n",
    "        df = pd.DataFrame({\"ENSP\":protein_list,\"Score\":result})\n",
    "        df[\"Symbol\"] = [ensp_to_sym[prot[5:]] if prot[5:] in ensp_to_sym else None for prot in protein_list]\n",
    "        df = df.reindex(columns=['Symbol', 'Score', 'ENSP'])\n",
    "        df.dropna().to_csv(f\"../result/string_rwr/{symbol}.csv\",index=None)\n",
    "\n",
    "#Evaluation is performed in Evaluation.ipynb"
   ]
  },
  {
   "cell_type": "markdown",
   "metadata": {},
   "source": [
    "# For training LEXAS-plus (with cutoffs)"
   ]
  },
  {
   "cell_type": "code",
   "execution_count": null,
   "metadata": {},
   "outputs": [],
   "source": [
    "# Calculate RWR similarity for preparing data for training LEXAS-plus\n",
    "import numpy as np\n",
    "output_path = \"funcoup_rwr.tsv\"\n",
    "cutoff_score = 0.001  # Use a threshold due to vast number of gene combinations\n",
    "with open(output_path, \"w\") as f:\n",
    "    for ensg, seed in numbd.items():\n",
    "        result = rwr.compute(int(seed), c=0.15, epsilon=1e-9, max_iters=100, device=\"cpu\")\n",
    "\n",
    "        # Filter by score, exclude self-relations, and write to file\n",
    "        for n, score in enumerate(result):\n",
    "            if score > cutoff_score and ensg != gene_list[n]:\n",
    "                f.write(f\"{ensg}\\t{gene_list[n]}\\t{round(score*100,3)}\\n\")\n",
    "\n",
    "        break # This is for testing, processing just one gene. Remove for processing all genes."
   ]
  },
  {
   "cell_type": "code",
   "execution_count": null,
   "metadata": {},
   "outputs": [],
   "source": [
    "# Calculate RWR similarity\n",
    "import numpy as np\n",
    "\n",
    "output_path = \"string_rwr.tsv\"\n",
    "cutoff_score = 0.0005  # Use a threshold due to vast number of gene combinations\n",
    "\n",
    "with open(output_path, \"w\") as f:\n",
    "    for ensp, seed in numbd2.items():\n",
    "        result = rwr.compute(int(seed), c=0.15, epsilon=1e-9, max_iters=100, device=\"cpu\")\n",
    "\n",
    "        # Filter by score, exclude self-relations, and write to file\n",
    "        for n, score in enumerate(result):\n",
    "            if score > cutoff_score and ensg != gene_list[n]:\n",
    "                f.write(f\"{ensp}\\t{protein_list[n]}\\t{round(score*100,3)}\\n\")\n",
    "\n",
    "        break # This is for testing, processing just one gene. Remove for processing all genes."
   ]
  },
  {
   "cell_type": "markdown",
   "metadata": {},
   "source": [
    "# STRING-raw and FunCoup-raw\n",
    "Evaluation is performed in Evaluation.ipynb"
   ]
  },
  {
   "cell_type": "code",
   "execution_count": null,
   "metadata": {},
   "outputs": [],
   "source": [
    "funcoup5_dict = {symbol:{} for symbol in sym_to_ensg}\n",
    "with open(\"funcoup5.tab\", \"r\") as f:\n",
    "    next(f)  # Skip header\n",
    "    for line in tqdm.tqdm(f):\n",
    "        gene1, gene2, score = line.strip().split(\"\\t\")[2], line.strip().split(\"\\t\")[3], line.strip().split(\"\\t\")[0]\n",
    "        try:\n",
    "            symbol1,symbol2 = ensg_to_sym[gene1],ensg_to_sym[gene2]\n",
    "        except KeyError:\n",
    "            continue\n",
    "        funcoup5_dict[symbol1][symbol2] = score\n",
    "        funcoup5_dict[symbol2][symbol1] = score"
   ]
  },
  {
   "cell_type": "code",
   "execution_count": null,
   "metadata": {},
   "outputs": [],
   "source": [
    "symbols = [\"PLK4\",\"SASS6\",\"CEP152\",\"CEP192\",\"PCNT\"]\n",
    "for symbol in symbols:\n",
    "    df = pd.DataFrame({\"Symbol\":funcoup5_dict[symbol].keys(),\n",
    "                       \"Score\":funcoup5_dict[symbol].values()})\n",
    "    df.dropna().to_csv(f\"../result/funcoup_raw/{symbol}.csv\",index=None)"
   ]
  },
  {
   "cell_type": "code",
   "execution_count": null,
   "metadata": {},
   "outputs": [],
   "source": [
    "string_dict = {symbol:{} for symbol in sym_to_ensp}\n",
    "with open(\"./protein.links.v10.txt\", \"r\") as f:\n",
    "    next(f)  # Skip header\n",
    "    for line in tqdm.tqdm(f):\n",
    "        gene1, gene2, score = line.strip().split(\" \")\n",
    "        try:\n",
    "            symbol1,symbol2 = ensp_to_sym[gene1[5:]],ensp_to_sym[gene2[5:]]\n",
    "        except KeyError:\n",
    "            continue\n",
    "        string_dict[symbol1][symbol2] = score\n",
    "        string_dict[symbol2][symbol1] = score"
   ]
  },
  {
   "cell_type": "code",
   "execution_count": null,
   "metadata": {},
   "outputs": [],
   "source": [
    "symbols = [\"PLK4\",\"SASS6\",\"CEP152\",\"CEP192\",\"PCNT\"]\n",
    "for symbol in symbols:\n",
    "    df = pd.DataFrame({\"Symbol\":string_dict[symbol].keys(),\n",
    "                       \"Score\":string_dict[symbol].values()})\n",
    "    df.dropna().to_csv(f\"../result/string_raw/{symbol}.csv\",index=None)"
   ]
  }
 ],
 "metadata": {
  "colab": {
   "collapsed_sections": [
    "ki2f-ZQGTftt",
    "m4CnUgkZTjuq",
    "sIaIrXLMUGQa"
   ],
   "provenance": []
  },
  "kernelspec": {
   "display_name": "Python 3",
   "language": "python",
   "name": "python3"
  },
  "language_info": {
   "codemirror_mode": {
    "name": "ipython",
    "version": 3
   },
   "file_extension": ".py",
   "mimetype": "text/x-python",
   "name": "python",
   "nbconvert_exporter": "python",
   "pygments_lexer": "ipython3",
   "version": "3.6.9"
  }
 },
 "nbformat": 4,
 "nbformat_minor": 1
}
