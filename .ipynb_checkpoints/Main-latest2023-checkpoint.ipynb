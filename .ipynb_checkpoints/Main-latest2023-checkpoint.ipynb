{
 "cells": [
  {
   "cell_type": "markdown",
   "id": "curious-simpson",
   "metadata": {},
   "source": [
    "# Sentence Extraction from PMC articles"
   ]
  },
  {
   "cell_type": "code",
   "execution_count": 1,
   "id": "frequent-redhead",
   "metadata": {},
   "outputs": [],
   "source": [
    "import lexas.sentence"
   ]
  },
  {
   "cell_type": "code",
   "execution_count": 5,
   "id": "general-completion",
   "metadata": {},
   "outputs": [
    {
     "name": "stdout",
     "output_type": "stream",
     "text": [
      "/mnt/a/nxml/data\n"
     ]
    }
   ],
   "source": [
    "%cd /mnt/a/nxml/data"
   ]
  },
  {
   "cell_type": "code",
   "execution_count": 14,
   "id": "polished-hygiene",
   "metadata": {},
   "outputs": [
    {
     "name": "stdout",
     "output_type": "stream",
     "text": [
      "Filesystem      Size  Used Avail Use% Mounted on\r\n",
      "udev             32G     0   32G   0% /dev\r\n",
      "tmpfs           6.3G  2.1M  6.3G   1% /run\r\n",
      "/dev/sda5       480G   27G  454G   6% /\r\n",
      "tmpfs            32G  8.0K   32G   1% /dev/shm\r\n",
      "tmpfs           5.0M  4.0K  5.0M   1% /run/lock\r\n",
      "tmpfs            32G     0   32G   0% /sys/fs/cgroup\r\n",
      "/dev/loop0      9.7M  9.7M     0 100% /snap/canonical-livepatch/202\r\n",
      "/dev/loop1      117M  117M     0 100% /snap/core/14946\r\n",
      "/dev/loop2      117M  117M     0 100% /snap/core/14784\r\n",
      "/dev/loop3      9.7M  9.7M     0 100% /snap/canonical-livepatch/209\r\n",
      "/dev/sda6       393G  309G   84G  79% /home\r\n",
      "/dev/sda2       2.0G  433M  1.5G  23% /boot\r\n",
      "/dev/sda1        50M  5.3M   45M  11% /boot/efi\r\n",
      "tmpfs           6.3G   16K  6.3G   1% /run/user/125\r\n",
      "tmpfs           6.3G  5.5M  6.3G   1% /run/user/1000\r\n",
      "/dev/sdb1       1.8T  1.3T  453G  74% /mnt/a\r\n"
     ]
    }
   ],
   "source": [
    "!df -h"
   ]
  },
  {
   "cell_type": "code",
   "execution_count": 16,
   "id": "scenic-solomon",
   "metadata": {},
   "outputs": [
    {
     "name": "stdout",
     "output_type": "stream",
     "text": [
      "82G\t./PMC008xxxxxx\n",
      "61G\t./PMC005xxxxxx\n",
      "63G\t./PMC004xxxxxx\n",
      "57G\t./PMC003xxxxxx\n",
      "75G\t./PMC007xxxxxx\n",
      "2.3G\t./PMC001xxxxxx\n",
      "67G\t./PMC006xxxxxx\n",
      "630M\t./PMC000xxxxxx\n",
      "73G\t./PMC009xxxxxx\n",
      "22G\t./PMC002xxxxxx\n",
      "500G\t.\n"
     ]
    }
   ],
   "source": [
    "!du . -h"
   ]
  },
  {
   "cell_type": "code",
   "execution_count": 13,
   "id": "catholic-russia",
   "metadata": {},
   "outputs": [],
   "source": [
    "!rm *.tar.gz"
   ]
  },
  {
   "cell_type": "code",
   "execution_count": 2,
   "id": "analyzed-louis",
   "metadata": {},
   "outputs": [
    {
     "name": "stderr",
     "output_type": "stream",
     "text": [
      "100%|██████████| 7/7 [00:04<00:00,  1.63it/s]\n"
     ]
    }
   ],
   "source": [
    "#Extracting all sections\n",
    "def ex(n):\n",
    "    lexas.sentence.result_extraction(article_dir=\"/mnt/a/nxml/data/PMC00{}xxxxxx\".format(n),\n",
    "                                 output=\"/mnt/a/nxml/data/result{}.txt\".format(n),\n",
    "                                 )\n",
    "with concurrent.futures.ProcessPoolExecutor() as executor:\n",
    "    for n in range(10):\n",
    "        excutor.submit(ex,n)"
   ]
  },
  {
   "cell_type": "code",
   "execution_count": 3,
   "id": "warming-recovery",
   "metadata": {},
   "outputs": [
    {
     "name": "stdout",
     "output_type": "stream",
     "text": [
      "Initializing dictionaries...\n"
     ]
    },
    {
     "name": "stderr",
     "output_type": "stream",
     "text": [
      "150it [00:00, 1588.55it/s]"
     ]
    },
    {
     "name": "stdout",
     "output_type": "stream",
     "text": [
      "Done\n"
     ]
    },
    {
     "name": "stderr",
     "output_type": "stream",
     "text": [
      "\n"
     ]
    }
   ],
   "source": [
    "#Masking gene terms and experiments\n",
    "lexas.sentence.mask_gene_experiment(input=\"./data/result_sections.txt\",\n",
    "                                    output=\"./data/masked_sentences.txt\")"
   ]
  },
  {
   "cell_type": "code",
   "execution_count": 4,
   "id": "infinite-stockholm",
   "metadata": {},
   "outputs": [
    {
     "name": "stderr",
     "output_type": "stream",
     "text": [
      "0it [00:00, ?it/s]/home/user/Desktop/lexas/lexas/relation_extraction.py:29: UserWarning: Implicit dimension choice for softmax has been deprecated. Change the call to include dim=X as an argument.\n",
      "  out= m(all_encoder_layers[0])\n",
      "764it [01:27,  8.69it/s]\n"
     ]
    }
   ],
   "source": [
    "#Relation extraction using bio-BERT\n",
    "import lexas.relation_extraction\n",
    "import torch\n",
    "lexas.relation_extraction.predict(device=torch.device(\"cpu\"),#device=torch.device(\"cuda\")\n",
    "                                  input=\"./data/masked_sentences.txt\",\n",
    "                                  output=\"./data/masked_sentences_bert.txt\")"
   ]
  },
  {
   "cell_type": "markdown",
   "id": "computational-panel",
   "metadata": {},
   "source": [
    "# Prediction model for genes"
   ]
  },
  {
   "cell_type": "code",
   "execution_count": 2,
   "id": "satisfied-merchandise",
   "metadata": {},
   "outputs": [],
   "source": [
    "import lexas.prediction"
   ]
  },
  {
   "cell_type": "code",
   "execution_count": 4,
   "id": "qualified-southwest",
   "metadata": {},
   "outputs": [
    {
     "name": "stderr",
     "output_type": "stream",
     "text": [
      "455it [00:00, 371213.44it/s]"
     ]
    },
    {
     "name": "stdout",
     "output_type": "stream",
     "text": [
      "Done!\n"
     ]
    },
    {
     "name": "stderr",
     "output_type": "stream",
     "text": [
      "\n"
     ]
    }
   ],
   "source": [
    "#Extraction of experment_context\n",
    "lexas.prediction.experiment_context(input=\"./data/masked_sentences_bert.txt\",\n",
    "                                    output=\"./data/experiments_for_xgboost.csv\")"
   ]
  },
  {
   "cell_type": "code",
   "execution_count": 3,
   "id": "mobile-associate",
   "metadata": {},
   "outputs": [
    {
     "name": "stdout",
     "output_type": "stream",
     "text": [
      "Loading categorical features...\n",
      "Loading numerical features...\n",
      "Loading STRING...\n",
      "Loading FunCoup...\n",
      "Loading GoSemSim...\n"
     ]
    }
   ],
   "source": [
    "#Loading features\n",
    "lexas.prediction.feature_load()\n",
    "symbols = lexas.prediction.symbols\n",
    "\n",
    "cat_use = ['Chromosome', 'GO', 'MGI', 'HPO', 'OMIM', 'TF', 'iRefIndex', 'Localization', 'WebSter']\n",
    "num_use = ['Tissue_expression', 'Cancer_expression', 'DepMap', 'Word2Vec']\n",
    "plus = [\"String\",\"Funcoup\",\"GOSemSim\"]\n",
    "\n",
    "feature_list,gene_cat,gene_num = lexas.prediction.choose_feature(cat_use,num_use)"
   ]
  },
  {
   "cell_type": "code",
   "execution_count": 29,
   "id": "noted-hanging",
   "metadata": {},
   "outputs": [
    {
     "name": "stdout",
     "output_type": "stream",
     "text": [
      "List of features\n",
      "['10p', '10q', '11p', '11q', '12p', '12q', '13q', '14p', '14q', '15q']\n",
      "\n",
      "Features assigned to a gene\n",
      "['10q', 'GO:0046686', 'GO:0065003', 'GO:0005634', 'GO:0030261', 'GO:0004674', 'GO:0000086', 'GO:0007098', 'GO:0060045', 'GO:0006281']\n",
      "\n",
      "Numerical features assigned to a gene\n",
      "dict_keys(['Tissue_expression', 'Cancer_expression', 'DepMap', 'Word2Vec'])\n"
     ]
    }
   ],
   "source": [
    "print(\"List of features\")\n",
    "print(feature_list[:10])\n",
    "\n",
    "print(\"\\nFeatures assigned to a gene\")\n",
    "print(gene_cat[\"CDK1\"][:10])\n",
    "\n",
    "print(\"\\nNumerical features assigned to a gene\")\n",
    "print(gene_num.keys())"
   ]
  },
  {
   "cell_type": "code",
   "execution_count": 10,
   "id": "dense-brighton",
   "metadata": {},
   "outputs": [
    {
     "name": "stdout",
     "output_type": "stream",
     "text": [
      "Constructing CSR matrix...  Done\n",
      "Constructing CSR matrix...  Done\n"
     ]
    }
   ],
   "source": [
    "#Constracting csr matrix\n",
    "path_to_csv =\"./data/experiments_for_xgboost.csv\"\n",
    "\n",
    "#Experiment tuples for training \n",
    "#Return tuples of positive examples and 3 times the number of negative examples\n",
    "posi_tuple,nega_tuple = lexas.prediction.make_tuple(path_to_csv,1990,2023,nega=3)\n",
    "\n",
    "#Experiment tuples for validation\n",
    "#from 2021-2023\n",
    "posi_tuple_dev,nega_tuple_dev = lexas.prediction.make_tuple(path_to_csv,2021,2023,nega=3)\n",
    "\n",
    "#Constructing CSR sparse matrix for training\n",
    "X,y = lexas.prediction.make_csr(posi_tuple,\n",
    "                                nega_tuple,\n",
    "                                gene_cat,\n",
    "                                feature_list,\n",
    "                                gene_num,\n",
    "                                plus=plus)\n",
    "\n",
    "#Test train split for early stopping\n",
    "from sklearn.model_selection import train_test_split\n",
    "X_train, X_test, y_train, y_test = train_test_split(X, y, test_size=0.2, random_state=42,stratify=y)"
   ]
  },
  {
   "cell_type": "code",
   "execution_count": 17,
   "id": "mathematical-violin",
   "metadata": {
    "collapsed": true
   },
   "outputs": [
    {
     "name": "stdout",
     "output_type": "stream",
     "text": [
      "[17:13:05] WARNING: ../src/learner.cc:1095: Starting in XGBoost 1.3.0, the default evaluation metric used with the objective 'binary:logistic' was changed from 'error' to 'logloss'. Explicitly set eval_metric if you'd like to restore the old behavior.\n",
      "[0]\tvalidation_0-logloss:0.68686\n",
      "[1]\tvalidation_0-logloss:0.68097\n",
      "[2]\tvalidation_0-logloss:0.67544\n",
      "[3]\tvalidation_0-logloss:0.67024\n",
      "[4]\tvalidation_0-logloss:0.66392\n",
      "[5]\tvalidation_0-logloss:0.65929\n",
      "[6]\tvalidation_0-logloss:0.65426\n",
      "[7]\tvalidation_0-logloss:0.65009\n",
      "[8]\tvalidation_0-logloss:0.64551\n",
      "[9]\tvalidation_0-logloss:0.64020\n",
      "[10]\tvalidation_0-logloss:0.63527\n",
      "[11]\tvalidation_0-logloss:0.63162\n",
      "[12]\tvalidation_0-logloss:0.62700\n",
      "[13]\tvalidation_0-logloss:0.62337\n",
      "[14]\tvalidation_0-logloss:0.62030\n",
      "[15]\tvalidation_0-logloss:0.61741\n",
      "[16]\tvalidation_0-logloss:0.61347\n",
      "[17]\tvalidation_0-logloss:0.61038\n",
      "[18]\tvalidation_0-logloss:0.60806\n",
      "[19]\tvalidation_0-logloss:0.60460\n",
      "[20]\tvalidation_0-logloss:0.60188\n"
     ]
    },
    {
     "name": "stderr",
     "output_type": "stream",
     "text": [
      "/home/user/.local/lib/python3.6/site-packages/xgboost/sklearn.py:1146: UserWarning: The use of label encoder in XGBClassifier is deprecated and will be removed in a future release. To remove this warning, do the following: 1) Pass option use_label_encoder=False when constructing XGBClassifier object; and 2) Encode your labels (y) as integers starting with 0, i.e. 0, 1, 2, ..., [num_class - 1].\n",
      "  warnings.warn(label_encoder_deprecation_msg, UserWarning)\n"
     ]
    },
    {
     "name": "stdout",
     "output_type": "stream",
     "text": [
      "[21]\tvalidation_0-logloss:0.59986\n",
      "[22]\tvalidation_0-logloss:0.59881\n",
      "[23]\tvalidation_0-logloss:0.59586\n",
      "[24]\tvalidation_0-logloss:0.59409\n",
      "[25]\tvalidation_0-logloss:0.59184\n",
      "[26]\tvalidation_0-logloss:0.59024\n",
      "[27]\tvalidation_0-logloss:0.58953\n",
      "[28]\tvalidation_0-logloss:0.58707\n",
      "[29]\tvalidation_0-logloss:0.58566\n",
      "[30]\tvalidation_0-logloss:0.58513\n",
      "[31]\tvalidation_0-logloss:0.58296\n",
      "[32]\tvalidation_0-logloss:0.58171\n",
      "[33]\tvalidation_0-logloss:0.58001\n",
      "[34]\tvalidation_0-logloss:0.57821\n",
      "[35]\tvalidation_0-logloss:0.57711\n",
      "[36]\tvalidation_0-logloss:0.57685\n",
      "[37]\tvalidation_0-logloss:0.57511\n",
      "[38]\tvalidation_0-logloss:0.57413\n",
      "[39]\tvalidation_0-logloss:0.57399\n",
      "[40]\tvalidation_0-logloss:0.57246\n",
      "[41]\tvalidation_0-logloss:0.57158\n",
      "[42]\tvalidation_0-logloss:0.57031\n",
      "[43]\tvalidation_0-logloss:0.56951\n",
      "[44]\tvalidation_0-logloss:0.56951\n",
      "[45]\tvalidation_0-logloss:0.56818\n",
      "[46]\tvalidation_0-logloss:0.56686\n",
      "[47]\tvalidation_0-logloss:0.56616\n",
      "[48]\tvalidation_0-logloss:0.56538\n",
      "[49]\tvalidation_0-logloss:0.56550\n",
      "[50]\tvalidation_0-logloss:0.56438\n",
      "[51]\tvalidation_0-logloss:0.56377\n",
      "[52]\tvalidation_0-logloss:0.56309\n",
      "[53]\tvalidation_0-logloss:0.56191\n",
      "[54]\tvalidation_0-logloss:0.56136\n",
      "[55]\tvalidation_0-logloss:0.55983\n",
      "[56]\tvalidation_0-logloss:0.55922\n",
      "[57]\tvalidation_0-logloss:0.55948\n",
      "[58]\tvalidation_0-logloss:0.55898\n",
      "[59]\tvalidation_0-logloss:0.55810\n",
      "[60]\tvalidation_0-logloss:0.55757\n",
      "[61]\tvalidation_0-logloss:0.55655\n",
      "[62]\tvalidation_0-logloss:0.55611\n",
      "[63]\tvalidation_0-logloss:0.55561\n",
      "[64]\tvalidation_0-logloss:0.55596\n",
      "[65]\tvalidation_0-logloss:0.55470\n",
      "[66]\tvalidation_0-logloss:0.55431\n",
      "[67]\tvalidation_0-logloss:0.55387\n",
      "[68]\tvalidation_0-logloss:0.55294\n",
      "[69]\tvalidation_0-logloss:0.55258\n",
      "[70]\tvalidation_0-logloss:0.55298\n",
      "[71]\tvalidation_0-logloss:0.55258\n",
      "[72]\tvalidation_0-logloss:0.55149\n",
      "[73]\tvalidation_0-logloss:0.55118\n",
      "[74]\tvalidation_0-logloss:0.55031\n",
      "[75]\tvalidation_0-logloss:0.54996\n",
      "[76]\tvalidation_0-logloss:0.54911\n",
      "[77]\tvalidation_0-logloss:0.54882\n",
      "[78]\tvalidation_0-logloss:0.54927\n",
      "[79]\tvalidation_0-logloss:0.54895\n",
      "[80]\tvalidation_0-logloss:0.54797\n",
      "[81]\tvalidation_0-logloss:0.54771\n",
      "[82]\tvalidation_0-logloss:0.54692\n",
      "[83]\tvalidation_0-logloss:0.54663\n",
      "[84]\tvalidation_0-logloss:0.54640\n",
      "[85]\tvalidation_0-logloss:0.54618\n",
      "[86]\tvalidation_0-logloss:0.54524\n",
      "[87]\tvalidation_0-logloss:0.54573\n",
      "[88]\tvalidation_0-logloss:0.54547\n",
      "[89]\tvalidation_0-logloss:0.54526\n"
     ]
    }
   ],
   "source": [
    "import xgboost as xgb\n",
    "from sklearn.metrics import roc_auc_score\n",
    "import pickle\n",
    "model = xgb.XGBClassifier(objective= \"binary:logistic\",\n",
    "                                 alpha=1e-3, \n",
    "                                 min_child_weight=10,\n",
    "                                 max_depth=30,\n",
    "                                 n_estimators=40000,\n",
    "                                 n_jobs=-1,\n",
    "                                 eta=0.03)\n",
    "model.fit(X_train,y_train,early_stopping_rounds=3, eval_set=[[X_test, y_test]])\n",
    "pickle.dump(model, open(\"./model/xgboost.pickle\", \"wb\"))"
   ]
  },
  {
   "cell_type": "markdown",
   "id": "systematic-philosophy",
   "metadata": {},
   "source": [
    "# Gene prediction for the next experiment"
   ]
  },
  {
   "cell_type": "code",
   "execution_count": 27,
   "id": "excellent-contrast",
   "metadata": {},
   "outputs": [],
   "source": [
    "import os\n",
    "import lexas.prediction\n",
    "import pickle\n",
    "\n",
    "model = pickle.load(open(\"./model/xgboost.pickle\",\"rb\"))\n",
    "models={\"xgboost\":model}\n",
    "query=\"CEP63\"\n",
    "\n",
    "scores = lexas.prediction.scoring(query,models,gene_cat,feature_list,gene_num,plus=plus)"
   ]
  },
  {
   "cell_type": "code",
   "execution_count": 28,
   "id": "younger-finding",
   "metadata": {},
   "outputs": [
    {
     "data": {
      "text/html": [
       "<div>\n",
       "<style scoped>\n",
       "    .dataframe tbody tr th:only-of-type {\n",
       "        vertical-align: middle;\n",
       "    }\n",
       "\n",
       "    .dataframe tbody tr th {\n",
       "        vertical-align: top;\n",
       "    }\n",
       "\n",
       "    .dataframe thead th {\n",
       "        text-align: right;\n",
       "    }\n",
       "</style>\n",
       "<table border=\"1\" class=\"dataframe\">\n",
       "  <thead>\n",
       "    <tr style=\"text-align: right;\">\n",
       "      <th></th>\n",
       "      <th>Symbol</th>\n",
       "      <th>xgboost</th>\n",
       "    </tr>\n",
       "  </thead>\n",
       "  <tbody>\n",
       "    <tr>\n",
       "      <th>22427</th>\n",
       "      <td>KIAA0753</td>\n",
       "      <td>0.540400</td>\n",
       "    </tr>\n",
       "    <tr>\n",
       "      <th>2913</th>\n",
       "      <td>CENPJ</td>\n",
       "      <td>0.535109</td>\n",
       "    </tr>\n",
       "    <tr>\n",
       "      <th>22645</th>\n",
       "      <td>STAG1</td>\n",
       "      <td>0.535109</td>\n",
       "    </tr>\n",
       "    <tr>\n",
       "      <th>2594</th>\n",
       "      <td>CCP110</td>\n",
       "      <td>0.530327</td>\n",
       "    </tr>\n",
       "    <tr>\n",
       "      <th>8866</th>\n",
       "      <td>KNTC1</td>\n",
       "      <td>0.530327</td>\n",
       "    </tr>\n",
       "    <tr>\n",
       "      <th>1872</th>\n",
       "      <td>C2CD3</td>\n",
       "      <td>0.485176</td>\n",
       "    </tr>\n",
       "    <tr>\n",
       "      <th>2939</th>\n",
       "      <td>CEP63</td>\n",
       "      <td>0.485176</td>\n",
       "    </tr>\n",
       "    <tr>\n",
       "      <th>5135</th>\n",
       "      <td>EML3</td>\n",
       "      <td>0.481228</td>\n",
       "    </tr>\n",
       "    <tr>\n",
       "      <th>15639</th>\n",
       "      <td>RBM18</td>\n",
       "      <td>0.480379</td>\n",
       "    </tr>\n",
       "    <tr>\n",
       "      <th>6777</th>\n",
       "      <td>GPBP1L1</td>\n",
       "      <td>0.480379</td>\n",
       "    </tr>\n",
       "  </tbody>\n",
       "</table>\n",
       "</div>"
      ],
      "text/plain": [
       "         Symbol   xgboost\n",
       "22427  KIAA0753  0.540400\n",
       "2913      CENPJ  0.535109\n",
       "22645     STAG1  0.535109\n",
       "2594     CCP110  0.530327\n",
       "8866      KNTC1  0.530327\n",
       "1872      C2CD3  0.485176\n",
       "2939      CEP63  0.485176\n",
       "5135       EML3  0.481228\n",
       "15639     RBM18  0.480379\n",
       "6777    GPBP1L1  0.480379"
      ]
     },
     "execution_count": 28,
     "metadata": {},
     "output_type": "execute_result"
    }
   ],
   "source": [
    "#Result\n",
    "import pandas as pd\n",
    "df = pd.DataFrame(scores)\n",
    "df.sort_values(\"xgboost\",ascending=False)[:10]"
   ]
  },
  {
   "cell_type": "code",
   "execution_count": null,
   "id": "pharmaceutical-groove",
   "metadata": {},
   "outputs": [],
   "source": []
  }
 ],
 "metadata": {
  "kernelspec": {
   "display_name": "Python 3",
   "language": "python",
   "name": "python3"
  },
  "language_info": {
   "codemirror_mode": {
    "name": "ipython",
    "version": 3
   },
   "file_extension": ".py",
   "mimetype": "text/x-python",
   "name": "python",
   "nbconvert_exporter": "python",
   "pygments_lexer": "ipython3",
   "version": "3.6.9"
  }
 },
 "nbformat": 4,
 "nbformat_minor": 5
}
