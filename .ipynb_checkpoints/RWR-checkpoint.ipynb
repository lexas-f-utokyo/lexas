{
 "cells": [
  {
   "cell_type": "markdown",
   "metadata": {
    "id": "ki2f-ZQGTftt"
   },
   "source": [
    "# Install and Download"
   ]
  },
  {
   "cell_type": "code",
   "execution_count": null,
   "metadata": {
    "id": "vuWG5t7iSuwI"
   },
   "outputs": [],
   "source": [
    "#Install pyrwr\n",
    "!git clone https://github.com/jinhongjung/pyrwr.git\n",
    "%cd ./pyrwr\n",
    "!pip install -r requirements.txt"
   ]
  },
  {
   "cell_type": "code",
   "execution_count": 2,
   "metadata": {
    "colab": {
     "base_uri": "https://localhost:8080/"
    },
    "collapsed": true,
    "id": "MMtbu66sS3Vo",
    "outputId": "81dacab1-128c-409a-9bfa-a44371a69aa3"
   },
   "outputs": [
    {
     "name": "stdout",
     "output_type": "stream",
     "text": [
      "--2023-10-19 04:59:33--  https://funcoup5.scilifelab.se/downloads/download.action?type=network&instanceID=24480085&fileName=FC5.0_H.sapiens_full.gz\n",
      "Resolving funcoup5.scilifelab.se (funcoup5.scilifelab.se)... 130.237.48.106\n",
      "Connecting to funcoup5.scilifelab.se (funcoup5.scilifelab.se)|130.237.48.106|:443... connected.\n",
      "HTTP request sent, awaiting response... 301 Moved Permanently\n",
      "Location: https://funcoup.org/downloads/download.action?type=network&instanceID=24480085&fileName=FC5.0_H.sapiens_full.gz [following]\n",
      "--2023-10-19 04:59:33--  https://funcoup.org/downloads/download.action?type=network&instanceID=24480085&fileName=FC5.0_H.sapiens_full.gz\n",
      "Resolving funcoup.org (funcoup.org)... 130.237.48.106\n",
      "Connecting to funcoup.org (funcoup.org)|130.237.48.106|:443... connected.\n",
      "HTTP request sent, awaiting response... 200 \n",
      "Length: 284028906 (271M) [application/octet-stream]\n",
      "Saving to: ‘funcoup5.tab.gz’\n",
      "\n",
      "funcoup5.tab.gz     100%[===================>] 270.87M  17.6MB/s    in 17s     \n",
      "\n",
      "2023-10-19 04:59:51 (16.4 MB/s) - ‘funcoup5.tab.gz’ saved [284028906/284028906]\n",
      "\n",
      "--2023-10-19 05:00:03--  http://version10.string-db.org/download/protein.links.v10/9606.protein.links.v10.txt.gz\n",
      "Resolving version10.string-db.org (version10.string-db.org)... 194.94.44.34\n",
      "Connecting to version10.string-db.org (version10.string-db.org)|194.94.44.34|:80... connected.\n",
      "HTTP request sent, awaiting response... 200 OK\n",
      "Length: 46960139 (45M) [application/x-gzip]\n",
      "Saving to: ‘./protein.links.v10.txt.gz’\n",
      "\n",
      "./protein.links.v10 100%[===================>]  44.78M   418KB/s    in 1m 51s  \n",
      "\n",
      "2023-10-19 05:01:54 (412 KB/s) - ‘./protein.links.v10.txt.gz’ saved [46960139/46960139]\n",
      "\n"
     ]
    }
   ],
   "source": [
    "#Downloading data\n",
    "#FunCoup5\n",
    "!wget \"https://funcoup5.scilifelab.se/downloads/download.action?type=network&instanceID=24480085&fileName=FC5.0_H.sapiens_full.gz\" -O funcoup5.tab.gz\n",
    "!gunzip funcoup5.tab.gz\n",
    "\n",
    "#STRINGv10\n",
    "!wget http://version10.string-db.org/download/protein.links.v10/9606.protein.links.v10.txt.gz -O ./protein.links.v10.txt.gz\n",
    "!gunzip ./protein.links.v10.txt.gz"
   ]
  },
  {
   "cell_type": "markdown",
   "metadata": {
    "id": "m4CnUgkZTjuq"
   },
   "source": [
    "# FunCoup"
   ]
  },
  {
   "cell_type": "code",
   "execution_count": 20,
   "metadata": {
    "colab": {
     "base_uri": "https://localhost:8080/"
    },
    "id": "yocJ8iTRTjCu",
    "outputId": "3082aa6c-cfdf-40cd-cb6b-088c06282c26"
   },
   "outputs": [
    {
     "name": "stderr",
     "output_type": "stream",
     "text": [
      "5036826it [00:14, 336040.61it/s]\n"
     ]
    }
   ],
   "source": [
    "import tqdm\n",
    "\n",
    "# Create a mapping of genes to unique numbers from the funcoup file\n",
    "gene_list, numbd =[], {}\n",
    "c = 0\n",
    "\n",
    "with open(\"funcoup5.tab\", \"r\") as f:\n",
    "    next(f)  # Skip header\n",
    "    for line in tqdm.tqdm(f):\n",
    "        gene1, gene2 = line.split(\"\\t\")[2:4]\n",
    "        if gene1 not in numbd:\n",
    "            numbd[gene1] = str(c)\n",
    "            gene_list.append(gene1)\n",
    "            c += 1\n",
    "        if gene2 not in numbd:\n",
    "            numbd[gene2] = str(c)\n",
    "            gene_list.append(gene2)\n",
    "            c += 1"
   ]
  },
  {
   "cell_type": "code",
   "execution_count": 9,
   "metadata": {
    "colab": {
     "base_uri": "https://localhost:8080/"
    },
    "id": "ryb6s7XhUA7L",
    "outputId": "421e12c2-c74a-43e4-d119-8e89ebf75bb7"
   },
   "outputs": [
    {
     "name": "stderr",
     "output_type": "stream",
     "text": [
      "5036826it [00:36, 136520.72it/s]\n"
     ]
    }
   ],
   "source": [
    "import tqdm\n",
    "\n",
    "# Paths\n",
    "input_path = \"funcoup5.tab\"\n",
    "output_path = \"funcoup_graph.tsv\"\n",
    "\n",
    "# Mapping genes to unique numbers and writing relationships to a new file\n",
    "with open(input_path, \"r\") as input_file, open(output_path, \"w\") as output_file:\n",
    "    next(input_file)  # Skip header\n",
    "    for line in tqdm.tqdm(input_file):\n",
    "        gene1, gene2, score = line.strip().split(\"\\t\")[2], line.strip().split(\"\\t\")[3], line.strip().split(\"\\t\")[0]\n",
    "        output_file.write(\"\\t\".join([numbd[gene1], numbd[gene2], score]) + \"\\n\")\n"
   ]
  },
  {
   "cell_type": "code",
   "execution_count": 12,
   "metadata": {
    "colab": {
     "base_uri": "https://localhost:8080/"
    },
    "id": "pRBoOMwjU06g",
    "outputId": "59a1e9d8-90bb-4365-ee87-dcefd98af961"
   },
   "outputs": [
    {
     "name": "stderr",
     "output_type": "stream",
     "text": [
      "The iteration has converged at 73-iter:  73%|███████▎  | 73/100 [00:01<00:00, 38.58it/s]\n"
     ]
    },
    {
     "data": {
      "text/plain": [
       "array([1.51652320e-01, 3.31746339e-04, 8.58316114e-04, ...,\n",
       "       1.13060100e-08, 2.51885949e-08, 7.81477495e-09])"
      ]
     },
     "execution_count": 12,
     "metadata": {},
     "output_type": "execute_result"
    }
   ],
   "source": [
    "from pyrwr.rwr import RWR\n",
    "\n",
    "# Set up and read graph\n",
    "rwr = RWR()\n",
    "rwr.read_graph(\"./funcoup_graph.tsv\", \"undirected\")\n",
    "\n",
    "#Using a sample gene ID for testing\n",
    "seed = 0\n",
    "result = rwr.compute(seed, c=0.15, epsilon=1e-9, max_iters=100, device=\"cpu\") #Default parameter settings\n",
    "result"
   ]
  },
  {
   "cell_type": "code",
   "execution_count": 26,
   "metadata": {
    "colab": {
     "base_uri": "https://localhost:8080/"
    },
    "id": "uc-tyrceVkfy",
    "outputId": "4803c118-19cc-4928-f73e-d97ed01ea4b3"
   },
   "outputs": [
    {
     "name": "stderr",
     "output_type": "stream",
     "text": [
      "The iteration has converged at 73-iter:  73%|███████▎  | 73/100 [00:01<00:00, 37.94it/s]\n"
     ]
    }
   ],
   "source": [
    "# Calculate RWR similarity\n",
    "import numpy as np\n",
    "\n",
    "output_path = \"funcoup_rwr.tsv\"\n",
    "cutoff_score = 0.001  # Use a threshold due to vast number of gene combinations\n",
    "\n",
    "with open(output_path, \"w\") as f:\n",
    "    for ensg, seed in numbd.items():\n",
    "        result = rwr.compute(int(seed), c=0.15, epsilon=1e-9, max_iters=100, device=\"cpu\")\n",
    "\n",
    "        # Filter by score, exclude self-relations, and write to file\n",
    "        for n, score in enumerate(result):\n",
    "            if score > cutoff_score and ensg != gene_list[n]:\n",
    "                f.write(f\"{ensg}\\t{gene_list[n]}\\t{round(score*100,3)}\\n\")\n",
    "\n",
    "        break # This is for testing, processing just one gene. Remove for processing all genes."
   ]
  },
  {
   "cell_type": "markdown",
   "metadata": {
    "id": "sIaIrXLMUGQa"
   },
   "source": [
    "# STRING"
   ]
  },
  {
   "cell_type": "code",
   "execution_count": 31,
   "metadata": {
    "colab": {
     "base_uri": "https://localhost:8080/"
    },
    "id": "pyRs9FbVUJHe",
    "outputId": "88d23c6b-40bb-485b-8f63-3e4481f06937"
   },
   "outputs": [
    {
     "name": "stderr",
     "output_type": "stream",
     "text": [
      "8548002it [00:13, 614871.52it/s]\n"
     ]
    }
   ],
   "source": [
    "import tqdm\n",
    "\n",
    "# Create a mapping of proteins to unique numbers from the file\n",
    "protein_list, numbd2 = [], {}\n",
    "c = 0\n",
    "\n",
    "with open(\"./protein.links.v10.txt\", \"r\") as f:\n",
    "    next(f)  # Skip header\n",
    "    for line in tqdm.tqdm(f):\n",
    "        protein1, protein2 = line.strip().split(\" \")[:2]\n",
    "        if protein1 not in numbd2:\n",
    "            numbd2[protein1] = str(c)\n",
    "            protein_list.append(protein1)\n",
    "            c += 1\n",
    "        if protein2 not in numbd2:\n",
    "            numbd2[protein2] = str(c)\n",
    "            protein_list.append(protein2)\n",
    "            c += 1"
   ]
  },
  {
   "cell_type": "code",
   "execution_count": 28,
   "metadata": {
    "colab": {
     "base_uri": "https://localhost:8080/"
    },
    "id": "4zoLJa_FUa72",
    "outputId": "412393eb-bc7f-4e7b-acf5-b57185c94926"
   },
   "outputs": [
    {
     "name": "stderr",
     "output_type": "stream",
     "text": [
      "8548002it [00:17, 491387.12it/s]\n"
     ]
    }
   ],
   "source": [
    "import tqdm\n",
    "\n",
    "#Paths\n",
    "input_path = \"./protein.links.v10.txt\"\n",
    "output_path = \"string_graph.tsv\"\n",
    "\n",
    "# Mapping genes to unique numbers and writing relationships to a new file\n",
    "with open(input_path, \"r\") as input_file, open(output_path, \"w\") as output_file:\n",
    "    next(input_file)  # Skip header\n",
    "    for line in tqdm.tqdm(input_file):\n",
    "        gene1, gene2, score = line.strip().split(\" \")\n",
    "        output_file.write(f\"{numbd2[gene1]}\\t{numbd2[gene2]}\\t{score}\\n\")"
   ]
  },
  {
   "cell_type": "code",
   "execution_count": null,
   "metadata": {},
   "outputs": [],
   "source": [
    "from pyrwr.rwr import RWR\n",
    "\n",
    "# Set up and read graph\n",
    "rwr = RWR()\n",
    "rwr.read_graph(\"./string_graph.tsv\", \"undirected\")\n",
    "\n",
    "#Using a sample gene ID for testing\n",
    "seed = 0\n",
    "result = rwr.compute(seed, c=0.15, epsilon=1e-9, max_iters=100, device=\"cpu\") #Default parameter settings\n",
    "result"
   ]
  },
  {
   "cell_type": "code",
   "execution_count": 33,
   "metadata": {
    "colab": {
     "base_uri": "https://localhost:8080/"
    },
    "id": "xe_rifwcUb9w",
    "outputId": "214edac9-6f2f-441d-8b54-0bd3d2843cc8"
   },
   "outputs": [
    {
     "name": "stderr",
     "output_type": "stream",
     "text": [
      "The iteration has converged at 73-iter:  73%|███████▎  | 73/100 [00:01<00:00, 38.47it/s]\n"
     ]
    }
   ],
   "source": [
    "# Calculate RWR similarity\n",
    "import numpy as np\n",
    "\n",
    "output_path = \"string_rwr.tsv\"\n",
    "cutoff_score = 0.0005  # Use a threshold due to vast number of gene combinations\n",
    "\n",
    "with open(output_path, \"w\") as f:\n",
    "    for ensp, seed in numbd2.items():\n",
    "        result = rwr.compute(int(seed), c=0.15, epsilon=1e-9, max_iters=100, device=\"cpu\")\n",
    "\n",
    "        # Filter by score, exclude self-relations, and write to file\n",
    "        for n, score in enumerate(result):\n",
    "            if score > cutoff_score and ensg != gene_list[n]:\n",
    "                f.write(f\"{ensp}\\t{protein_list[n]}\\t{round(score*100,3)}\\n\")\n",
    "\n",
    "        break # This is for testing, processing just one gene. Remove for processing all genes."
   ]
  }
 ],
 "metadata": {
  "colab": {
   "collapsed_sections": [
    "ki2f-ZQGTftt",
    "m4CnUgkZTjuq",
    "sIaIrXLMUGQa"
   ],
   "provenance": []
  },
  "kernelspec": {
   "display_name": "Python 3",
   "language": "python",
   "name": "python3"
  },
  "language_info": {
   "codemirror_mode": {
    "name": "ipython",
    "version": 3
   },
   "file_extension": ".py",
   "mimetype": "text/x-python",
   "name": "python",
   "nbconvert_exporter": "python",
   "pygments_lexer": "ipython3",
   "version": "3.6.9"
  }
 },
 "nbformat": 4,
 "nbformat_minor": 1
}
