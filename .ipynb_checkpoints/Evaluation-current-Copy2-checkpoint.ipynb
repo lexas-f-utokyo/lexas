{
 "cells": [
  {
   "cell_type": "code",
   "execution_count": 1,
   "id": "progressive-blanket",
   "metadata": {},
   "outputs": [],
   "source": [
    "import pandas as pd\n",
    "from lexas import evaluation\n",
    "from lexas import prediction\n",
    "symbols = prediction.symbols\n",
    "mode = \"all_following\" #all_following or just_next\n",
    "mode = \"just_next\""
   ]
  },
  {
   "cell_type": "markdown",
   "id": "dutch-instruction",
   "metadata": {},
   "source": [
    "# Preparation"
   ]
  },
  {
   "cell_type": "code",
   "execution_count": 7,
   "id": "promotional-mileage",
   "metadata": {
    "collapsed": true
   },
   "outputs": [
    {
     "name": "stderr",
     "output_type": "stream",
     "text": [
      "3683189it [00:09, 375752.91it/s]\n"
     ]
    },
    {
     "ename": "KeyboardInterrupt",
     "evalue": "",
     "output_type": "error",
     "traceback": [
      "\u001b[0;31m---------------------------------------------------------------------------\u001b[0m",
      "\u001b[0;31mKeyboardInterrupt\u001b[0m                         Traceback (most recent call last)",
      "\u001b[0;32m<ipython-input-7-68e6e2a6cfa7>\u001b[0m in \u001b[0;36m<module>\u001b[0;34m\u001b[0m\n\u001b[1;32m      6\u001b[0m     \u001b[0;36m1930\u001b[0m\u001b[0;34m,\u001b[0m  \u001b[0;31m#start year\u001b[0m\u001b[0;34m\u001b[0m\u001b[0;34m\u001b[0m\u001b[0m\n\u001b[1;32m      7\u001b[0m     \u001b[0;36m2018\u001b[0m\u001b[0;34m,\u001b[0m  \u001b[0;31m#end year\u001b[0m\u001b[0;34m\u001b[0m\u001b[0;34m\u001b[0m\u001b[0m\n\u001b[0;32m----> 8\u001b[0;31m     mode) \n\u001b[0m\u001b[1;32m      9\u001b[0m \u001b[0;34m\u001b[0m\u001b[0m\n\u001b[1;32m     10\u001b[0m \u001b[0mdev_dic\u001b[0m \u001b[0;34m=\u001b[0m \u001b[0mevaluation\u001b[0m\u001b[0;34m.\u001b[0m\u001b[0mgenerate_dic_for_eval\u001b[0m\u001b[0;34m(\u001b[0m\u001b[0mpath_to_csv\u001b[0m\u001b[0;34m,\u001b[0m\u001b[0;36m2019\u001b[0m\u001b[0;34m,\u001b[0m\u001b[0;36m2019\u001b[0m\u001b[0;34m,\u001b[0m\u001b[0mmode\u001b[0m\u001b[0;34m)\u001b[0m\u001b[0;34m\u001b[0m\u001b[0;34m\u001b[0m\u001b[0m\n",
      "\u001b[0;32m~/Desktop/lexas/lexas/evaluation.py\u001b[0m in \u001b[0;36mgenerate_dic_for_eval\u001b[0;34m(path_to_csv, start_year, end_year, mode)\u001b[0m\n\u001b[1;32m     30\u001b[0m         \u001b[0;32mraise\u001b[0m \u001b[0mException\u001b[0m\u001b[0;34m(\u001b[0m\u001b[0;34m\"Mode should be \\\"just_next\\\" or \\\"all_following\\\"\"\u001b[0m\u001b[0;34m)\u001b[0m\u001b[0;34m\u001b[0m\u001b[0;34m\u001b[0m\u001b[0m\n\u001b[1;32m     31\u001b[0m \u001b[0;34m\u001b[0m\u001b[0m\n\u001b[0;32m---> 32\u001b[0;31m     \u001b[0;32mreturn\u001b[0m \u001b[0mmodes\u001b[0m\u001b[0;34m[\u001b[0m\u001b[0mmode\u001b[0m\u001b[0;34m]\u001b[0m\u001b[0;34m(\u001b[0m\u001b[0;34m)\u001b[0m\u001b[0;34m\u001b[0m\u001b[0;34m\u001b[0m\u001b[0m\n\u001b[0m\u001b[1;32m     33\u001b[0m \u001b[0;34m\u001b[0m\u001b[0m\n\u001b[1;32m     34\u001b[0m \u001b[0;34m\u001b[0m\u001b[0m\n",
      "\u001b[0;32m~/Desktop/lexas/lexas/evaluation.py\u001b[0m in \u001b[0;36m<lambda>\u001b[0;34m()\u001b[0m\n\u001b[1;32m     24\u001b[0m     modes = {\n\u001b[1;32m     25\u001b[0m         \u001b[0;34m\"just_next\"\u001b[0m\u001b[0;34m:\u001b[0m \u001b[0;32mlambda\u001b[0m\u001b[0;34m:\u001b[0m \u001b[0mtuple_to_dic\u001b[0m\u001b[0;34m(\u001b[0m\u001b[0mprediction\u001b[0m\u001b[0;34m.\u001b[0m\u001b[0mgenerate_experiment_tuples\u001b[0m\u001b[0;34m(\u001b[0m\u001b[0mpath_to_csv\u001b[0m\u001b[0;34m,\u001b[0m \u001b[0mstart_year\u001b[0m\u001b[0;34m,\u001b[0m \u001b[0mend_year\u001b[0m\u001b[0;34m)\u001b[0m\u001b[0;34m[\u001b[0m\u001b[0;36m0\u001b[0m\u001b[0;34m]\u001b[0m\u001b[0;34m)\u001b[0m\u001b[0;34m,\u001b[0m\u001b[0;34m\u001b[0m\u001b[0;34m\u001b[0m\u001b[0m\n\u001b[0;32m---> 26\u001b[0;31m         \u001b[0;34m\"all_following\"\u001b[0m\u001b[0;34m:\u001b[0m \u001b[0;32mlambda\u001b[0m\u001b[0;34m:\u001b[0m \u001b[0mtuple_to_dic\u001b[0m\u001b[0;34m(\u001b[0m\u001b[0mgenerate_tuples_all_following\u001b[0m\u001b[0;34m(\u001b[0m\u001b[0mpath_to_csv\u001b[0m\u001b[0;34m,\u001b[0m \u001b[0mstart_year\u001b[0m\u001b[0;34m,\u001b[0m \u001b[0mend_year\u001b[0m\u001b[0;34m)\u001b[0m\u001b[0;34m)\u001b[0m\u001b[0;34m\u001b[0m\u001b[0;34m\u001b[0m\u001b[0m\n\u001b[0m\u001b[1;32m     27\u001b[0m     }\n\u001b[1;32m     28\u001b[0m \u001b[0;34m\u001b[0m\u001b[0m\n",
      "\u001b[0;32m~/Desktop/lexas/lexas/evaluation.py\u001b[0m in \u001b[0;36mgenerate_tuples_all_following\u001b[0;34m(path_to_csv, start, end)\u001b[0m\n\u001b[1;32m     69\u001b[0m                 \u001b[0;32mfor\u001b[0m \u001b[0mi\u001b[0m\u001b[0;34m,\u001b[0m \u001b[0mgene_a\u001b[0m \u001b[0;32min\u001b[0m \u001b[0menumerate\u001b[0m\u001b[0;34m(\u001b[0m\u001b[0mcurrent_genes\u001b[0m\u001b[0;34m)\u001b[0m\u001b[0;34m:\u001b[0m\u001b[0;34m\u001b[0m\u001b[0;34m\u001b[0m\u001b[0m\n\u001b[1;32m     70\u001b[0m                     \u001b[0;32mfor\u001b[0m \u001b[0mgene_b\u001b[0m \u001b[0;32min\u001b[0m \u001b[0mcurrent_genes\u001b[0m\u001b[0;34m[\u001b[0m\u001b[0mi\u001b[0m\u001b[0;34m+\u001b[0m\u001b[0;36m1\u001b[0m\u001b[0;34m:\u001b[0m\u001b[0;34m]\u001b[0m\u001b[0;34m:\u001b[0m\u001b[0;34m\u001b[0m\u001b[0;34m\u001b[0m\u001b[0m\n\u001b[0;32m---> 71\u001b[0;31m                         \u001b[0mgene_combinations\u001b[0m\u001b[0;34m.\u001b[0m\u001b[0madd\u001b[0m\u001b[0;34m(\u001b[0m\u001b[0;34m(\u001b[0m\u001b[0mgene_a\u001b[0m\u001b[0;34m,\u001b[0m \u001b[0mgene_b\u001b[0m\u001b[0;34m)\u001b[0m\u001b[0;34m)\u001b[0m\u001b[0;34m\u001b[0m\u001b[0;34m\u001b[0m\u001b[0m\n\u001b[0m\u001b[1;32m     72\u001b[0m                 \u001b[0mcurrent_genes\u001b[0m \u001b[0;34m=\u001b[0m \u001b[0;34m[\u001b[0m\u001b[0;34m]\u001b[0m\u001b[0;34m\u001b[0m\u001b[0;34m\u001b[0m\u001b[0m\n\u001b[1;32m     73\u001b[0m                 \u001b[0mcurrent_pmcid\u001b[0m \u001b[0;34m=\u001b[0m \u001b[0mpmcid\u001b[0m\u001b[0;34m\u001b[0m\u001b[0;34m\u001b[0m\u001b[0m\n",
      "\u001b[0;31mKeyboardInterrupt\u001b[0m: "
     ]
    }
   ],
   "source": [
    "path_to_csv = \"./data/experiments_for_xgboost.csv\"\n",
    "path_to_csv = \"/mnt/a/nxml/src_230405/experiments_05.csv\"\n",
    "\n",
    "train_dic = evaluation.generate_dic_for_eval(\n",
    "    path_to_csv,\n",
    "    1930,  #start year\n",
    "    2018,  #end year\n",
    "    mode) \n",
    "\n",
    "dev_dic = evaluation.generate_dic_for_eval(path_to_csv,2019,2019,mode)\n",
    "test_dic = evaluation.generate_dic_for_eval(path_to_csv,2020,2023,mode)\n",
    "\n",
    "#Save the dictionaries\n",
    "#The disctionaries are saved as ./eval/dic_{mode}.csv\n",
    "evaluation.save_dic(train_dic,dev_dic,test_dic,mode,output_dir = \"/mnt/a/nxml/src_231016/eval\")"
   ]
  },
  {
   "cell_type": "markdown",
   "id": "known-stupid",
   "metadata": {},
   "source": [
    "# Evaluation"
   ]
  },
  {
   "cell_type": "code",
   "execution_count": 109,
   "id": "considerable-juvenile",
   "metadata": {
    "collapsed": true
   },
   "outputs": [
    {
     "name": "stdout",
     "output_type": "stream",
     "text": [
      "['KIF2C', 'SLC9A3R1', 'TLR4', 'MARK1', 'CUL1', 'DLGAP5', 'MYBL2', 'DSN1', 'CLASP2', 'CENPT', 'CAMSAP3', 'NEK7', 'NIN', 'PXN', 'SKP2', 'TUBGCP6', 'GAPDH', 'TSC1', 'PTGS2', 'MTOR', 'RBM14', 'RAD21', 'MAS1', 'FOXO1', 'TMPRSS13', 'CDK5RAP2', 'CNTROB', 'SAP30', 'CENPW', 'PRC1', 'PAX6', 'KAT2A', 'CDC25C', 'TP53BP1', 'LCP2', 'ACIN1', 'RUNX2', 'CROCC', 'PRPF6', 'HSPB1', 'INCENP', 'NSL1', 'USP28', 'VIM', 'OFD1', 'SNAI2', 'RNF168', 'BUB1', 'CEP120', 'OTX2', 'ESPL1', 'CEP135', 'XRCC5', 'KIFC1', 'PPP1R35', 'PYURF', 'NCAPD2', 'HSPB3', 'CEP290', 'GOLGB1', 'KCNIP3', 'MDM2', 'PCM1', 'LIN28A', 'CEP68', 'BUB3', 'HSP90AA1', 'CCNB1', 'BRN3B', 'TSC2', 'TXN', 'ORC1', 'PCNT', 'RAC1', 'FOXM1', 'H2AX', 'SP1', 'CHEK1', 'CCNB2', 'PALM', 'JMJD7', 'FMNL1', 'SAP30BP', 'CD24', 'PHB', 'NFKB2', 'INS', 'LATS2', 'LATS1', 'CDKN1A', 'PARP1', 'SPICE1', 'GCC2', 'SASS6', 'MYLK', 'MITF', 'CEP63', 'PCNA', 'CEP350', 'CEP57', 'HDAC9', 'GCG', 'FHDC1', 'PTEN', 'AURKA', 'NRF1', 'CCDC78', 'WNT11', 'TUBG1', 'TACC3', 'CCN4', 'KAT2B', 'ARHGAP35', 'FRAP', 'IL2', 'TRIM37', 'CDK19', 'AKAP9', 'CXCR2', 'CXCR1', 'CEP164', 'SPATA7', 'CEP85', 'GOLGA2', 'MYO10', 'PLK4', 'CETN2', 'CEP128', 'ASPM', 'CDC6', 'BIRC5', 'REL', 'TBCD', 'CFAP410', 'TPX2', 'FATE1', 'C3orf62', 'TFAP2B', 'CCP110', 'ODF2', 'WEE1', 'NEK1', 'STIL', 'ACTB', 'GRAP2', 'CD44', 'CCDC14', 'HAUS7', 'PLK2', 'KLF14', 'FICD', 'HAUS6', 'KIAA0753', 'MIS12', 'KRAS', 'MBP', 'UTRN', 'RHOA', 'RND3', 'CDH1', 'SS18L1', 'CETN3', 'GATD3', 'CEP250', 'PLK3', 'CEP192', 'CEP131', 'MYD88', 'TADA2A', 'TJP1', 'DDR1', 'TLR2', 'PLK1', 'SIX2', 'EAF2', 'CDK1', 'TP53', 'RTTN', 'CXCL8', 'TOP2A', 'RPS27', 'STAR', 'JMJD7-PLA2G4B', 'SSX2IP', 'BBS4', 'CEP152', 'CHEK2', 'KNL1', 'CDK2', 'NEK2', 'CEP170', 'CEP295', 'VEGFA', 'CD63', 'ALMS1', 'RNF8', 'TADA3', 'CEP162', 'CASP3', 'INF2', 'ERBB2', 'GRP78', 'SNCG', 'PRPF8', 'PTTG1', 'IFT88', 'SART3', 'HAP1', 'CAMSAP2', 'CENPJ', 'BUB1B', 'VSX2', 'PPP1CA', 'PIBF1']\n",
      "['COMETT', 'DAAM1', 'KIF2C', 'PCNA', 'MMP1', 'CDH2', 'ATAD2', 'BUB1', 'MARK1', 'FIG4', 'AURKA', 'MIR7-3HG', 'CEP120', 'IL4I1', 'CEP135', 'POLQ', 'RBL1', 'CDH1', 'CEP250', 'KCNH2', 'CTRL', 'TACC3', 'CEP192', 'CEP131', 'FRAP', 'SPIRE1', 'TJP1', 'MMP2', 'PLK1', 'PCM1', 'DVL2', 'POC1A', 'TP53', 'PLK4', 'CEP72', 'SNAI1', 'CLTC', 'RPS27', 'GTSE1', 'DAAM2', 'CEP152', 'PCNT', 'CUL5', 'CEP170', 'SLC3A2', 'POC1B', 'TYRO3', 'AURKB', 'PIK3CA', 'NEDD1', 'STIL', 'DEUP1', 'AURKC', 'CENPJ', 'SASS6', 'ATG5', 'PRICKLE1']\n",
      "['DHCR7', 'KIF2C', 'FOXJ1', 'RECQL4', 'MARK1', 'NDC80', 'DLGAP5', 'ABL1', 'CCND1', 'SREBF1', 'SLC28A3', 'HIF1A', 'NIN', 'COL1A1', 'FZD5', 'BCL2', 'PTCH1', 'TUBGCP6', 'KATNB1', 'CEP83', 'MTOR', 'EGR1', 'RABL6', 'CDK5RAP2', 'CNTROB', 'TUBB4A', 'PRC1', 'MAP4', 'BRAF', 'CDC25C', 'TP53BP1', 'SNHG16', 'E2F3', 'RAB8A', 'FTCDNL1', 'FBF1', 'TIAM1', 'SNRPD2', 'KCNH6', 'TUBGCP3', 'WBP11', 'LDHB', 'MSMP', 'IL17A', 'IL17RA', 'CD81', 'IFT46', 'DDX4', 'VIM', 'MELK', 'OFD1', 'CDH2', 'USP28', 'CLASP1', 'CXCL6', 'E2F1', 'CEP120', 'MYCN', 'E2F5', 'CEP135', 'MYO6', 'KIFC1', 'ANLN', 'FPR1', 'CEP290', 'TENT5D', 'BRCA1', 'GOLGB1', 'NKX2-1', 'STAG3', 'MDM2', 'CAPS', 'PCM1', 'CD9', 'SYCP1', 'CCNB1', 'CENPA', 'SRPK1', 'TSG101', 'PCNT', 'FOXM1', 'H2AX', 'CHEK1', 'MAD2L2', 'STAT3', 'PTPN12', 'SOD1', 'PIK3CA', 'PQBP1', 'MRP1', 'PARP1', 'HMGA1', 'EPCAM', 'SPICE1', 'PLPPR5', 'SASS6', 'CEP63', 'PCNA', 'CEP350', 'PROM1', 'ARNT', 'CEP57', 'CCNA2', 'HDAC9', 'CDC16', 'APC2', 'MDM1', 'PTEN', 'AURKA', 'DIAPH1', 'FIG4', 'PDGFR', 'AXIN2', 'KIF18A', 'TUBGCP5', 'CD11B', 'FRAP', 'PTMS', 'TRIM37', 'CXCL1', 'MARS1', 'MKI67', 'AKAP9', 'PDE4DIP', 'CEP164', 'GLI1', 'CEP85', 'GOLGA2', 'PLK4', 'CETN2', 'CDC27', 'MCPH1', 'EGFR', 'BIRC5', 'TPX2', 'WNT7B', 'CEBPB', 'C3orf62', 'CKAP5', 'IFT27', 'CCP110', 'ODF2', 'WEE1', 'PSME4', 'TENT5C', 'NEDD1', 'STIL', 'IL17RC', 'ACTB', 'SNW1', 'CD44', 'DIAPH3', 'TRIM46', 'HAUS6', 'SYCP3', 'KRAS', 'MAP2', 'TNF', 'HMMR', 'DAZL', 'VCL', 'FEN1', 'KIF11', 'ARL13B', 'BRD4', 'RHOA', 'CTRL', 'CEP192', 'CEP131', 'PIEZO1', 'PAX7', 'ALDH1A2', 'FAM83D', 'PDCD6IP', 'TJP1', 'DNMT', 'MYC', 'PLK1', 'POU5F1', 'CDK1', 'EXO1', 'CCDC66', 'LMNB1', 'TP53', 'E2F4', 'GLI3', 'SNAI1', 'RFC4', 'RPS27', 'STAR', 'IFT52', 'IL6', 'CEP152', 'CHEK2', 'CDK2', 'CKS2', 'HDAC6', 'ABCB1', 'SLC3A2', 'CFTR', 'CD63', 'TTBK2', 'AURKB', 'GPER1', 'SLU7', 'MCIDAS', 'TERT', 'DDB1', 'PRPF8', 'SREBF2', 'PTTG1', 'IFT88', 'DEUP1', 'TRIP13', 'CAMSAP2', 'CENPJ', 'CLIP1', 'CDCA5', 'HSPA2', 'IQGAP1']\n"
     ]
    }
   ],
   "source": [
    "#Loading data\n",
    "mode = \"just_next\"\n",
    "mode = \"all_following\"\n",
    "\n",
    "train_dic,dev_dic,test_dic = evaluation.load_dic(mode,input_dir = \"/mnt/a/nxml/src_231016/eval\")\n",
    "\n",
    "print(train_dic[\"PLK4\"]) #Genes examined after PLK4 in the articles published before 2018\n",
    "print(dev_dic[\"PLK4\"]) #Genes examined after PLK4 in the articles published in 2019\n",
    "print(test_dic[\"PLK4\"]) #Genes examined after PLK4 in the articles published after 2020"
   ]
  },
  {
   "cell_type": "code",
   "execution_count": 2,
   "id": "smaller-distinction",
   "metadata": {},
   "outputs": [],
   "source": [
    "# Genes examined after a query gene in previous data are not considered false, \n",
    "# so they are removed from evaluation.\n",
    "# prev_dic stores genes examined previously to the answer data set\n",
    "\n",
    "def get_dictionaries_for_evaluation(eval_mode, train_dic, dev_dic, test_dic):   \n",
    "    if eval_mode == \"dev\":\n",
    "        prev_dic = train_dic#.copy()\n",
    "        answer_dic = dev_dic#.copy()\n",
    "    elif eval_mode == \"test\":\n",
    "        prev_dic = {k: train_dic[k] + dev_dic[k] for k in train_dic}\n",
    "        answer_dic = test_dic#.copy()\n",
    "    else:\n",
    "        raise ValueError(\"Evaluation mode should be \\\"dev\\\" or \\\"test\\\"\")\n",
    "    \n",
    "    return prev_dic, answer_dic"
   ]
  },
  {
   "cell_type": "code",
   "execution_count": 115,
   "id": "anticipated-scheduling",
   "metadata": {},
   "outputs": [
    {
     "name": "stderr",
     "output_type": "stream",
     "text": [
      "100%|██████████| 6/6 [00:00<00:00, 10.05it/s]\n"
     ]
    },
    {
     "data": {
      "text/html": [
       "<div>\n",
       "<style scoped>\n",
       "    .dataframe tbody tr th:only-of-type {\n",
       "        vertical-align: middle;\n",
       "    }\n",
       "\n",
       "    .dataframe tbody tr th {\n",
       "        vertical-align: top;\n",
       "    }\n",
       "\n",
       "    .dataframe thead th {\n",
       "        text-align: right;\n",
       "    }\n",
       "</style>\n",
       "<table border=\"1\" class=\"dataframe\">\n",
       "  <thead>\n",
       "    <tr style=\"text-align: right;\">\n",
       "      <th></th>\n",
       "      <th>Symbol</th>\n",
       "      <th>AUC at 10000 for xgboost</th>\n",
       "    </tr>\n",
       "  </thead>\n",
       "  <tbody>\n",
       "    <tr>\n",
       "      <th>0</th>\n",
       "      <td>PLK4</td>\n",
       "      <td>0.472562</td>\n",
       "    </tr>\n",
       "    <tr>\n",
       "      <th>1</th>\n",
       "      <td>SASS6</td>\n",
       "      <td>0.593396</td>\n",
       "    </tr>\n",
       "    <tr>\n",
       "      <th>2</th>\n",
       "      <td>CEP152</td>\n",
       "      <td>0.516866</td>\n",
       "    </tr>\n",
       "    <tr>\n",
       "      <th>3</th>\n",
       "      <td>CEP192</td>\n",
       "      <td>0.588659</td>\n",
       "    </tr>\n",
       "    <tr>\n",
       "      <th>4</th>\n",
       "      <td>CEP63</td>\n",
       "      <td>0.553600</td>\n",
       "    </tr>\n",
       "    <tr>\n",
       "      <th>5</th>\n",
       "      <td>PCNT</td>\n",
       "      <td>0.493907</td>\n",
       "    </tr>\n",
       "  </tbody>\n",
       "</table>\n",
       "</div>"
      ],
      "text/plain": [
       "   Symbol  AUC at 10000 for xgboost\n",
       "0    PLK4                  0.472562\n",
       "1   SASS6                  0.593396\n",
       "2  CEP152                  0.516866\n",
       "3  CEP192                  0.588659\n",
       "4   CEP63                  0.553600\n",
       "5    PCNT                  0.493907"
      ]
     },
     "execution_count": 115,
     "metadata": {},
     "output_type": "execute_result"
    }
   ],
   "source": [
    "#Calculate AUC\n",
    "model_name =\"xgboost\"\n",
    "genes = [\"PLK4\",\"SASS6\",\"CEP152\",\"CEP192\",\"CEP63\",\"PCNT\"]\n",
    "result_dir = \"./result/xgboost\"\n",
    "top_k = 10000\n",
    "\n",
    "import os\n",
    "import tqdm\n",
    "\n",
    "evaluation.calculate_auc_for_many_genes(result_dir, model_name, prev_dic, answer_dic, top_k, genes=genes)"
   ]
  },
  {
   "cell_type": "code",
   "execution_count": 3,
   "id": "unknown-settlement",
   "metadata": {},
   "outputs": [],
   "source": [
    "#比較対象辞書\n",
    "dirs = {}\n",
    "\n",
    "dirs[\"dev\"] = {\n",
    "    \"GNB\":\"/mnt/a/nxml/src_230405/Raw/GNB\",\n",
    "    \"KNN\":\"/mnt/a/nxml/src_230405/Raw/KNN\",\n",
    "    \"LR\":\"/mnt/a/nxml/src_230405/Raw/LR\",\n",
    "    \"MLP\":\"/mnt/a/nxml/src_230405/Raw/MLP\",\n",
    "    \"RF\":\"/mnt/a/nxml/src_230405/Raw/RF\",\n",
    "    \"SVM\":\"/mnt/a/nxml/src_230405/Raw/SVM\",\n",
    "    \"XGB\":\"/mnt/a/nxml/src_230405/Raw/230415_normal\"}\n",
    "\n",
    "dirs[\"test\"] = {\n",
    "    \"LEXAS\":\"/mnt/a/nxml/src_230405/Raw/230415_normal\",\n",
    "    \"LEXAS_data\":\"/mnt/a/nxml/src_230405/Raw/xgb_0421_dataf0421\",\n",
    "    \"LEXAS_plus\":\"/mnt/a/nxml/src_230405/Raw/XGB_allinfo_eta0.01\",\n",
    "    \"STRING\":\"/mnt/a/nxml/src_230405/Raw/string_rwr_df\",\n",
    "    \"FunCoup\":\"/mnt/a/nxml/src_230405/Raw/funcoup_rwr_df\",\n",
    "    \"GOSemSim\":\"/mnt/a/nxml/src_230405/Raw/semsim2_df\",\n",
    "    \"STRING_raw\":\"/mnt/a/nxml/src_230405/Raw/STRING_raw\",\n",
    "    \"FunCoup_raw\":\"/mnt/a/nxml/src_230405/Raw/funcoup_raw\"\n",
    "}"
   ]
  },
  {
   "cell_type": "code",
   "execution_count": 4,
   "id": "latin-shuttle",
   "metadata": {},
   "outputs": [],
   "source": [
    "import pandas as pd\n",
    "df = pd.read_csv(\"/mnt/a/nxml/src_230405/Raw/string_rwr_df/CEP57.csv\",index_col=0)"
   ]
  },
  {
   "cell_type": "code",
   "execution_count": 8,
   "id": "discrete-terrorism",
   "metadata": {
    "collapsed": true
   },
   "outputs": [
    {
     "name": "stdout",
     "output_type": "stream",
     "text": [
      "Symbol,STRING_raw\r\n",
      "CEP152,999\r\n",
      "CENPJ,994\r\n",
      "CEP192,993\r\n",
      "CEP135,987\r\n",
      "TUBG1,981\r\n",
      "CCP110,980\r\n",
      "CDC25C,971\r\n",
      "CDK5RAP2,969\r\n",
      "PCNT,967\r\n",
      "TUBB4B,966\r\n",
      "TUBB4A,966\r\n",
      "BTRC,961\r\n",
      "TUBGCP6,953\r\n",
      "CEP76,951\r\n",
      "CKAP5,948\r\n",
      "CCNF,947\r\n",
      "TUBGCP2,946\r\n",
      "TUBGCP3,945\r\n",
      "CDK1,943\r\n",
      "CCNA2,941\r\n",
      "AURKA,940\r\n",
      "TUBA4A,939\r\n",
      "TUBA1A,939\r\n",
      "FBXW5,935\r\n",
      "NEDD1,934\r\n",
      "PLK1,933\r\n",
      "CEP290,932\r\n",
      "TUBG2,928\r\n",
      "RAB8A,928\r\n",
      "SFI1,924\r\n",
      "HSP90AA1,924\r\n",
      "CEP70,922\r\n",
      "CCNA1,922\r\n",
      "NEK2,921\r\n",
      "CEP164,921\r\n",
      "CEP131,914\r\n",
      "BORA,912\r\n",
      "CEP78,909\r\n",
      "CEP57,909\r\n",
      "CEP72,908\r\n",
      "CEP250,906\r\n",
      "AKAP9,905\r\n",
      "PPP2R1A,904\r\n",
      "FBXW11,904\r\n",
      "OFD1,903\r\n",
      "CSNK1E,903\r\n",
      "CSNK1D,903\r\n",
      "TUBGCP4,902\r\n",
      "PCM1,902\r\n",
      "CLASP1,901\r\n",
      "CEP43,901\r\n",
      "YWHAG,900\r\n",
      "YWHAE,900\r\n",
      "SSNA1,900\r\n",
      "SDCCAG8,900\r\n",
      "PRKAR2B,900\r\n",
      "PRKACA,900\r\n",
      "PAFAH1B1,900\r\n",
      "OPTN,900\r\n",
      "NINL,900\r\n",
      "MAPRE1,900\r\n",
      "HAUS2,900\r\n",
      "DYNLL1,900\r\n",
      "DYNC1I2,900\r\n",
      "DYNC1H1,900\r\n",
      "DCTN3,900\r\n",
      "DCTN2,900\r\n",
      "AJUBA,900\r\n",
      "ACTR1A,900\r\n",
      "SASS6,895\r\n",
      "CDKN3,868\r\n",
      "PLG,860\r\n",
      "TP53,856\r\n",
      "PTPDC1,845\r\n",
      "DUSP23,845\r\n",
      "CDC14B,845\r\n",
      "CDC14A,845\r\n",
      "ESPL1,838\r\n",
      "PPP2R2A,831\r\n",
      "PPP2R2B,827\r\n",
      "PPP2R2D,826\r\n",
      "PPP2R2C,826\r\n",
      "SENP7,813\r\n",
      "SENP6,813\r\n",
      "CDC25B,813\r\n",
      "CDC25A,812\r\n",
      "NRF1,800\r\n",
      "CDC20,779\r\n",
      "BUB1,770\r\n",
      "CDC27,747\r\n",
      "MEF2D,736\r\n",
      "MEF2C,736\r\n",
      "MEF2A,736\r\n",
      "FZR1,726\r\n",
      "RPS27A,723\r\n",
      "CCNB2,721\r\n",
      "CCNB1,721\r\n",
      "SKP1,712\r\n",
      "CDC7,712\r\n"
     ]
    }
   ],
   "source": [
    "!head /mnt/a/nxml/src_230405/Raw/STRING_raw/PLK4.csv -n 100"
   ]
  },
  {
   "cell_type": "markdown",
   "id": "better-elimination",
   "metadata": {},
   "source": [
    "# Loop"
   ]
  },
  {
   "cell_type": "code",
   "execution_count": 8,
   "id": "horizontal-romance",
   "metadata": {},
   "outputs": [],
   "source": [
    "import os\n",
    "os.mkdir(f\"/mnt/a/nxml/src_231016/eval_rap09\")\n",
    "for mode in [\"just_next\",\"all_following\"]:\n",
    "    for eval_mode in [\"test\"]:#,\"dev\"\n",
    "            for top_k in [10,100,1000]:\n",
    "                os.mkdir(f\"/mnt/a/nxml/src_231016/eval_rap09/{eval_mode}_{top_k}_{mode}/\")"
   ]
  },
  {
   "cell_type": "code",
   "execution_count": 4,
   "id": "elder-swaziland",
   "metadata": {},
   "outputs": [],
   "source": [
    "dirs = {}\n",
    "dirs[\"test\"] = {\n",
    "    \n",
    "    \"FunCoup_raw\":\"/mnt/a/nxml/src_230405/Raw/funcoup_raw\"\n",
    "}"
   ]
  },
  {
   "cell_type": "code",
   "execution_count": 161,
   "id": "peripheral-marker",
   "metadata": {},
   "outputs": [],
   "source": [
    "!mkdir /mnt/a/nxml/src_231016/eval2/"
   ]
  },
  {
   "cell_type": "code",
   "execution_count": null,
   "id": "metallic-calgary",
   "metadata": {
    "scrolled": true
   },
   "outputs": [
    {
     "name": "stderr",
     "output_type": "stream",
     "text": [
      "  1%|          | 138/22943 [00:05<16:26, 23.12it/s]"
     ]
    }
   ],
   "source": [
    "genes = [\"PLK4\",\"SASS6\",\"CEP152\",\"CEP192\",\"CEP63\",\"PCNT\"]\n",
    "genes = symbols\n",
    "\n",
    "for mode in [\"just_next\"]:#,\"all_following\"]:\n",
    "    train_dic,dev_dic,test_dic = evaluation.load_dic(mode,input_dir = \"/mnt/a/nxml/src_231016/eval\")\n",
    "    for eval_mode in [\"dev\"]:#,\"dev\"]:\n",
    "        prev_dic, answer_dic = get_dictionaries_for_evaluation(eval_mode, train_dic, dev_dic, test_dic)\n",
    "        for dire in dirs[eval_mode]:\n",
    "            for top_k in [10,100,1000]:\n",
    "                result = evaluation.calculate_auc_for_many_genes(dirs[eval_mode][dire], dire, prev_dic, answer_dic, top_k, \n",
    "                                                                 genes=genes,\n",
    "                                                                remove_all_prev=True)\n",
    "                result.to_csv(f\"/mnt/a/nxml/src_231016/eval_rap09/{eval_mode}_{top_k}_{mode}/{dire}.csv\")"
   ]
  },
  {
   "cell_type": "code",
   "execution_count": 147,
   "id": "casual-defensive",
   "metadata": {},
   "outputs": [
    {
     "data": {
      "text/plain": [
       "0.8295606507583444"
      ]
     },
     "execution_count": 147,
     "metadata": {},
     "output_type": "execute_result"
    }
   ],
   "source": [
    "eval_mode=\"test\"\n",
    "mode = \"all_following\"\n",
    "prev_dic, answer_dic = get_dictionaries_for_evaluation(eval_mode, train_dic, dev_dic, test_dic)\n",
    "query_gene=\"CEP57\"\n",
    "df = pd.read_csv(os.path.join(dirs[\"test\"][\"LEXAS\"],\"CEP57.csv\"),index_col=0)#.drop(\"Unnamed: 0\",axis=1)\n",
    "df2 = evaluation.prepare_df_for_eval(df, query_gene, prev_dic, answer_dic)\n",
    "df3 = evaluation.auc_at_k(df, query_gene, prev_dic, answer_dic, top_k)\n",
    "df3"
   ]
  },
  {
   "cell_type": "code",
   "execution_count": 142,
   "id": "medical-complex",
   "metadata": {
    "collapsed": true
   },
   "outputs": [
    {
     "data": {
      "text/html": [
       "<div>\n",
       "<style scoped>\n",
       "    .dataframe tbody tr th:only-of-type {\n",
       "        vertical-align: middle;\n",
       "    }\n",
       "\n",
       "    .dataframe tbody tr th {\n",
       "        vertical-align: top;\n",
       "    }\n",
       "\n",
       "    .dataframe thead th {\n",
       "        text-align: right;\n",
       "    }\n",
       "</style>\n",
       "<table border=\"1\" class=\"dataframe\">\n",
       "  <thead>\n",
       "    <tr style=\"text-align: right;\">\n",
       "      <th></th>\n",
       "      <th>Score</th>\n",
       "    </tr>\n",
       "    <tr>\n",
       "      <th>Symbol</th>\n",
       "      <th></th>\n",
       "    </tr>\n",
       "  </thead>\n",
       "  <tbody>\n",
       "    <tr>\n",
       "      <th>A1BG</th>\n",
       "      <td>0.079947</td>\n",
       "    </tr>\n",
       "    <tr>\n",
       "      <th>A1BG-AS1</th>\n",
       "      <td>0.165290</td>\n",
       "    </tr>\n",
       "    <tr>\n",
       "      <th>A1CF</th>\n",
       "      <td>0.101259</td>\n",
       "    </tr>\n",
       "    <tr>\n",
       "      <th>A2M</th>\n",
       "      <td>0.075006</td>\n",
       "    </tr>\n",
       "    <tr>\n",
       "      <th>A2ML1</th>\n",
       "      <td>0.085311</td>\n",
       "    </tr>\n",
       "    <tr>\n",
       "      <th>...</th>\n",
       "      <td>...</td>\n",
       "    </tr>\n",
       "    <tr>\n",
       "      <th>PEPN</th>\n",
       "      <td>0.148414</td>\n",
       "    </tr>\n",
       "    <tr>\n",
       "      <th>PYK</th>\n",
       "      <td>0.144785</td>\n",
       "    </tr>\n",
       "    <tr>\n",
       "      <th>TAX</th>\n",
       "      <td>0.344850</td>\n",
       "    </tr>\n",
       "    <tr>\n",
       "      <th>TMPRSS3</th>\n",
       "      <td>0.079035</td>\n",
       "    </tr>\n",
       "    <tr>\n",
       "      <th>XAGE1E</th>\n",
       "      <td>0.193524</td>\n",
       "    </tr>\n",
       "  </tbody>\n",
       "</table>\n",
       "<p>22943 rows × 1 columns</p>\n",
       "</div>"
      ],
      "text/plain": [
       "             Score\n",
       "Symbol            \n",
       "A1BG      0.079947\n",
       "A1BG-AS1  0.165290\n",
       "A1CF      0.101259\n",
       "A2M       0.075006\n",
       "A2ML1     0.085311\n",
       "...            ...\n",
       "PEPN      0.148414\n",
       "PYK       0.144785\n",
       "TAX       0.344850\n",
       "TMPRSS3   0.079035\n",
       "XAGE1E    0.193524\n",
       "\n",
       "[22943 rows x 1 columns]"
      ]
     },
     "execution_count": 142,
     "metadata": {},
     "output_type": "execute_result"
    }
   ],
   "source": [
    "df = pd.read_csv(os.path.join(dirs[\"test\"][\"LEXAS\"],\"CEP57.csv\"),index_col=0)#.drop(\"Unnamed: 0\",axis=1)\n",
    "df"
   ]
  },
  {
   "cell_type": "code",
   "execution_count": 140,
   "id": "intimate-telescope",
   "metadata": {},
   "outputs": [
    {
     "data": {
      "text/html": [
       "<div>\n",
       "<style scoped>\n",
       "    .dataframe tbody tr th:only-of-type {\n",
       "        vertical-align: middle;\n",
       "    }\n",
       "\n",
       "    .dataframe tbody tr th {\n",
       "        vertical-align: top;\n",
       "    }\n",
       "\n",
       "    .dataframe thead th {\n",
       "        text-align: right;\n",
       "    }\n",
       "</style>\n",
       "<table border=\"1\" class=\"dataframe\">\n",
       "  <thead>\n",
       "    <tr style=\"text-align: right;\">\n",
       "      <th></th>\n",
       "      <th>AUC at 100 for STRING_raw</th>\n",
       "      <th>AUC at 100 for LEXAS_plus</th>\n",
       "      <th>AUC at 100 for GOSemSim</th>\n",
       "      <th>AUC at 100 for FunCoup</th>\n",
       "      <th>AUC at 100 for LEXAS_data</th>\n",
       "      <th>AUC at 100 for LEXAS</th>\n",
       "      <th>AUC at 100 for STRING</th>\n",
       "      <th>AUC at 100 for FunCoup_raw</th>\n",
       "    </tr>\n",
       "  </thead>\n",
       "  <tbody>\n",
       "    <tr>\n",
       "      <th>A1BG</th>\n",
       "      <td>0.454236</td>\n",
       "      <td>0.638970</td>\n",
       "      <td>0.544475</td>\n",
       "      <td>0.512835</td>\n",
       "      <td>0.529093</td>\n",
       "      <td>0.638924</td>\n",
       "      <td>0.543928</td>\n",
       "      <td>0.500000</td>\n",
       "    </tr>\n",
       "    <tr>\n",
       "      <th>A1CF</th>\n",
       "      <td>0.214689</td>\n",
       "      <td>0.547818</td>\n",
       "      <td>0.547535</td>\n",
       "      <td>0.547076</td>\n",
       "      <td>0.547604</td>\n",
       "      <td>0.548028</td>\n",
       "      <td>0.497072</td>\n",
       "      <td>0.500000</td>\n",
       "    </tr>\n",
       "    <tr>\n",
       "      <th>A2M</th>\n",
       "      <td>0.383372</td>\n",
       "      <td>0.748351</td>\n",
       "      <td>0.622965</td>\n",
       "      <td>0.497145</td>\n",
       "      <td>0.623012</td>\n",
       "      <td>0.623340</td>\n",
       "      <td>0.621559</td>\n",
       "      <td>0.500000</td>\n",
       "    </tr>\n",
       "    <tr>\n",
       "      <th>A2ML1</th>\n",
       "      <td>0.740061</td>\n",
       "      <td>0.547899</td>\n",
       "      <td>0.497398</td>\n",
       "      <td>0.497146</td>\n",
       "      <td>0.547705</td>\n",
       "      <td>0.522875</td>\n",
       "      <td>0.580698</td>\n",
       "      <td>0.500000</td>\n",
       "    </tr>\n",
       "    <tr>\n",
       "      <th>A2MP1</th>\n",
       "      <td>0.500000</td>\n",
       "      <td>0.497799</td>\n",
       "      <td>0.500000</td>\n",
       "      <td>0.500000</td>\n",
       "      <td>0.497799</td>\n",
       "      <td>0.497799</td>\n",
       "      <td>0.500000</td>\n",
       "      <td>0.500000</td>\n",
       "    </tr>\n",
       "    <tr>\n",
       "      <th>...</th>\n",
       "      <td>...</td>\n",
       "      <td>...</td>\n",
       "      <td>...</td>\n",
       "      <td>...</td>\n",
       "      <td>...</td>\n",
       "      <td>...</td>\n",
       "      <td>...</td>\n",
       "      <td>...</td>\n",
       "    </tr>\n",
       "    <tr>\n",
       "      <th>ZYG11A</th>\n",
       "      <td>0.500000</td>\n",
       "      <td>0.497797</td>\n",
       "      <td>0.497402</td>\n",
       "      <td>0.696800</td>\n",
       "      <td>0.697631</td>\n",
       "      <td>0.698617</td>\n",
       "      <td>0.497073</td>\n",
       "      <td>0.500000</td>\n",
       "    </tr>\n",
       "    <tr>\n",
       "      <th>ZYG11B</th>\n",
       "      <td>0.637755</td>\n",
       "      <td>0.537946</td>\n",
       "      <td>0.557488</td>\n",
       "      <td>0.557540</td>\n",
       "      <td>0.557934</td>\n",
       "      <td>0.497796</td>\n",
       "      <td>0.557326</td>\n",
       "      <td>0.988506</td>\n",
       "    </tr>\n",
       "    <tr>\n",
       "      <th>ZYX</th>\n",
       "      <td>0.611280</td>\n",
       "      <td>0.582784</td>\n",
       "      <td>0.536034</td>\n",
       "      <td>0.551913</td>\n",
       "      <td>0.528712</td>\n",
       "      <td>0.582785</td>\n",
       "      <td>0.595934</td>\n",
       "      <td>0.716218</td>\n",
       "    </tr>\n",
       "    <tr>\n",
       "      <th>ZZEF1</th>\n",
       "      <td>0.500000</td>\n",
       "      <td>0.497798</td>\n",
       "      <td>0.497403</td>\n",
       "      <td>0.539001</td>\n",
       "      <td>0.539588</td>\n",
       "      <td>0.497798</td>\n",
       "      <td>0.497073</td>\n",
       "      <td>0.451613</td>\n",
       "    </tr>\n",
       "    <tr>\n",
       "      <th>ZZZ3</th>\n",
       "      <td>0.907071</td>\n",
       "      <td>0.798699</td>\n",
       "      <td>0.773475</td>\n",
       "      <td>0.697884</td>\n",
       "      <td>0.598284</td>\n",
       "      <td>0.648461</td>\n",
       "      <td>0.776420</td>\n",
       "      <td>0.898057</td>\n",
       "    </tr>\n",
       "  </tbody>\n",
       "</table>\n",
       "<p>16549 rows × 8 columns</p>\n",
       "</div>"
      ],
      "text/plain": [
       "        AUC at 100 for STRING_raw  AUC at 100 for LEXAS_plus  \\\n",
       "A1BG                     0.454236                   0.638970   \n",
       "A1CF                     0.214689                   0.547818   \n",
       "A2M                      0.383372                   0.748351   \n",
       "A2ML1                    0.740061                   0.547899   \n",
       "A2MP1                    0.500000                   0.497799   \n",
       "...                           ...                        ...   \n",
       "ZYG11A                   0.500000                   0.497797   \n",
       "ZYG11B                   0.637755                   0.537946   \n",
       "ZYX                      0.611280                   0.582784   \n",
       "ZZEF1                    0.500000                   0.497798   \n",
       "ZZZ3                     0.907071                   0.798699   \n",
       "\n",
       "        AUC at 100 for GOSemSim  AUC at 100 for FunCoup  \\\n",
       "A1BG                   0.544475                0.512835   \n",
       "A1CF                   0.547535                0.547076   \n",
       "A2M                    0.622965                0.497145   \n",
       "A2ML1                  0.497398                0.497146   \n",
       "A2MP1                  0.500000                0.500000   \n",
       "...                         ...                     ...   \n",
       "ZYG11A                 0.497402                0.696800   \n",
       "ZYG11B                 0.557488                0.557540   \n",
       "ZYX                    0.536034                0.551913   \n",
       "ZZEF1                  0.497403                0.539001   \n",
       "ZZZ3                   0.773475                0.697884   \n",
       "\n",
       "        AUC at 100 for LEXAS_data  AUC at 100 for LEXAS  \\\n",
       "A1BG                     0.529093              0.638924   \n",
       "A1CF                     0.547604              0.548028   \n",
       "A2M                      0.623012              0.623340   \n",
       "A2ML1                    0.547705              0.522875   \n",
       "A2MP1                    0.497799              0.497799   \n",
       "...                           ...                   ...   \n",
       "ZYG11A                   0.697631              0.698617   \n",
       "ZYG11B                   0.557934              0.497796   \n",
       "ZYX                      0.528712              0.582785   \n",
       "ZZEF1                    0.539588              0.497798   \n",
       "ZZZ3                     0.598284              0.648461   \n",
       "\n",
       "        AUC at 100 for STRING  AUC at 100 for FunCoup_raw  \n",
       "A1BG                 0.543928                    0.500000  \n",
       "A1CF                 0.497072                    0.500000  \n",
       "A2M                  0.621559                    0.500000  \n",
       "A2ML1                0.580698                    0.500000  \n",
       "A2MP1                0.500000                    0.500000  \n",
       "...                       ...                         ...  \n",
       "ZYG11A               0.497073                    0.500000  \n",
       "ZYG11B               0.557326                    0.988506  \n",
       "ZYX                  0.595934                    0.716218  \n",
       "ZZEF1                0.497073                    0.451613  \n",
       "ZZZ3                 0.776420                    0.898057  \n",
       "\n",
       "[16549 rows x 8 columns]"
      ]
     },
     "execution_count": 140,
     "metadata": {},
     "output_type": "execute_result"
    }
   ],
   "source": [
    "df"
   ]
  },
  {
   "cell_type": "code",
   "execution_count": 200,
   "id": "excited-contrast",
   "metadata": {},
   "outputs": [],
   "source": [
    "!mkdir /mnt/a/nxml/src_231016/eval09/"
   ]
  },
  {
   "cell_type": "code",
   "execution_count": 201,
   "id": "south-jonathan",
   "metadata": {},
   "outputs": [],
   "source": [
    "import os\n",
    "for mode in [\"just_next\",\"all_following\"]:\n",
    "    for eval_mode in [\"test\",\"dev\"]:\n",
    "#        prev_dic, answer_dic = get_dictionaries_for_evaluation(eval_mode, train_dic, dev_dic, test_dic)\n",
    "       # for dire in dirs[eval_mode]:\n",
    "            for top_k in [10,100,1000]:\n",
    "                os.mkdir(f\"/mnt/a/nxml/src_231016/eval09/{eval_mode}_{top_k}_{mode}\")"
   ]
  },
  {
   "cell_type": "code",
   "execution_count": 6,
   "id": "single-denmark",
   "metadata": {},
   "outputs": [
    {
     "name": "stdout",
     "output_type": "stream",
     "text": [
      "FunCoup.csv\t GOSemSim.csv  LEXAS_data.csv  STRING.csv\r\n",
      "FunCoup_raw.csv  LEXAS.csv     LEXAS_plus.csv  STRING_raw.csv\r\n"
     ]
    }
   ],
   "source": [
    "!ls /mnt/a/nxml/src_231016/eval/test_100_all_following"
   ]
  },
  {
   "cell_type": "code",
   "execution_count": 192,
   "id": "colonial-diagram",
   "metadata": {},
   "outputs": [],
   "source": [
    "ps = set()\n",
    "with open(\"./data/HGNC2.txt\",\"r\") as f:\n",
    "    for line in f:\n",
    "        ls = line.strip().split(\"\\t\")\n",
    "        ps.add(ls[0])"
   ]
  },
  {
   "cell_type": "code",
   "execution_count": 211,
   "id": "promotional-antibody",
   "metadata": {},
   "outputs": [],
   "source": [
    "import pandas as pd\n",
    "import os\n",
    "\n",
    "modes =[\"just_next\",\"all_following\"]\n",
    "mode = modes[1]\n",
    "\n",
    "\n",
    "# 初期DataFrame\n",
    "df = pd.DataFrame(index=symbols)\n",
    "\n",
    "# ディレクトリ内のすべてのファイルをループ\n",
    "for file in os.listdir(f\"/mnt/a/nxml/src_231016/eval09/test_10_{mode}\"):\n",
    "    file_path = os.path.join(f\"/mnt/a/nxml/src_231016/eval09/test_10_{mode}\", file)\n",
    "    \n",
    "    # CSVファイルを読み込む\n",
    "    new_df = pd.read_csv(file_path, index_col=1).drop(\"Unnamed: 0\",axis=1)\n",
    "    \n",
    "    # dfとnew_dfを結合\n",
    "    df = pd.merge(df, new_df, how=\"outer\", left_index=True, right_index=True)\n",
    "    df = df[[s in ps for s in df.index]]\n",
    "    df.dropna(axis=0, how='all', inplace=True)\n",
    "    df.fillna(0.5, inplace=True)"
   ]
  },
  {
   "cell_type": "code",
   "execution_count": 212,
   "id": "afraid-protection",
   "metadata": {},
   "outputs": [
    {
     "data": {
      "text/plain": [
       "AUC at 10 for STRING_raw     0.575063\n",
       "AUC at 10 for LEXAS_plus     0.527754\n",
       "AUC at 10 for GOSemSim       0.523891\n",
       "AUC at 10 for FunCoup        0.511353\n",
       "AUC at 10 for LEXAS_data     0.510752\n",
       "AUC at 10 for LEXAS          0.525601\n",
       "AUC at 10 for STRING         0.529373\n",
       "AUC at 10 for FunCoup_raw    0.567297\n",
       "dtype: float64"
      ]
     },
     "execution_count": 212,
     "metadata": {},
     "output_type": "execute_result"
    }
   ],
   "source": [
    "df.mean()"
   ]
  },
  {
   "cell_type": "code",
   "execution_count": null,
   "id": "choice-confirmation",
   "metadata": {},
   "outputs": [],
   "source": []
  }
 ],
 "metadata": {
  "kernelspec": {
   "display_name": "Python 3",
   "language": "python",
   "name": "python3"
  },
  "language_info": {
   "codemirror_mode": {
    "name": "ipython",
    "version": 3
   },
   "file_extension": ".py",
   "mimetype": "text/x-python",
   "name": "python",
   "nbconvert_exporter": "python",
   "pygments_lexer": "ipython3",
   "version": "3.6.9"
  }
 },
 "nbformat": 4,
 "nbformat_minor": 5
}
