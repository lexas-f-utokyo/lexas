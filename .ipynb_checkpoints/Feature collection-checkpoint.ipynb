{
 "cells": [
  {
   "cell_type": "code",
   "execution_count": 1,
   "id": "greater-glenn",
   "metadata": {},
   "outputs": [],
   "source": [
    "import pandas as pd\n",
    "import numpy as np\n",
    "import lexas.gene_to_sym\n",
    "gene_to_sym = lexas.gene_to_sym.get()"
   ]
  },
  {
   "cell_type": "code",
   "execution_count": 2,
   "id": "consolidated-perception",
   "metadata": {},
   "outputs": [],
   "source": [
    "def newdic():\n",
    "    return {g:set() for g in gene_to_sym.values()}\n",
    "def newdic_num():\n",
    "    return {g:[] for g in gene_to_sym.values()}"
   ]
  },
  {
   "cell_type": "markdown",
   "id": "piano-prophet",
   "metadata": {},
   "source": [
    "# Categorical features"
   ]
  },
  {
   "cell_type": "code",
   "execution_count": 3,
   "id": "treated-contract",
   "metadata": {},
   "outputs": [],
   "source": [
    "categorical = {}"
   ]
  },
  {
   "cell_type": "code",
   "execution_count": 5,
   "id": "utility-lighter",
   "metadata": {},
   "outputs": [],
   "source": [
    "#chromosome\n",
    "categorical[\"Chromosome\"] = newdic()\n",
    "df = pd.read_table(\"./data/HGNC.txt\")\n",
    "for c,s in zip(df[\"Chromosome\"],df[\"Approved symbol\"]):\n",
    "    if str(s).upper() in gene_to_sym:\n",
    "        symbol = gene_to_sym[str(s).upper()]\n",
    "        c = str(c)\n",
    "        if \"p\" in c:\n",
    "            c = c[:c.index(\"p\")+1]\n",
    "        elif \"q\" in c:\n",
    "            c = c[:c.index(\"q\")+1]\n",
    "        else:\n",
    "            continue\n",
    "        if len(c) > 3 or c==\"unp\":\n",
    "            continue\n",
    "        categorical[\"Chromosome\"][symbol].add(c)"
   ]
  },
  {
   "cell_type": "code",
   "execution_count": 225,
   "id": "cheap-management",
   "metadata": {},
   "outputs": [],
   "source": [
    "#Gene Ontology\n",
    "\n",
    "#!wget http://geneontology.org/gene-associations/goa_human.gaf.gz -O Repository/Feature/goa_human.gaf.gz\n",
    "#!gunzip Repository/Feature/goa_human.gaf.gz\n",
    "categorical[\"GO\"] =newdic()\n",
    "dfgo = pd.read_table(\"./Repository/Feature/goa_human.gaf\",skiprows=41,header=None)\n",
    "for gene,idx in zip(dfgo[2],dfgo[4]):\n",
    "    gene = str(gene).upper()\n",
    "    if gene in gene_to_sym:\n",
    "        symbol = gene_to_sym[gene]\n",
    "        categorical[\"GO\"][symbol].add(idx)"
   ]
  },
  {
   "cell_type": "code",
   "execution_count": 313,
   "id": "dental-bowling",
   "metadata": {},
   "outputs": [],
   "source": [
    "#MGI\n",
    "#!wget http://www.informatics.jax.org/downloads/reports/MGI_PhenoGenoMP.rpt -O Repository/Feature/MGI_PhenoGenoMP.rpt\n",
    "#!wget http://www.informatics.jax.org/downloads/reports/HMD_HumanPhenotype.rpt -O Repository/Feature/HMD_HumanPhenotype.rpt\n",
    "#!wget http://www.informatics.jax.org/downloads/reports/VOC_MammalianPhenotype.rpt -O Repository/Feature/VOC_MammalianPhenotype.rpt\n",
    "mousep={}\n",
    "mgiset = set()\n",
    "with open(\"./Repository/Feature/MGI_PhenoGenoMP.rpt\",\"r\") as f:\n",
    "    for line in f:\n",
    "        ls = line.strip(\"\\n\").split(\"\\t\")\n",
    "        if \"<\" in ls[1]:\n",
    "            g,p = ls[1][:ls[1].index(\"<\")],ls[3]\n",
    "            if g.upper() not in mousep:\n",
    "                mousep[g.upper()] = set()\n",
    "            mousep[g.upper()].add(p)\n",
    "            \n",
    "categorical[\"MGI\"] = newdic()\n",
    "with open(\"./Repository/Feature/HMD_HumanPhenotype.rpt\",\"r\") as f:\n",
    "    for line in f:\n",
    "        ls = line.strip(\"\\n\").split(\"\\t\")\n",
    "        h,m=ls[0].upper(),ls[2].upper()\n",
    "        if m in mousep and h.upper() in gene_to_sym:\n",
    "            symbol = gene_to_sym[h.upper()]\n",
    "            categorical[\"MGI\"][symbol] = mousep[m]"
   ]
  },
  {
   "cell_type": "code",
   "execution_count": 227,
   "id": "blind-providence",
   "metadata": {},
   "outputs": [],
   "source": [
    "#HPO,OMIM,ORPHAN\n",
    "#!wget http://purl.obolibrary.org/obo/hp/hpoa/genes_to_phenotype.txt -O Repository/Feature/genes_to_phenotype.txt\n",
    "df_hpo = pd.read_table(\"./Repository/Feature/genes_to_phenotype.txt\",skiprows=1,header=None)\n",
    "categorical[\"HPO\"] = newdic()\n",
    "categorical[\"OMIM\"] =  newdic()\n",
    "\n",
    "for g,h,o in zip(df_hpo[1],df_hpo[2],df_hpo[8]):\n",
    "    g = str(g).upper()\n",
    "    if g in gene_to_sym:\n",
    "        symbol = gene_to_sym[g]\n",
    "        categorical[\"HPO\"][symbol].add(h)\n",
    "        categorical[\"OMIM\"][symbol].add(o)"
   ]
  },
  {
   "cell_type": "code",
   "execution_count": 228,
   "id": "northern-question",
   "metadata": {},
   "outputs": [
    {
     "name": "stderr",
     "output_type": "stream",
     "text": [
      "/home/user/.local/lib/python3.6/site-packages/IPython/core/interactiveshell.py:3263: DtypeWarning: Columns (2,3,4,5,6,7,8,9,10,11,12,13,14,15,16,17,18,19,20,21,22,23,24,25,26,27,28,29,30,31,32,33,34,35,36,37,38,39,40,41,42,43,44,45,46,47,48,49,50,51,52,53,54,55,56,57,58,59,60,61,62,63,64,65,66,67,68,69,70,71,72,73,74,75,76,77,78,79,80,81,82,83,84,85,86,87,88,89,90,91,92,93,94,95,96,97,98,99,100,101,102,103,104,105,106,107,108,109,110,111,112,113,114,115,116,117,118,119,120,121,122,123,124,125,126,127,128,129,130,131,132,133,134,135,136,137,138,139,140,141,142,143,144,145,146,147,148,149,150,151,152,153,154,155,156,157,158,159,160,161,162,163,164,165,166,167,168,169,170,171,172,173,174,175,176,177,178,179,180,181,182,183) have mixed types.Specify dtype option on import or set low_memory=False.\n",
      "  if (await self.run_code(code, result,  async_=asy)):\n"
     ]
    },
    {
     "data": {
      "application/vnd.jupyter.widget-view+json": {
       "model_id": "aeb7db9ba500441bbc4dd8fb639549d7",
       "version_major": 2,
       "version_minor": 0
      },
      "text/plain": [
       "  0%|          | 0/181 [00:00<?, ?it/s]"
      ]
     },
     "metadata": {},
     "output_type": "display_data"
    }
   ],
   "source": [
    "#Transcript factors\n",
    "#!wget https://maayanlab.cloud/static/hdfs/harmonizome/data/encodetfppi/gene_attribute_matrix.txt.gz -O Repository/Feature/gene_attribute_matrix.txt.gz\n",
    "#!gunzip Repository/Feature/gene_attribute_matrix.txt.gz\n",
    "\n",
    "import tqdm.notebook\n",
    "import collections\n",
    "dftf = pd.read_table('./Repository/Feature/gene_attribute_matrix.txt',index_col=\"#\")\n",
    "dftf=dftf.drop([\"#.1\",\"GeneSym\"],axis=1)\n",
    "dftf=dftf.drop([\"#\",\"GeneSym\"],axis=0)\n",
    "dftf = dftf.astype(float)\n",
    "dftf.index = [i.upper() for i in dftf.index]\n",
    "c = collections.Counter(dftf.index)\n",
    "categorical[\"TF\"]= newdic()\n",
    "\n",
    "for tf in tqdm.notebook.tqdm(dftf.columns):\n",
    "    dftf2 = dftf[dftf[tf]==1][tf]\n",
    "    for g in dftf2.index:\n",
    "        if g in gene_to_sym and c[g]==1:\n",
    "            symbol = gene_to_sym[g]\n",
    "            categorical[\"TF\"][symbol].add(\"TF: \"+tf)"
   ]
  },
  {
   "cell_type": "code",
   "execution_count": 229,
   "id": "prescribed-flexibility",
   "metadata": {},
   "outputs": [
    {
     "data": {
      "application/vnd.jupyter.widget-view+json": {
       "model_id": "80e0903c2ace42c99886f223dc07ed7b",
       "version_major": 2,
       "version_minor": 0
      },
      "text/plain": [
       "0it [00:00, ?it/s]"
      ]
     },
     "metadata": {},
     "output_type": "display_data"
    }
   ],
   "source": [
    "#iRefindex\n",
    "\n",
    "#!wget https://irefindex.vib.be/download/irefindex/data/archive/release_19.0/psi_mitab/MITAB2.6/9606.mitab.08-22-2022.txt.zip \\\n",
    "#    -O ./Repository/Feature/ifrefindex.txt.zip\n",
    "#!unzip ./Repository/Feature/ifrefindex.txt.zip\n",
    "\n",
    "f = open(\"./Repository/Feature/-\",\"r\")\n",
    "categorical[\"iRefIndex\"] = newdic()\n",
    "c = 0\n",
    "for line in tqdm.notebook.tqdm(f):\n",
    "  ls = line.strip(\"\\n\").split(\"\\t\")\n",
    "  if ls[4].startswith(\"hgnc\") and ls[5].startswith(\"hgnc\"):\n",
    "    proa = ls[4].split(\"|\")[0][5:].upper()\n",
    "    prob = ls[5].split(\"|\")[0][5:].upper()\n",
    "    if proa in gene_to_sym and prob in gene_to_sym:\n",
    "        symbol_a = gene_to_sym[proa]\n",
    "        symbol_b = gene_to_sym[prob]\n",
    "        categorical[\"iRefIndex\"][symbol_a].add(\"iRefIndex: \"+symbol_b)\n",
    "        categorical[\"iRefIndex\"][symbol_b].add(\"iRefIndex: \"+symbol_a) \n",
    "f.close()"
   ]
  },
  {
   "cell_type": "code",
   "execution_count": 230,
   "id": "swiss-emerald",
   "metadata": {},
   "outputs": [],
   "source": [
    "#subcellular localization\n",
    "#!wget https://www.proteinatlas.org/download/subcellular_location.tsv.zip -O ./Repository/Feature/subcellular_location.tsv.zip\n",
    "#!unzip ./Repository/Feature/subcellular_location.tsv.zip -d ./Repository/Feature\n",
    "import pandas as pd\n",
    "categorical[\"Localization\"] = newdic()\n",
    "df = pd.read_table('./Repository/Feature/subcellular_location.tsv')\n",
    "for loc,gene in zip(df[\"Main location\"],df[\"Gene name\"]):\n",
    "    gene = gene.upper()\n",
    "    if gene in gene_to_sym:\n",
    "        symbol = gene_to_sym[gene]\n",
    "        if type(loc)==str:\n",
    "            categorical[\"Localization\"][symbol] = slodic[symbol] | set(loc.strip().split(\";\"))\n",
    "for symbol in slodic:\n",
    "    categorical[\"Localization\"][symbol] = {\"Localization: \"+l for l in categorical[\"Localization\"][symbol]}"
   ]
  },
  {
   "cell_type": "code",
   "execution_count": 231,
   "id": "alternative-topic",
   "metadata": {},
   "outputs": [],
   "source": [
    "#DepMap_WebSter\n",
    "#!wget https://www.cell.com/cms/10.1016/j.cels.2021.12.005/attachment/dbe94bef-7b50-43ea-bc46-415415a813d9/mmc4.xlsx\n",
    "#%mv mmc4.xlsx ./Repository/Feature/webster.xlsx\n",
    "dfweb = pd.read_excel(\"./Repository/Feature/webster.xlsx\",sheet_name=\"Gene meta\",engine=\"openpyxl\")\n",
    "dfweb2 = pd.read_excel(\"./Repository/Feature/webster.xlsx\",sheet_name=\"Function Names\",engine=\"openpyxl\")\n",
    "function_name = {}\n",
    "for m,v in zip(dfweb2[\"Manual Name\"],dfweb2[\"Name\"]):\n",
    "    function_name[v] = m\n",
    "\n",
    "categorical[\"WebSter\"] = newdic()\n",
    "symbols = dfweb[\"symbol\"].tolist()\n",
    "funcs = [dfweb[\"Function_{}\".format(n)].tolist() for n in range(1,5)]\n",
    "loadings = [dfweb[\"Loading_{}\".format(n)].tolist() for n in range(1,5)]\n",
    "for n in range(len(dfweb)):\n",
    "    gene = str(symbols[n])\n",
    "    if gene.upper() in gene_to_sym:\n",
    "        symbol = gene_to_sym[gene.upper()]\n",
    "        for k in range(4):\n",
    "            if abs(loadings[k][n])>0.1:\n",
    "                v = funcs[k][n]\n",
    "                categorical[\"WebSter\"][symbol].add(\"WebSter: {} ({})\".format(v,function_name[v]))"
   ]
  },
  {
   "cell_type": "markdown",
   "id": "atomic-frequency",
   "metadata": {},
   "source": [
    "# Numerical features"
   ]
  },
  {
   "cell_type": "code",
   "execution_count": 233,
   "id": "organizational-titanium",
   "metadata": {},
   "outputs": [],
   "source": [
    "numerical = {}"
   ]
  },
  {
   "cell_type": "code",
   "execution_count": 234,
   "id": "equal-tribune",
   "metadata": {},
   "outputs": [],
   "source": [
    "#Expression@Tissue\n",
    "#!wget https://www.proteinatlas.org/download/rna_tissue_hpa.tsv.zip -O Repository/Feature/rna_tissue_hpa.tsv.zip\n",
    "#!unzip ./Repository/Feature/rna_tissue_hpa.tsv.zip -d ./Repository/Feature\n",
    "numerical[\"Tissue_expression\"] = newdic_num()\n",
    "with open(\"./Repository/Feature/rna_tissue_hpa.tsv\",\"r\") as f:\n",
    "    for line in f:\n",
    "        ls = line.strip(\"\\n\").split(\"\\t\")\n",
    "        if ls[1].upper() in gene_to_sym:\n",
    "            symbol = gene_to_sym[ls[1].upper()]\n",
    "            numerical[\"Tissue_expression\"][symbol].append(float(ls[3]))"
   ]
  },
  {
   "cell_type": "code",
   "execution_count": 235,
   "id": "republican-expression",
   "metadata": {},
   "outputs": [],
   "source": [
    "#Expression@Cancer_cell_lines\n",
    "#!wget https://cog.sanger.ac.uk/cmp/download/rnaseq_all_20220624.zip -O Repository/Feature/rnaseq_all_20220624.zip\n",
    "#!unzip ./Repository/Feature/rnaseq_all_20220624.zip -d ./Repository/Feature\n",
    "numerical[\"Cancer_expression\"] = newdic_num()\n",
    "with open(\"./Repository/Feature/rnaseq_tpm_20220624.csv\",\"r\") as f:\n",
    "    for line in f:\n",
    "        ls = line.strip(\"\\n\").split(\",\")\n",
    "        if ls[1].upper() in gene_to_sym:\n",
    "            symbol = gene_to_sym[ls[1].upper()]\n",
    "            try:\n",
    "                numerical[\"Cancer_expression\"][symbol] = [float(s) for s in ls[2:]]\n",
    "            except ValueError:\n",
    "                continue"
   ]
  },
  {
   "cell_type": "code",
   "execution_count": 236,
   "id": "photographic-drunk",
   "metadata": {},
   "outputs": [
    {
     "data": {
      "application/vnd.jupyter.widget-view+json": {
       "model_id": "1d055efb244f4f54a62aeab59f6baaae",
       "version_major": 2,
       "version_minor": 0
      },
      "text/plain": [
       "  0%|          | 0/17386 [00:00<?, ?it/s]"
      ]
     },
     "metadata": {},
     "output_type": "display_data"
    }
   ],
   "source": [
    "#Dependency_map\n",
    "#!wget https://ndownloader.figshare.com/files/31315996\n",
    "#%mv 31315996 ./Repository/Feature/Crispr.csv\n",
    "numerical[\"DepMap\"]=newdic_num()\n",
    "dfdep = pd.read_csv(\"./Repository/Feature/Crispr.csv\")\n",
    "dfdep = dfdep.drop(\"DepMap_ID\",axis=1).dropna()\n",
    "dfdep.columns = [g[:g.index(\"(\")-1].upper() for g in dfdep.columns]\n",
    "for gene in tqdm.notebook.tqdm(dfdep.columns):\n",
    "    if gene.upper() in gene_to_sym:\n",
    "        symbol = gene_to_sym[gene.upper()]\n",
    "        numerical[\"DepMap\"][symbol] = dfdep[gene].tolist()"
   ]
  },
  {
   "cell_type": "code",
   "execution_count": 1,
   "id": "graduate-skill",
   "metadata": {
    "collapsed": true
   },
   "outputs": [
    {
     "ename": "NameError",
     "evalue": "name 'newdic_num' is not defined",
     "output_type": "error",
     "traceback": [
      "\u001b[0;31m---------------------------------------------------------------------------\u001b[0m",
      "\u001b[0;31mNameError\u001b[0m                                 Traceback (most recent call last)",
      "\u001b[0;32m<ipython-input-1-1bca94a34db0>\u001b[0m in \u001b[0;36m<module>\u001b[0;34m\u001b[0m\n\u001b[1;32m      2\u001b[0m \u001b[0;32mimport\u001b[0m \u001b[0mgensim\u001b[0m\u001b[0;34m\u001b[0m\u001b[0;34m\u001b[0m\u001b[0m\n\u001b[1;32m      3\u001b[0m \u001b[0mmodel\u001b[0m \u001b[0;34m=\u001b[0m \u001b[0mgensim\u001b[0m\u001b[0;34m.\u001b[0m\u001b[0mmodels\u001b[0m\u001b[0;34m.\u001b[0m\u001b[0mWord2Vec\u001b[0m\u001b[0;34m.\u001b[0m\u001b[0mload\u001b[0m\u001b[0;34m(\u001b[0m\u001b[0;34m'./wv/word2vec_window10.model'\u001b[0m\u001b[0;34m)\u001b[0m\u001b[0;34m\u001b[0m\u001b[0;34m\u001b[0m\u001b[0m\n\u001b[0;32m----> 4\u001b[0;31m \u001b[0mnumerical\u001b[0m\u001b[0;34m[\u001b[0m\u001b[0;34m\"Word2Vec\"\u001b[0m\u001b[0;34m]\u001b[0m \u001b[0;34m=\u001b[0m \u001b[0mnewdic_num\u001b[0m\u001b[0;34m(\u001b[0m\u001b[0;34m)\u001b[0m\u001b[0;34m\u001b[0m\u001b[0;34m\u001b[0m\u001b[0m\n\u001b[0m\u001b[1;32m      5\u001b[0m \u001b[0;32mfor\u001b[0m \u001b[0msymbol\u001b[0m \u001b[0;32min\u001b[0m \u001b[0mset\u001b[0m\u001b[0;34m(\u001b[0m\u001b[0mgene_to_sym\u001b[0m\u001b[0;34m.\u001b[0m\u001b[0mvalues\u001b[0m\u001b[0;34m(\u001b[0m\u001b[0;34m)\u001b[0m\u001b[0;34m)\u001b[0m\u001b[0;34m:\u001b[0m\u001b[0;34m\u001b[0m\u001b[0;34m\u001b[0m\u001b[0m\n\u001b[1;32m      6\u001b[0m     \u001b[0msymbol\u001b[0m \u001b[0;34m=\u001b[0m \u001b[0msymbol\u001b[0m\u001b[0;34m.\u001b[0m\u001b[0mlower\u001b[0m\u001b[0;34m(\u001b[0m\u001b[0;34m)\u001b[0m\u001b[0;34m\u001b[0m\u001b[0;34m\u001b[0m\u001b[0m\n",
      "\u001b[0;31mNameError\u001b[0m: name 'newdic_num' is not defined"
     ]
    }
   ],
   "source": [
    "#word2vec\n",
    "import gensim\n",
    "model = gensim.models.Word2Vec.load('./Reposiroty/word2vec_window10.model')\n",
    "numerical[\"Word2Vec\"] = newdic_num()\n",
    "for symbol in set(gene_to_sym.values()):\n",
    "    symbol = symbol.lower()\n",
    "    if symbol in model.wv:\n",
    "        numerical[\"Word2Vec\"][symbol.upper()] = model.wv[symbol]"
   ]
  },
  {
   "cell_type": "markdown",
   "id": "technological-check",
   "metadata": {},
   "source": [
    "# STRING"
   ]
  },
  {
   "cell_type": "code",
   "execution_count": 287,
   "id": "initial-vaccine",
   "metadata": {
    "collapsed": true
   },
   "outputs": [
    {
     "name": "stdout",
     "output_type": "stream",
     "text": [
      "--2023-02-04 16:29:29--  http://version10.string-db.org/download/protein.links.v10/9606.protein.links.v10.txt.gz\n",
      "version10.string-db.org (version10.string-db.org) をDNSに問いあわせています... 194.94.44.34\n",
      "version10.string-db.org (version10.string-db.org)|194.94.44.34|:80 に接続しています... 接続しました。\n",
      "HTTP による接続要求を送信しました、応答を待っています... 200 OK\n",
      "長さ: 46960139 (45M) [application/x-gzip]\n",
      "`./Repository/Feature/protein.links.v10.txt.gz' に保存中\n",
      "\n",
      "./Repository/Featur 100%[===================>]  44.78M   430KB/s    時間 1m 47s  \n",
      "\n",
      "2023-02-04 16:31:16 (430 KB/s) - `./Repository/Feature/protein.links.v10.txt.gz' へ保存完了 [46960139/46960139]\n",
      "\n"
     ]
    }
   ],
   "source": [
    "#!wget http://version10.string-db.org/download/protein.links.v10/9606.protein.links.v10.txt.gz -O ./Repository/Feature/protein.links.v10.txt.gz\n",
    "#!gunzip ./Repository/Feature/protein.links.v10.txt.gz"
   ]
  },
  {
   "cell_type": "code",
   "execution_count": 10,
   "id": "impressive-stomach",
   "metadata": {},
   "outputs": [],
   "source": [
    "#ID convert from Ensembl protein to HGNC\n",
    "dfhg = pd.read_table(\"./data/mart_export.txt\")\n",
    "ensp_to_sym={}\n",
    "for s,p in zip(dfhg[\"HGNC symbol\"],dfhg[\"Protein stable ID\"]):\n",
    "    if type(s)!=str:\n",
    "        continue\n",
    "    s = s.upper()\n",
    "    if s in gene_to_sym and p!=\"\":\n",
    "          ensp_to_sym[p]=gene_to_sym[s]"
   ]
  },
  {
   "cell_type": "code",
   "execution_count": 309,
   "id": "lesbian-tomorrow",
   "metadata": {},
   "outputs": [],
   "source": [
    "#!head ./Repository/Feature/protein.links.v10.txt -n 3\n",
    "f2 = open(\"./Repository/feature/string.txt\",\"w\")\n",
    "with open(\"./Repository/Feature/protein.links.v10.txt\",\"r\") as f:\n",
    "    for line in f:\n",
    "        ls = line.strip(\"\\n\").split(\" \")\n",
    "        if ls[0].startswith(\"9606.\"):\n",
    "            protein_a = ls[0][5:]\n",
    "            protein_b = ls[1][5:]\n",
    "            if protein_a in ensp_to_sym and protein_b in ensp_to_sym:\n",
    "                symbol_a = ensp_to_sym[protein_a]\n",
    "                symbol_b = ensp_to_sym[protein_b]\n",
    "                f2.write(\"\\t\".join([symbol_a,symbol_b,ls[2]])+\"\\n\")\n",
    "f2.close()"
   ]
  },
  {
   "cell_type": "markdown",
   "id": "secret-portuguese",
   "metadata": {},
   "source": [
    "# Collection"
   ]
  },
  {
   "cell_type": "code",
   "execution_count": 260,
   "id": "single-adjustment",
   "metadata": {},
   "outputs": [],
   "source": [
    "with open(\"./Repository/feature/numerical_feature.txt\",\"w\") as f:\n",
    "    for num in numerical:\n",
    "        dic = numerical[num]\n",
    "        for gene in dic:\n",
    "            f.write(num+\"\\t\"+gene+\"\\t\")\n",
    "            f.write(\",\".join([str(v) for v in dic[gene]]))\n",
    "            f.write(\"\\n\")"
   ]
  },
  {
   "cell_type": "code",
   "execution_count": 318,
   "id": "unauthorized-pendant",
   "metadata": {},
   "outputs": [],
   "source": [
    "import collections\n",
    "def feature_filter(dic,n=5):\n",
    "    l = []\n",
    "    for value in dic.values():\n",
    "        l += list(value)\n",
    "    c = collections.Counter(l)\n",
    "    ret = {}\n",
    "    for key in dic.keys():\n",
    "        ret[key] = {feature for feature in dic[key] if c[feature]>=n}\n",
    "    return ret"
   ]
  },
  {
   "cell_type": "code",
   "execution_count": 319,
   "id": "dried-broadcast",
   "metadata": {},
   "outputs": [],
   "source": [
    "#categorical features annotated on at least 10 genes were used \n",
    "with open(\"./Repository/feature/categorical_feature_10.txt\",\"w\") as f:\n",
    "    for cat in categorical:\n",
    "        dic = categorical[cat]\n",
    "        dic = feature_filter(dic,n=10)\n",
    "        for gene in dic:\n",
    "            f.write(cat+\"\\t\"+gene+\"\\t\")\n",
    "            f.write(\",\".join(dic[gene]))\n",
    "            f.write(\"\\n\")"
   ]
  }
 ],
 "metadata": {
  "kernelspec": {
   "display_name": "Python 3",
   "language": "python",
   "name": "python3"
  },
  "language_info": {
   "codemirror_mode": {
    "name": "ipython",
    "version": 3
   },
   "file_extension": ".py",
   "mimetype": "text/x-python",
   "name": "python",
   "nbconvert_exporter": "python",
   "pygments_lexer": "ipython3",
   "version": "3.6.9"
  }
 },
 "nbformat": 4,
 "nbformat_minor": 5
}
