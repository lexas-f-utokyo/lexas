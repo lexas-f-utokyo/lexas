{
 "cells": [
  {
   "cell_type": "code",
   "execution_count": 4,
   "id": "progressive-blanket",
   "metadata": {},
   "outputs": [],
   "source": [
    "import pandas as pd\n",
    "from lexas import evaluation\n",
    "from lexas import prediction\n",
    "symbols = prediction.symbols\n",
    "mode = \"all_following\" #all_following or just_next"
   ]
  },
  {
   "cell_type": "markdown",
   "id": "dutch-instruction",
   "metadata": {},
   "source": [
    "# Preparation"
   ]
  },
  {
   "cell_type": "code",
   "execution_count": 5,
   "id": "promotional-mileage",
   "metadata": {},
   "outputs": [
    {
     "name": "stderr",
     "output_type": "stream",
     "text": [
      "798it [00:00, 145619.08it/s]\n",
      "798it [00:00, 378283.75it/s]\n",
      "798it [00:00, 360518.59it/s]\n"
     ]
    }
   ],
   "source": [
    "path_to_csv = \"./data/experiments_for_xgboost.csv\"\n",
    "train_dic = evaluation.generate_dic_for_eval(\n",
    "    path_to_csv,\n",
    "    1930,  #start year\n",
    "    2018,  #end year\n",
    "    mode) \n",
    "\n",
    "dev_dic = evaluation.generate_dic_for_eval(path_to_csv,2019,2019,mode)\n",
    "test_dic = evaluation.generate_dic_for_eval(path_to_csv,2020,2023,mode)\n",
    "\n",
    "#Save the dictionaries\n",
    "#The disctionaries are saved as ./eval/dic_{mode}.csv\n",
    "evaluation.save_dic(train_dic,dev_dic,test_dic,mode)"
   ]
  },
  {
   "cell_type": "markdown",
   "id": "known-stupid",
   "metadata": {},
   "source": [
    "# Evaluation"
   ]
  },
  {
   "cell_type": "code",
   "execution_count": 6,
   "id": "considerable-juvenile",
   "metadata": {},
   "outputs": [
    {
     "name": "stdout",
     "output_type": "stream",
     "text": [
      "['CEP295', 'CEP135', 'CEP192', 'PLK4', 'PCM1', 'SASS6', 'CCP110', 'NEK7', 'PCNA', 'CENPJ', 'CDH1', 'IFT88', 'STIL', 'CEP152', 'RBM14']\n",
      "['PLK4', 'CEP192', 'SASS6', 'PCNT', 'STIL', 'CEP152']\n",
      "['PLK4', 'CEP192', 'PLK1', 'SASS6', 'PCNT', 'CEP57', 'CDK5RAP2']\n"
     ]
    }
   ],
   "source": [
    "#Loading data\n",
    "mode = \"just_next\"\n",
    "mode = \"all_following\"\n",
    "\n",
    "train_dic,dev_dic,test_dic = evaluation.load_dic(mode)\n",
    "\n",
    "print(train_dic[\"PLK4\"]) #Genes examined after PLK4 in the articles published before 2018\n",
    "print(dev_dic[\"PLK4\"]) #Genes examined after PLK4 in the articles published in 2019\n",
    "print(test_dic[\"PLK4\"]) #Genes examined after PLK4 in the articles published after 2020"
   ]
  },
  {
   "cell_type": "code",
   "execution_count": 7,
   "id": "smaller-distinction",
   "metadata": {},
   "outputs": [],
   "source": [
    "# Genes examined after a query gene in the previous data are not considered false or true. \n",
    "# They are removed from evaluation.\n",
    "# prev_dic stores genes examined previously to the answer data set\n",
    "\n",
    "def get_dictionaries_for_evaluation(eval_mode, train_dic, dev_dic, test_dic):   \n",
    "    if eval_mode == \"dev\":\n",
    "        prev_dic = train_dic.copy()\n",
    "        answer_dic = dev_dic.copy()\n",
    "    elif eval_mode == \"test\":\n",
    "        prev_dic = {k: train_dic[k] + dev_dic[k] for k in train_dic}\n",
    "        answer_dic = test_dic.copy()\n",
    "    else:\n",
    "        raise ValueError(\"Evaluation mode should be \\\"dev\\\" or \\\"test\\\"\")\n",
    "    \n",
    "    return prev_dic, answer_dic\n",
    "\n",
    "eval_mode = \"test\" #dev or test\n",
    "prev_dic, answer_dic = get_dictionaries_for_evaluation(eval_mode, train_dic, dev_dic, test_dic)"
   ]
  },
  {
   "cell_type": "code",
   "execution_count": 8,
   "id": "anticipated-scheduling",
   "metadata": {},
   "outputs": [
    {
     "name": "stderr",
     "output_type": "stream",
     "text": [
      "100%|██████████| 5/5 [00:00<00:00, 14.31it/s]\n"
     ]
    },
    {
     "data": {
      "text/html": [
       "<div>\n",
       "<style scoped>\n",
       "    .dataframe tbody tr th:only-of-type {\n",
       "        vertical-align: middle;\n",
       "    }\n",
       "\n",
       "    .dataframe tbody tr th {\n",
       "        vertical-align: top;\n",
       "    }\n",
       "\n",
       "    .dataframe thead th {\n",
       "        text-align: right;\n",
       "    }\n",
       "</style>\n",
       "<table border=\"1\" class=\"dataframe\">\n",
       "  <thead>\n",
       "    <tr style=\"text-align: right;\">\n",
       "      <th></th>\n",
       "      <th>Symbol</th>\n",
       "      <th>AUC at 100 for xgboost</th>\n",
       "    </tr>\n",
       "  </thead>\n",
       "  <tbody>\n",
       "    <tr>\n",
       "      <th>0</th>\n",
       "      <td>PLK4</td>\n",
       "      <td>0.664963</td>\n",
       "    </tr>\n",
       "    <tr>\n",
       "      <th>1</th>\n",
       "      <td>SASS6</td>\n",
       "      <td>0.664955</td>\n",
       "    </tr>\n",
       "    <tr>\n",
       "      <th>2</th>\n",
       "      <td>CEP152</td>\n",
       "      <td>0.497394</td>\n",
       "    </tr>\n",
       "    <tr>\n",
       "      <th>3</th>\n",
       "      <td>CEP192</td>\n",
       "      <td>0.698439</td>\n",
       "    </tr>\n",
       "    <tr>\n",
       "      <th>4</th>\n",
       "      <td>PCNT</td>\n",
       "      <td>0.798661</td>\n",
       "    </tr>\n",
       "  </tbody>\n",
       "</table>\n",
       "</div>"
      ],
      "text/plain": [
       "   Symbol  AUC at 100 for xgboost\n",
       "0    PLK4                0.664963\n",
       "1   SASS6                0.664955\n",
       "2  CEP152                0.497394\n",
       "3  CEP192                0.698439\n",
       "4    PCNT                0.798661"
      ]
     },
     "execution_count": 8,
     "metadata": {},
     "output_type": "execute_result"
    }
   ],
   "source": [
    "#Calculate AUC\n",
    "model_name =\"xgboost\"\n",
    "genes = [\"PLK4\",\"SASS6\",\"CEP152\",\"CEP192\",\"PCNT\"]\n",
    "result_dir = \"./result/xgboost\"\n",
    "top_k = 100\n",
    "\n",
    "import os\n",
    "import tqdm\n",
    "\n",
    "evaluation.calculate_auc_for_many_genes(result_dir, model_name, prev_dic, answer_dic, top_k, genes=genes)"
   ]
  },
  {
   "cell_type": "markdown",
   "id": "green-cheat",
   "metadata": {},
   "source": [
    "# Comparison with other tools "
   ]
  },
  {
   "cell_type": "code",
   "execution_count": 41,
   "id": "continental-string",
   "metadata": {},
   "outputs": [
    {
     "name": "stderr",
     "output_type": "stream",
     "text": [
      "100%|██████████| 5/5 [00:00<00:00, 20.95it/s]\n",
      "100%|██████████| 5/5 [00:00<00:00, 14.40it/s]\n",
      "100%|██████████| 5/5 [00:00<00:00, 15.02it/s]\n",
      "100%|██████████| 5/5 [00:00<00:00, 19.43it/s]\n",
      "100%|██████████| 5/5 [00:00<00:00, 20.09it/s]\n",
      "100%|██████████| 5/5 [00:00<00:00, 18.34it/s]\n"
     ]
    },
    {
     "data": {
      "text/html": [
       "<div>\n",
       "<style scoped>\n",
       "    .dataframe tbody tr th:only-of-type {\n",
       "        vertical-align: middle;\n",
       "    }\n",
       "\n",
       "    .dataframe tbody tr th {\n",
       "        vertical-align: top;\n",
       "    }\n",
       "\n",
       "    .dataframe thead th {\n",
       "        text-align: right;\n",
       "    }\n",
       "</style>\n",
       "<table border=\"1\" class=\"dataframe\">\n",
       "  <thead>\n",
       "    <tr style=\"text-align: right;\">\n",
       "      <th></th>\n",
       "      <th>Symbol</th>\n",
       "      <th>AUC at 100 for xgboost</th>\n",
       "      <th>AUC at 100 for string_rwr</th>\n",
       "      <th>AUC at 100 for funcoup_rwr</th>\n",
       "      <th>AUC at 100 for string_raw</th>\n",
       "      <th>AUC at 100 for funcoup_raw</th>\n",
       "      <th>AUC at 100 for gosemsim</th>\n",
       "    </tr>\n",
       "  </thead>\n",
       "  <tbody>\n",
       "    <tr>\n",
       "      <th>0</th>\n",
       "      <td>PLK4</td>\n",
       "      <td>0.999217</td>\n",
       "      <td>0.914456</td>\n",
       "      <td>0.580925</td>\n",
       "      <td>0.999054</td>\n",
       "      <td>0.915867</td>\n",
       "      <td>0.998064</td>\n",
       "    </tr>\n",
       "    <tr>\n",
       "      <th>1</th>\n",
       "      <td>SASS6</td>\n",
       "      <td>0.999148</td>\n",
       "      <td>0.832095</td>\n",
       "      <td>0.664783</td>\n",
       "      <td>0.831880</td>\n",
       "      <td>0.747574</td>\n",
       "      <td>0.998134</td>\n",
       "    </tr>\n",
       "    <tr>\n",
       "      <th>2</th>\n",
       "      <td>CEP152</td>\n",
       "      <td>0.915790</td>\n",
       "      <td>0.748031</td>\n",
       "      <td>0.664783</td>\n",
       "      <td>0.748598</td>\n",
       "      <td>0.664947</td>\n",
       "      <td>0.915067</td>\n",
       "    </tr>\n",
       "    <tr>\n",
       "      <th>3</th>\n",
       "      <td>CEP192</td>\n",
       "      <td>0.898209</td>\n",
       "      <td>0.765123</td>\n",
       "      <td>0.798007</td>\n",
       "      <td>0.765202</td>\n",
       "      <td>0.731413</td>\n",
       "      <td>0.831728</td>\n",
       "    </tr>\n",
       "    <tr>\n",
       "      <th>4</th>\n",
       "      <td>PCNT</td>\n",
       "      <td>0.898543</td>\n",
       "      <td>0.797946</td>\n",
       "      <td>0.731293</td>\n",
       "      <td>0.798421</td>\n",
       "      <td>0.731252</td>\n",
       "      <td>0.831632</td>\n",
       "    </tr>\n",
       "  </tbody>\n",
       "</table>\n",
       "</div>"
      ],
      "text/plain": [
       "   Symbol  AUC at 100 for xgboost  AUC at 100 for string_rwr  \\\n",
       "0    PLK4                0.999217                   0.914456   \n",
       "1   SASS6                0.999148                   0.832095   \n",
       "2  CEP152                0.915790                   0.748031   \n",
       "3  CEP192                0.898209                   0.765123   \n",
       "4    PCNT                0.898543                   0.797946   \n",
       "\n",
       "   AUC at 100 for funcoup_rwr  AUC at 100 for string_raw  \\\n",
       "0                    0.580925                   0.999054   \n",
       "1                    0.664783                   0.831880   \n",
       "2                    0.664783                   0.748598   \n",
       "3                    0.798007                   0.765202   \n",
       "4                    0.731293                   0.798421   \n",
       "\n",
       "   AUC at 100 for funcoup_raw  AUC at 100 for gosemsim  \n",
       "0                    0.915867                 0.998064  \n",
       "1                    0.747574                 0.998134  \n",
       "2                    0.664947                 0.915067  \n",
       "3                    0.731413                 0.831728  \n",
       "4                    0.731252                 0.831632  "
      ]
     },
     "execution_count": 41,
     "metadata": {},
     "output_type": "execute_result"
    }
   ],
   "source": [
    "import tqdm\n",
    "import os\n",
    "from lexas import evaluation\n",
    "\n",
    "model_names =[\"xgboost\",\"string_rwr\",\"funcoup_rwr\",\"string_raw\",\"funcoup_raw\",\"gosemsim\"]\n",
    "genes = [\"PLK4\",\"SASS6\",\"CEP152\",\"CEP192\",\"PCNT\"]\n",
    "top_k = 100\n",
    "results = []\n",
    "\n",
    "for model_name in model_names:\n",
    "    result_dir = f\"./result/{model_name}\"\n",
    "    result = evaluation.calculate_auc_for_many_genes(result_dir, model_name, prev_dic, answer_dic, top_k, genes=genes)\n",
    "    results.append(result)\n",
    "\n",
    "from functools import reduce\n",
    "merged_df = reduce(lambda left, right: pd.merge(left, right, on='Symbol', how='inner'), results)\n",
    "merged_df "
   ]
  },
  {
   "cell_type": "markdown",
   "id": "northern-providence",
   "metadata": {},
   "source": [
    "# Mann-Whitney U test and 95%CI"
   ]
  },
  {
   "cell_type": "code",
   "execution_count": 50,
   "id": "cordless-canadian",
   "metadata": {},
   "outputs": [
    {
     "name": "stdout",
     "output_type": "stream",
     "text": [
      "P value: MannwhitneyuResult(statistic=2.0, pvalue=0.01835692818135205)\n"
     ]
    },
    {
     "data": {
      "text/plain": [
       "(0.13065129243650853, 0.06356919228130574, 0.19415064029747217)"
      ]
     },
     "execution_count": 50,
     "metadata": {},
     "output_type": "execute_result"
    }
   ],
   "source": [
    "import numpy as np\n",
    "import pandas as pd\n",
    "from scipy.stats import mannwhitneyu\n",
    "\n",
    "group1_data = merged_df[\"AUC at 100 for xgboost\"]\n",
    "group2_data = merged_df[\"AUC at 100 for string_rwr\"]\n",
    "\n",
    "# Perform a Mann-Whitney U test to compare the two groups\n",
    "print(\"P value:\", mannwhitneyu(group1_data, group2_data))\n",
    "\n",
    "# Calculate the effect size (difference in means) between the two groups\n",
    "original_effect = np.mean(group1_data) - np.mean(group2_data)\n",
    "\n",
    "# Bootstrap resampling for estimating a 95% confidence interval of the effect size difference\n",
    "bootstrap_samples = 10000\n",
    "bootstrap_effects = []\n",
    "\n",
    "for _ in range(bootstrap_samples):\n",
    "    # Randomly sample with replacement from both groups' data\n",
    "    sample_group1 = np.random.choice(group1_data, size=len(merged_df), replace=True)\n",
    "    sample_group2 = np.random.choice(group2_data, size=len(merged_df), replace=True)\n",
    "\n",
    "    # Calculate the effect size (difference in means) for the bootstrap sample\n",
    "    effect = np.mean(sample_group1) - np.mean(sample_group2)\n",
    "    bootstrap_effects.append(effect)\n",
    "\n",
    "# Calculate the 95% confidence interval for the effect size difference\n",
    "lower_bound = np.percentile(bootstrap_effects, 2.5)\n",
    "upper_bound = np.percentile(bootstrap_effects, 97.5)\n",
    "\n",
    "original_effect, lower_bound, upper_bound"
   ]
  }
 ],
 "metadata": {
  "kernelspec": {
   "display_name": "Python 3",
   "language": "python",
   "name": "python3"
  },
  "language_info": {
   "codemirror_mode": {
    "name": "ipython",
    "version": 3
   },
   "file_extension": ".py",
   "mimetype": "text/x-python",
   "name": "python",
   "nbconvert_exporter": "python",
   "pygments_lexer": "ipython3",
   "version": "3.6.9"
  }
 },
 "nbformat": 4,
 "nbformat_minor": 5
}
