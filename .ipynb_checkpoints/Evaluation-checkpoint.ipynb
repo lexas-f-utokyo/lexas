{
 "cells": [
  {
   "cell_type": "code",
   "execution_count": 1,
   "id": "progressive-blanket",
   "metadata": {},
   "outputs": [],
   "source": [
    "import pandas as pd\n",
    "from lexas import evaluation\n",
    "from lexas import prediction\n",
    "symbols = prediction.symbols\n",
    "mode = \"all_following\" #all_following or just_next"
   ]
  },
  {
   "cell_type": "markdown",
   "id": "dutch-instruction",
   "metadata": {},
   "source": [
    "# Preparation"
   ]
  },
  {
   "cell_type": "code",
   "execution_count": 2,
   "id": "promotional-mileage",
   "metadata": {},
   "outputs": [
    {
     "name": "stderr",
     "output_type": "stream",
     "text": [
      "798it [00:00, 383704.53it/s]\n",
      "798it [00:00, 422554.55it/s]\n",
      "798it [00:00, 449872.93it/s]\n"
     ]
    }
   ],
   "source": [
    "path_to_csv = \"./data/experiments_for_xgboost.csv\"\n",
    "train_dic = evaluation.generate_dic_for_eval(\n",
    "    path_to_csv,\n",
    "    1930,  #start year\n",
    "    2018,  #end year\n",
    "    mode) \n",
    "\n",
    "dev_dic = evaluation.generate_dic_for_eval(path_to_csv,2019,2019,mode)\n",
    "test_dic = evaluation.generate_dic_for_eval(path_to_csv,2020,2023,mode)\n",
    "\n",
    "#Save the dictionaries\n",
    "#The disctionaries are saved as ./eval/dic_{mode}.csv\n",
    "evaluation.save_dic(train_dic,dev_dic,test_dic,mode)"
   ]
  },
  {
   "cell_type": "markdown",
   "id": "known-stupid",
   "metadata": {},
   "source": [
    "# Evaluation"
   ]
  },
  {
   "cell_type": "code",
   "execution_count": 3,
   "id": "considerable-juvenile",
   "metadata": {},
   "outputs": [
    {
     "name": "stdout",
     "output_type": "stream",
     "text": [
      "['CEP152', 'RBM14', 'SASS6', 'STIL', 'IFT88', 'CEP192', 'CCP110', 'PLK4', 'CEP135', 'CEP295', 'CDH1', 'PCM1', 'NEK7', 'PCNA', 'CENPJ']\n",
      "['CEP152', 'PCNT', 'STIL', 'CEP192', 'PLK4', 'SASS6']\n",
      "['PCNT', 'CDK5RAP2', 'CEP192', 'PLK4', 'PLK1', 'SASS6', 'CEP57']\n"
     ]
    }
   ],
   "source": [
    "#Loading data\n",
    "mode = \"just_next\"\n",
    "mode = \"all_following\"\n",
    "\n",
    "train_dic,dev_dic,test_dic = evaluation.load_dic(mode)\n",
    "\n",
    "print(train_dic[\"PLK4\"]) #Genes examined after PLK4 in the articles published before 2018\n",
    "print(dev_dic[\"PLK4\"]) #Genes examined after PLK4 in the articles published in 2019\n",
    "print(test_dic[\"PLK4\"]) #Genes examined after PLK4 in the articles published after 2020"
   ]
  },
  {
   "cell_type": "code",
   "execution_count": 4,
   "id": "smaller-distinction",
   "metadata": {},
   "outputs": [],
   "source": [
    "# Genes examined after a query gene in the previous data are not considered false or true. \n",
    "# They are removed from evaluation.\n",
    "# prev_dic stores genes examined previously to the answer data set\n",
    "\n",
    "def get_dictionaries_for_evaluation(eval_mode, train_dic, dev_dic, test_dic):   \n",
    "    if eval_mode == \"dev\":\n",
    "        prev_dic = train_dic.copy()\n",
    "        answer_dic = dev_dic.copy()\n",
    "    elif eval_mode == \"test\":\n",
    "        prev_dic = {k: train_dic[k] + dev_dic[k] for k in train_dic}\n",
    "        answer_dic = test_dic.copy()\n",
    "    else:\n",
    "        raise ValueError(\"Evaluation mode should be \\\"dev\\\" or \\\"test\\\"\")\n",
    "    \n",
    "    return prev_dic, answer_dic\n",
    "\n",
    "eval_mode = \"test\" #dev or test\n",
    "prev_dic, answer_dic = get_dictionaries_for_evaluation(eval_mode, train_dic, dev_dic, test_dic)"
   ]
  },
  {
   "cell_type": "code",
   "execution_count": 8,
   "id": "anticipated-scheduling",
   "metadata": {},
   "outputs": [
    {
     "name": "stderr",
     "output_type": "stream",
     "text": [
      "100%|██████████| 6/6 [00:00<00:00, 14.93it/s]\n"
     ]
    },
    {
     "data": {
      "text/html": [
       "<div>\n",
       "<style scoped>\n",
       "    .dataframe tbody tr th:only-of-type {\n",
       "        vertical-align: middle;\n",
       "    }\n",
       "\n",
       "    .dataframe tbody tr th {\n",
       "        vertical-align: top;\n",
       "    }\n",
       "\n",
       "    .dataframe thead th {\n",
       "        text-align: right;\n",
       "    }\n",
       "</style>\n",
       "<table border=\"1\" class=\"dataframe\">\n",
       "  <thead>\n",
       "    <tr style=\"text-align: right;\">\n",
       "      <th></th>\n",
       "      <th>Symbol</th>\n",
       "      <th>AUC at 100 for xgboost</th>\n",
       "    </tr>\n",
       "  </thead>\n",
       "  <tbody>\n",
       "    <tr>\n",
       "      <th>0</th>\n",
       "      <td>PLK4</td>\n",
       "      <td>0.664908</td>\n",
       "    </tr>\n",
       "    <tr>\n",
       "      <th>1</th>\n",
       "      <td>SASS6</td>\n",
       "      <td>0.664900</td>\n",
       "    </tr>\n",
       "    <tr>\n",
       "      <th>2</th>\n",
       "      <td>CEP152</td>\n",
       "      <td>0.497394</td>\n",
       "    </tr>\n",
       "    <tr>\n",
       "      <th>3</th>\n",
       "      <td>CEP192</td>\n",
       "      <td>0.698389</td>\n",
       "    </tr>\n",
       "    <tr>\n",
       "      <th>4</th>\n",
       "      <td>CEP63</td>\n",
       "      <td>0.581115</td>\n",
       "    </tr>\n",
       "    <tr>\n",
       "      <th>5</th>\n",
       "      <td>PCNT</td>\n",
       "      <td>0.798618</td>\n",
       "    </tr>\n",
       "  </tbody>\n",
       "</table>\n",
       "</div>"
      ],
      "text/plain": [
       "   Symbol  AUC at 100 for xgboost\n",
       "0    PLK4                0.664908\n",
       "1   SASS6                0.664900\n",
       "2  CEP152                0.497394\n",
       "3  CEP192                0.698389\n",
       "4   CEP63                0.581115\n",
       "5    PCNT                0.798618"
      ]
     },
     "execution_count": 8,
     "metadata": {},
     "output_type": "execute_result"
    }
   ],
   "source": [
    "#Calculate AUC\n",
    "model_name =\"xgboost\"\n",
    "genes = [\"PLK4\",\"SASS6\",\"CEP152\",\"CEP192\",\"CEP63\",\"PCNT\"]\n",
    "result_dir = \"./result/xgboost\"\n",
    "top_k = 100\n",
    "\n",
    "import os\n",
    "import tqdm\n",
    "\n",
    "evaluation.calculate_auc_for_many_genes(result_dir, model_name, prev_dic, answer_dic, top_k, genes=genes)"
   ]
  },
  {
   "cell_type": "code",
   "execution_count": null,
   "id": "basic-medicare",
   "metadata": {},
   "outputs": [],
   "source": []
  }
 ],
 "metadata": {
  "kernelspec": {
   "display_name": "Python 3",
   "language": "python",
   "name": "python3"
  },
  "language_info": {
   "codemirror_mode": {
    "name": "ipython",
    "version": 3
   },
   "file_extension": ".py",
   "mimetype": "text/x-python",
   "name": "python",
   "nbconvert_exporter": "python",
   "pygments_lexer": "ipython3",
   "version": "3.6.9"
  }
 },
 "nbformat": 4,
 "nbformat_minor": 5
}
