{
 "cells": [
  {
   "cell_type": "code",
   "execution_count": 27,
   "id": "possible-glory",
   "metadata": {},
   "outputs": [],
   "source": [
    "#Symbols and Uniprot accessions\n",
    "from lexas import prediction\n",
    "symbols = prediction.symbols\n",
    "\n",
    "import json\n",
    "path = \"./data/uniprot.json\"\n",
    "with open(path, mode=\"r\") as f:\n",
    "    sym_to_uni = json.load(f)\n",
    "uni_to_sym = {value: key for key, value in sym_to_ensp.items()}"
   ]
  },
  {
   "cell_type": "code",
   "execution_count": null,
   "id": "worst-camping",
   "metadata": {
    "scrolled": false
   },
   "outputs": [],
   "source": [
    "#Install GOSemSim\n",
    "!pip install git+https://github.com/mojaie/pygosemsim.git\n",
    "\n",
    "from pygosemsim import download\n",
    "download.download(\"go-basic.obo\",\"http://release.geneontology.org/2018-12-01/ontology/go-basic.obo\")\n",
    "download.download(\"goa_human.gaf.gz\",\"http://release.geneontology.org/2018-12-01/annotations/goa_human.gaf.gz\",decode=False)\n",
    "\n",
    "from pygosemsim import graph\n",
    "G = graph.from_resource(\"go-basic\")\n",
    "\n",
    "from pygosemsim import annotation\n",
    "annot = annotation.from_resource(\"goa_human\")\n",
    "\n",
    "import functools\n",
    "from pygosemsim import term_set\n",
    "from pygosemsim import similarity\n",
    "similarity.precalc_lower_bounds(G)\n",
    "sf = functools.partial(term_set.sim_func, G, similarity.wang)"
   ]
  },
  {
   "cell_type": "code",
   "execution_count": 56,
   "id": "appropriate-louis",
   "metadata": {
    "collapsed": true
   },
   "outputs": [
    {
     "data": {
      "application/vnd.jupyter.widget-view+json": {
       "model_id": "f5d3c2a94d484af0acc8ea8752c2c7b9",
       "version_major": 2,
       "version_minor": 0
      },
      "text/plain": [
       "  0%|          | 0/19393 [00:00<?, ?it/s]"
      ]
     },
     "metadata": {},
     "output_type": "display_data"
    },
    {
     "data": {
      "application/vnd.jupyter.widget-view+json": {
       "model_id": "bb21af1a933e48139344df35ba7e73d5",
       "version_major": 2,
       "version_minor": 0
      },
      "text/plain": [
       "  0%|          | 0/19393 [00:00<?, ?it/s]"
      ]
     },
     "metadata": {},
     "output_type": "display_data"
    },
    {
     "data": {
      "application/vnd.jupyter.widget-view+json": {
       "model_id": "aa7cf3818b7e484f9d4a599680a356c3",
       "version_major": 2,
       "version_minor": 0
      },
      "text/plain": [
       "  0%|          | 0/19393 [00:00<?, ?it/s]"
      ]
     },
     "metadata": {},
     "output_type": "display_data"
    },
    {
     "data": {
      "application/vnd.jupyter.widget-view+json": {
       "model_id": "49a117c46598450b90cb5dce535c52d3",
       "version_major": 2,
       "version_minor": 0
      },
      "text/plain": [
       "  0%|          | 0/19393 [00:00<?, ?it/s]"
      ]
     },
     "metadata": {},
     "output_type": "display_data"
    },
    {
     "data": {
      "application/vnd.jupyter.widget-view+json": {
       "model_id": "342d1577e0994fa98ec2100c0e1cba9a",
       "version_major": 2,
       "version_minor": 0
      },
      "text/plain": [
       "  0%|          | 0/19393 [00:00<?, ?it/s]"
      ]
     },
     "metadata": {},
     "output_type": "display_data"
    }
   ],
   "source": [
    "#Calculating semantic similarities on GO tree\n",
    "\n",
    "import tqdm.notebook\n",
    "import pandas as pd\n",
    "genes = [\"PLK4\",\"SASS6\",\"CEP152\",\"CEP192\",\"PCNT\"]\n",
    "used_symbols, scores = [],[]\n",
    "for gene in genes:\n",
    "    for symbol in tqdm.notebook.tqdm(symbols):\n",
    "        if symbol in sym_to_uni:\n",
    "            used_symbols.append(symbol)\n",
    "            g1 = annot[sym_to_uni[gene]][\"annotation\"].keys()\n",
    "            g2 = annot[sym_to_uni[symbol]][\"annotation\"].keys()\n",
    "            sim = term_set.sim_bma(g1, g2, sf)\n",
    "            scores.append(sim)\n",
    "    df = pd.DataFrame({\"Symbols\":used_symbols,\"Score\":scores})\n",
    "    df.to_csv(f\"./result/gosemsim/{gene}.csv\",index=None)"
   ]
  },
  {
   "cell_type": "code",
   "execution_count": 54,
   "id": "tight-installation",
   "metadata": {},
   "outputs": [
    {
     "data": {
      "text/html": [
       "<div>\n",
       "<style scoped>\n",
       "    .dataframe tbody tr th:only-of-type {\n",
       "        vertical-align: middle;\n",
       "    }\n",
       "\n",
       "    .dataframe tbody tr th {\n",
       "        vertical-align: top;\n",
       "    }\n",
       "\n",
       "    .dataframe thead th {\n",
       "        text-align: right;\n",
       "    }\n",
       "</style>\n",
       "<table border=\"1\" class=\"dataframe\">\n",
       "  <thead>\n",
       "    <tr style=\"text-align: right;\">\n",
       "      <th></th>\n",
       "      <th>Symbols</th>\n",
       "      <th>Score</th>\n",
       "    </tr>\n",
       "  </thead>\n",
       "  <tbody>\n",
       "    <tr>\n",
       "      <th>0</th>\n",
       "      <td>PLK4</td>\n",
       "      <td>1.000</td>\n",
       "    </tr>\n",
       "    <tr>\n",
       "      <th>1</th>\n",
       "      <td>SASS6</td>\n",
       "      <td>0.686</td>\n",
       "    </tr>\n",
       "    <tr>\n",
       "      <th>2</th>\n",
       "      <td>CEP152</td>\n",
       "      <td>0.810</td>\n",
       "    </tr>\n",
       "    <tr>\n",
       "      <th>3</th>\n",
       "      <td>CEP192</td>\n",
       "      <td>0.660</td>\n",
       "    </tr>\n",
       "    <tr>\n",
       "      <th>4</th>\n",
       "      <td>PCNT</td>\n",
       "      <td>0.690</td>\n",
       "    </tr>\n",
       "  </tbody>\n",
       "</table>\n",
       "</div>"
      ],
      "text/plain": [
       "  Symbols  Score\n",
       "0    PLK4  1.000\n",
       "1   SASS6  0.686\n",
       "2  CEP152  0.810\n",
       "3  CEP192  0.660\n",
       "4    PCNT  0.690"
      ]
     },
     "execution_count": 54,
     "metadata": {},
     "output_type": "execute_result"
    }
   ],
   "source": [
    "df"
   ]
  }
 ],
 "metadata": {
  "kernelspec": {
   "display_name": "Python 3",
   "language": "python",
   "name": "python3"
  },
  "language_info": {
   "codemirror_mode": {
    "name": "ipython",
    "version": 3
   },
   "file_extension": ".py",
   "mimetype": "text/x-python",
   "name": "python",
   "nbconvert_exporter": "python",
   "pygments_lexer": "ipython3",
   "version": "3.6.9"
  }
 },
 "nbformat": 4,
 "nbformat_minor": 5
}
