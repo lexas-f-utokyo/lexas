{
 "cells": [
  {
   "cell_type": "code",
   "execution_count": 2,
   "id": "progressive-blanket",
   "metadata": {},
   "outputs": [],
   "source": [
    "import pandas as pd\n",
    "from lexas import evaluation\n",
    "from lexas import prediction\n",
    "symbols = prediction.symbols\n",
    "mode = \"just_next\" #all_following or just_next"
   ]
  },
  {
   "cell_type": "markdown",
   "id": "dutch-instruction",
   "metadata": {},
   "source": [
    "# Preparation"
   ]
  },
  {
   "cell_type": "code",
   "execution_count": 5,
   "id": "promotional-mileage",
   "metadata": {},
   "outputs": [
    {
     "name": "stderr",
     "output_type": "stream",
     "text": [
      "798it [00:00, 388064.30it/s]\n",
      "798it [00:00, 773885.45it/s]\n",
      "798it [00:00, 1192395.65it/s]\n"
     ]
    }
   ],
   "source": [
    "path_to_csv = \"./data/experiments_for_xgboost.csv\"\n",
    "train_dic = evaluation.generate_dic_for_eval(\n",
    "    path_to_csv,\n",
    "    1930,  #start year\n",
    "    2018,  #end year\n",
    "    mode) \n",
    "\n",
    "dev_dic = evaluation.generate_dic_for_eval(path_to_csv,2019,2019,mode)\n",
    "test_dic = evaluation.generate_dic_for_eval(path_to_csv,2020,2023,mode)\n",
    "\n",
    "#Save the dictionaries\n",
    "#The disctionaries are saved as ./eval/dic_{mode}.csv\n",
    "evaluation.save_dic(train_dic,dev_dic,test_dic,mode)"
   ]
  },
  {
   "cell_type": "markdown",
   "id": "known-stupid",
   "metadata": {},
   "source": [
    "# Evaluation"
   ]
  },
  {
   "cell_type": "code",
   "execution_count": 4,
   "id": "considerable-juvenile",
   "metadata": {
    "scrolled": false
   },
   "outputs": [
    {
     "name": "stdout",
     "output_type": "stream",
     "text": [
      "Genes examined after PLK4 in the articles published before 2018\n",
      "['USP28', 'FHDC1', 'SLC9A3R1', 'PTEN', 'AURKA', 'MARK1', 'CUL1', 'CCDC78', 'DLGAP5', 'CEP135', 'PPP1R35', 'CDH1', 'CEP250', 'CETN3', 'PLK3', 'CEP192', 'NEK7', 'NIN', 'TRIM37', 'TJP1', 'CDK19', 'PLK1', 'LIN28A', 'PCM1', 'GAPDH', 'CEP68', 'TSC1', 'GOLGA2', 'CEP85', 'CDK1', 'TP53', 'CETN2', 'RTTN', 'CEP128', 'RBM14', 'MYO10', 'TSC2', 'CDC6', 'RPS27', 'REL', 'TBCD', 'BBS4', 'CDK5RAP2', 'BIRC5', 'FOXO1', 'CEP152', 'PCNT', 'RAC1', 'KAT2A', 'FOXM1', 'CDK2', 'CHEK1', 'TP53BP1', 'CEP170', 'CEP295', 'ODF2', 'CCP110', 'CD63', 'CASP3', 'NFKB2', 'LATS2', 'PARP1', 'STIL', 'PRPF6', 'GRAP2', 'GCC2', 'CAMSAP2', 'CENPJ', 'SASS6', 'BUB1B', 'CEP350', 'PLK2', 'KLF14', 'CEP57']\n",
      "\n",
      "Genes examined after PLK4 in the articles published in 2019\n",
      "['ATAD2', 'AURKA', 'MIR7-3HG', 'POLQ', 'RBL1', 'TACC3', 'CTRL', 'CEP192', 'CEP131', 'FRAP', 'DVL2', 'TP53', 'SNAI1', 'CEP152', 'PCNT', 'POC1B', 'TYRO3', 'AURKB', 'STIL', 'DEUP1', 'SASS6']\n",
      "\n",
      "Genes examined after PLK4 in the articles published after 2020\n",
      "['DHCR7', 'USP28', 'VIM', 'DDX4', 'FOXJ1', 'MDM1', 'AURKA', 'DIAPH1', 'DAZL', 'MYCN', 'PDGFR', 'FEN1', 'NDC80', 'CEP135', 'CCND1', 'KIFC1', 'MYO6', 'SREBF1', 'KIF11', 'ARL13B', 'RHOA', 'CEP192', 'HIF1A', 'CEP131', 'TRIM37', 'TJP1', 'AKAP9', 'PLK1', 'PCM1', 'POU5F1', 'CEP164', 'CEP85', 'LMNB1', 'TP53', 'MCPH1', 'RPS27', 'CDK5RAP2', 'CNTROB', 'PCNT', 'CDC25C', 'ABCB1', 'SNHG16', 'PTPN12', 'TTBK2', 'AURKB', 'TENT5C', 'TIAM1', 'TERT', 'NEDD1', 'WEE1', 'MRP1', 'PARP1', 'SNRPD2', 'HMGA1', 'STIL', 'ACTB', 'DEUP1', 'IFT88', 'PLPPR5', 'CENPJ', 'WBP11', 'IL17RA', 'SASS6', 'CDCA5', 'ARNT', 'HAUS6']\n"
     ]
    }
   ],
   "source": [
    "# Loading data\n",
    "mode = \"just_next\"\n",
    "#mode = \"all_following\"\n",
    "\n",
    "# When using dictionaries created above\n",
    "# train_dic, dev_dic, test_dic = evaluation.load_dic(mode, input_dir=\"./eval\")\n",
    "\n",
    "# When using precomputed dictionaries that encompass all experiments from all articles\n",
    "# These dictionaries were used for evaluation in the manuscript\n",
    "train_dic, dev_dic, test_dic = evaluation.load_dic(mode,input_dir=\"./eval_pre_computed\")\n",
    "\n",
    "print(\"Genes examined after PLK4 in the articles published before 2018\")\n",
    "print(train_dic[\"PLK4\"]) \n",
    "print(\"\\nGenes examined after PLK4 in the articles published in 2019\")\n",
    "print(dev_dic[\"PLK4\"]) \n",
    "print(\"\\nGenes examined after PLK4 in the articles published after 2020\")\n",
    "print(test_dic[\"PLK4\"]) "
   ]
  },
  {
   "cell_type": "code",
   "execution_count": 5,
   "id": "smaller-distinction",
   "metadata": {},
   "outputs": [],
   "source": [
    "# Genes examined after a query gene in the previous data are not considered false or true. \n",
    "# They are removed from evaluation.\n",
    "# prev_dic stores genes examined previously to the answer data set\n",
    "\n",
    "def get_dictionaries_for_evaluation(eval_mode, train_dic, dev_dic, test_dic):   \n",
    "    if eval_mode == \"dev\":\n",
    "        prev_dic = train_dic.copy()\n",
    "        answer_dic = dev_dic.copy()\n",
    "    elif eval_mode == \"test\":\n",
    "        prev_dic = {k: train_dic[k] + dev_dic[k] for k in train_dic}\n",
    "        answer_dic = test_dic.copy()\n",
    "    else:\n",
    "        raise ValueError(\"Evaluation mode should be \\\"dev\\\" or \\\"test\\\"\")\n",
    "    \n",
    "    return prev_dic, answer_dic\n",
    "\n",
    "eval_mode = \"test\" #dev or test\n",
    "prev_dic, answer_dic = get_dictionaries_for_evaluation(eval_mode, train_dic, dev_dic, test_dic)"
   ]
  },
  {
   "cell_type": "code",
   "execution_count": 6,
   "id": "anticipated-scheduling",
   "metadata": {},
   "outputs": [
    {
     "name": "stderr",
     "output_type": "stream",
     "text": [
      "100%|██████████| 5/5 [00:00<00:00, 17.46it/s]\n"
     ]
    },
    {
     "data": {
      "text/html": [
       "<div>\n",
       "<style scoped>\n",
       "    .dataframe tbody tr th:only-of-type {\n",
       "        vertical-align: middle;\n",
       "    }\n",
       "\n",
       "    .dataframe tbody tr th {\n",
       "        vertical-align: top;\n",
       "    }\n",
       "\n",
       "    .dataframe thead th {\n",
       "        text-align: right;\n",
       "    }\n",
       "</style>\n",
       "<table border=\"1\" class=\"dataframe\">\n",
       "  <thead>\n",
       "    <tr style=\"text-align: right;\">\n",
       "      <th></th>\n",
       "      <th>Symbol</th>\n",
       "      <th>AUC at 100 for xgboost</th>\n",
       "    </tr>\n",
       "  </thead>\n",
       "  <tbody>\n",
       "    <tr>\n",
       "      <th>0</th>\n",
       "      <td>PLK4</td>\n",
       "      <td>0.634493</td>\n",
       "    </tr>\n",
       "    <tr>\n",
       "      <th>1</th>\n",
       "      <td>SASS6</td>\n",
       "      <td>0.773801</td>\n",
       "    </tr>\n",
       "    <tr>\n",
       "      <th>2</th>\n",
       "      <td>CEP152</td>\n",
       "      <td>0.784644</td>\n",
       "    </tr>\n",
       "    <tr>\n",
       "      <th>3</th>\n",
       "      <td>CEP192</td>\n",
       "      <td>0.898604</td>\n",
       "    </tr>\n",
       "    <tr>\n",
       "      <th>4</th>\n",
       "      <td>PCNT</td>\n",
       "      <td>0.609292</td>\n",
       "    </tr>\n",
       "  </tbody>\n",
       "</table>\n",
       "</div>"
      ],
      "text/plain": [
       "   Symbol  AUC at 100 for xgboost\n",
       "0    PLK4                0.634493\n",
       "1   SASS6                0.773801\n",
       "2  CEP152                0.784644\n",
       "3  CEP192                0.898604\n",
       "4    PCNT                0.609292"
      ]
     },
     "execution_count": 6,
     "metadata": {},
     "output_type": "execute_result"
    }
   ],
   "source": [
    "#Calculate AUC\n",
    "model_name =\"xgboost\"\n",
    "genes = [\"PLK4\",\"SASS6\",\"CEP152\",\"CEP192\",\"PCNT\"]\n",
    "result_dir = \"./result/xgboost\"\n",
    "top_k = 100\n",
    "\n",
    "import os\n",
    "import tqdm\n",
    "\n",
    "evaluation.calculate_auc_for_many_genes(result_dir, model_name, prev_dic, answer_dic, top_k, genes=genes)"
   ]
  },
  {
   "cell_type": "markdown",
   "id": "green-cheat",
   "metadata": {},
   "source": [
    "# Comparison with other tools "
   ]
  },
  {
   "cell_type": "code",
   "execution_count": 7,
   "id": "continental-string",
   "metadata": {},
   "outputs": [
    {
     "name": "stderr",
     "output_type": "stream",
     "text": [
      "100%|██████████| 5/5 [00:00<00:00, 18.08it/s]\n",
      "100%|██████████| 5/5 [00:00<00:00, 12.45it/s]\n",
      "100%|██████████| 5/5 [00:00<00:00, 12.90it/s]\n",
      "100%|██████████| 5/5 [00:00<00:00, 16.93it/s]\n",
      "100%|██████████| 5/5 [00:00<00:00, 16.88it/s]\n",
      "100%|██████████| 5/5 [00:00<00:00, 15.04it/s]\n"
     ]
    },
    {
     "data": {
      "text/html": [
       "<div>\n",
       "<style scoped>\n",
       "    .dataframe tbody tr th:only-of-type {\n",
       "        vertical-align: middle;\n",
       "    }\n",
       "\n",
       "    .dataframe tbody tr th {\n",
       "        vertical-align: top;\n",
       "    }\n",
       "\n",
       "    .dataframe thead th {\n",
       "        text-align: right;\n",
       "    }\n",
       "</style>\n",
       "<table border=\"1\" class=\"dataframe\">\n",
       "  <thead>\n",
       "    <tr style=\"text-align: right;\">\n",
       "      <th></th>\n",
       "      <th>Symbol</th>\n",
       "      <th>AUC at 100 for xgboost</th>\n",
       "      <th>AUC at 100 for string_rwr</th>\n",
       "      <th>AUC at 100 for funcoup_rwr</th>\n",
       "      <th>AUC at 100 for string_raw</th>\n",
       "      <th>AUC at 100 for funcoup_raw</th>\n",
       "      <th>AUC at 100 for gosemsim</th>\n",
       "    </tr>\n",
       "  </thead>\n",
       "  <tbody>\n",
       "    <tr>\n",
       "      <th>0</th>\n",
       "      <td>PLK4</td>\n",
       "      <td>0.634493</td>\n",
       "      <td>0.619045</td>\n",
       "      <td>0.535448</td>\n",
       "      <td>0.619285</td>\n",
       "      <td>0.619272</td>\n",
       "      <td>0.626792</td>\n",
       "    </tr>\n",
       "    <tr>\n",
       "      <th>1</th>\n",
       "      <td>SASS6</td>\n",
       "      <td>0.773801</td>\n",
       "      <td>0.698395</td>\n",
       "      <td>0.723325</td>\n",
       "      <td>0.698369</td>\n",
       "      <td>0.723612</td>\n",
       "      <td>0.773452</td>\n",
       "    </tr>\n",
       "    <tr>\n",
       "      <th>2</th>\n",
       "      <td>CEP152</td>\n",
       "      <td>0.784644</td>\n",
       "      <td>0.748107</td>\n",
       "      <td>0.748399</td>\n",
       "      <td>0.748266</td>\n",
       "      <td>0.748417</td>\n",
       "      <td>0.748546</td>\n",
       "    </tr>\n",
       "    <tr>\n",
       "      <th>3</th>\n",
       "      <td>CEP192</td>\n",
       "      <td>0.898604</td>\n",
       "      <td>0.765167</td>\n",
       "      <td>0.864649</td>\n",
       "      <td>0.765114</td>\n",
       "      <td>0.831651</td>\n",
       "      <td>0.831717</td>\n",
       "    </tr>\n",
       "    <tr>\n",
       "      <th>4</th>\n",
       "      <td>PCNT</td>\n",
       "      <td>0.609292</td>\n",
       "      <td>0.609136</td>\n",
       "      <td>0.570009</td>\n",
       "      <td>0.614805</td>\n",
       "      <td>0.575567</td>\n",
       "      <td>0.598010</td>\n",
       "    </tr>\n",
       "  </tbody>\n",
       "</table>\n",
       "</div>"
      ],
      "text/plain": [
       "   Symbol  AUC at 100 for xgboost  AUC at 100 for string_rwr  \\\n",
       "0    PLK4                0.634493                   0.619045   \n",
       "1   SASS6                0.773801                   0.698395   \n",
       "2  CEP152                0.784644                   0.748107   \n",
       "3  CEP192                0.898604                   0.765167   \n",
       "4    PCNT                0.609292                   0.609136   \n",
       "\n",
       "   AUC at 100 for funcoup_rwr  AUC at 100 for string_raw  \\\n",
       "0                    0.535448                   0.619285   \n",
       "1                    0.723325                   0.698369   \n",
       "2                    0.748399                   0.748266   \n",
       "3                    0.864649                   0.765114   \n",
       "4                    0.570009                   0.614805   \n",
       "\n",
       "   AUC at 100 for funcoup_raw  AUC at 100 for gosemsim  \n",
       "0                    0.619272                 0.626792  \n",
       "1                    0.723612                 0.773452  \n",
       "2                    0.748417                 0.748546  \n",
       "3                    0.831651                 0.831717  \n",
       "4                    0.575567                 0.598010  "
      ]
     },
     "execution_count": 7,
     "metadata": {},
     "output_type": "execute_result"
    }
   ],
   "source": [
    "import tqdm\n",
    "import os\n",
    "from lexas import evaluation\n",
    "\n",
    "model_names =[\"xgboost\",\"string_rwr\",\"funcoup_rwr\",\"string_raw\",\"funcoup_raw\",\"gosemsim\"]\n",
    "genes = [\"PLK4\",\"SASS6\",\"CEP152\",\"CEP192\",\"PCNT\"]\n",
    "top_k = 100\n",
    "results = []\n",
    "\n",
    "for model_name in model_names:\n",
    "    result_dir = f\"./result/{model_name}\"\n",
    "    result = evaluation.calculate_auc_for_many_genes(result_dir, model_name, prev_dic, answer_dic, top_k, genes=genes)\n",
    "    results.append(result)\n",
    "\n",
    "from functools import reduce\n",
    "merged_df = reduce(lambda left, right: pd.merge(left, right, on='Symbol', how='inner'), results)\n",
    "merged_df "
   ]
  },
  {
   "cell_type": "markdown",
   "id": "northern-providence",
   "metadata": {},
   "source": [
    "# Mann-Whitney U test and 95%CI"
   ]
  },
  {
   "cell_type": "code",
   "execution_count": 8,
   "id": "cordless-canadian",
   "metadata": {},
   "outputs": [
    {
     "name": "stdout",
     "output_type": "stream",
     "text": [
      "P value: MannwhitneyuResult(statistic=7.0, pvalue=0.1481349357421432)\n"
     ]
    },
    {
     "data": {
      "text/plain": [
       "(0.05219671273534232, -0.05692431575888069, 0.1620387740990914)"
      ]
     },
     "execution_count": 8,
     "metadata": {},
     "output_type": "execute_result"
    }
   ],
   "source": [
    "import numpy as np\n",
    "import pandas as pd\n",
    "from scipy.stats import mannwhitneyu\n",
    "\n",
    "group1_data = merged_df[\"AUC at 100 for xgboost\"]\n",
    "group2_data = merged_df[\"AUC at 100 for string_rwr\"]\n",
    "\n",
    "# Perform a Mann-Whitney U test to compare the two groups\n",
    "print(\"P value:\", mannwhitneyu(group1_data, group2_data))\n",
    "\n",
    "# Calculate the effect size (difference in means) between the two groups\n",
    "original_effect = np.mean(group1_data) - np.mean(group2_data)\n",
    "\n",
    "# Bootstrap resampling for estimating a 95% confidence interval of the effect size difference\n",
    "bootstrap_samples = 10000\n",
    "bootstrap_effects = []\n",
    "\n",
    "for _ in range(bootstrap_samples):\n",
    "    # Randomly sample with replacement from both groups' data\n",
    "    sample_group1 = np.random.choice(group1_data, size=len(merged_df), replace=True)\n",
    "    sample_group2 = np.random.choice(group2_data, size=len(merged_df), replace=True)\n",
    "\n",
    "    # Calculate the effect size (difference in means) for the bootstrap sample\n",
    "    effect = np.mean(sample_group1) - np.mean(sample_group2)\n",
    "    bootstrap_effects.append(effect)\n",
    "\n",
    "# Calculate the 95% confidence interval for the effect size difference\n",
    "lower_bound = np.percentile(bootstrap_effects, 2.5)\n",
    "upper_bound = np.percentile(bootstrap_effects, 97.5)\n",
    "\n",
    "original_effect, lower_bound, upper_bound"
   ]
  }
 ],
 "metadata": {
  "kernelspec": {
   "display_name": "Python 3",
   "language": "python",
   "name": "python3"
  },
  "language_info": {
   "codemirror_mode": {
    "name": "ipython",
    "version": 3
   },
   "file_extension": ".py",
   "mimetype": "text/x-python",
   "name": "python",
   "nbconvert_exporter": "python",
   "pygments_lexer": "ipython3",
   "version": "3.6.9"
  }
 },
 "nbformat": 4,
 "nbformat_minor": 5
}
