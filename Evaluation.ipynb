{
 "cells": [
  {
   "cell_type": "code",
   "execution_count": 1,
   "id": "progressive-blanket",
   "metadata": {},
   "outputs": [],
   "source": [
    "import pandas as pd\n",
    "from lexas import evaluation\n",
    "from lexas import prediction\n",
    "symbols = prediction.symbols"
   ]
  },
  {
   "cell_type": "markdown",
   "id": "dutch-instruction",
   "metadata": {},
   "source": [
    "# Preparation"
   ]
  },
  {
   "cell_type": "code",
   "execution_count": 13,
   "id": "promotional-mileage",
   "metadata": {},
   "outputs": [
    {
     "name": "stderr",
     "output_type": "stream",
     "text": [
      "798it [00:00, 186226.82it/s]\n",
      "798it [00:00, 428450.41it/s]\n",
      "798it [00:00, 445798.43it/s]\n"
     ]
    }
   ],
   "source": [
    "path_to_csv = \"./data/experiments_for_xgboost.csv\"\n",
    "train_dic = evaluation.generate_dic_for_eval(\n",
    "    path_to_csv,\n",
    "    1930,  #start year\n",
    "    2018,  #end year\n",
    ") \n",
    "\n",
    "dev_dic = evaluation.generate_dic_for_eval(path_to_csv,2019,2019)\n",
    "test_dic = evaluation.generate_dic_for_eval(path_to_csv,2020,2023)\n",
    "\n",
    "#Save the dictionaries\n",
    "#The disctionaries are saved in ./eval/\n",
    "evaluation.save_dic(train_dic,dev_dic,test_dic)"
   ]
  },
  {
   "cell_type": "markdown",
   "id": "known-stupid",
   "metadata": {},
   "source": [
    "# Evaluation"
   ]
  },
  {
   "cell_type": "code",
   "execution_count": 9,
   "id": "considerable-juvenile",
   "metadata": {},
   "outputs": [
    {
     "name": "stdout",
     "output_type": "stream",
     "text": [
      "Genes examined after PLK4 in the articles published before 2018\n",
      "['KIF2C', 'SLC9A3R1', 'TLR4', 'MARK1', 'CUL1', 'DLGAP5', 'MYBL2', 'DSN1', 'CLASP2', 'CENPT', 'CAMSAP3', 'NEK7', 'NIN', 'PXN', 'SKP2', 'TUBGCP6', 'GAPDH', 'TSC1', 'PTGS2', 'MTOR', 'RBM14', 'RAD21', 'MAS1', 'FOXO1', 'TMPRSS13', 'CDK5RAP2', 'CNTROB', 'SAP30', 'CENPW', 'PRC1', 'PAX6', 'KAT2A', 'CDC25C', 'TP53BP1', 'LCP2', 'ACIN1', 'RUNX2', 'CROCC', 'PRPF6', 'HSPB1', 'INCENP', 'NSL1', 'USP28', 'VIM', 'OFD1', 'SNAI2', 'RNF168', 'BUB1', 'CEP120', 'OTX2', 'ESPL1', 'CEP135', 'XRCC5', 'KIFC1', 'PPP1R35', 'PYURF', 'NCAPD2', 'HSPB3', 'CEP290', 'GOLGB1', 'KCNIP3', 'MDM2', 'PCM1', 'LIN28A', 'CEP68', 'BUB3', 'HSP90AA1', 'CCNB1', 'BRN3B', 'TSC2', 'TXN', 'ORC1', 'PCNT', 'RAC1', 'FOXM1', 'H2AX', 'SP1', 'CHEK1', 'CCNB2', 'PALM', 'JMJD7', 'FMNL1', 'SAP30BP', 'CD24', 'PHB', 'NFKB2', 'INS', 'LATS2', 'LATS1', 'CDKN1A', 'PARP1', 'SPICE1', 'GCC2', 'SASS6', 'MYLK', 'MITF', 'CEP63', 'PCNA', 'CEP350', 'CEP57', 'HDAC9', 'GCG', 'FHDC1', 'PTEN', 'AURKA', 'NRF1', 'CCDC78', 'WNT11', 'TUBG1', 'TACC3', 'CCN4', 'KAT2B', 'ARHGAP35', 'FRAP', 'IL2', 'TRIM37', 'CDK19', 'AKAP9', 'CXCR2', 'CXCR1', 'CEP164', 'SPATA7', 'CEP85', 'GOLGA2', 'MYO10', 'PLK4', 'CETN2', 'CEP128', 'ASPM', 'CDC6', 'BIRC5', 'REL', 'TBCD', 'CFAP410', 'TPX2', 'FATE1', 'C3orf62', 'TFAP2B', 'CCP110', 'ODF2', 'WEE1', 'NEK1', 'STIL', 'ACTB', 'GRAP2', 'CD44', 'CCDC14', 'HAUS7', 'PLK2', 'KLF14', 'FICD', 'HAUS6', 'KIAA0753', 'MIS12', 'KRAS', 'MBP', 'UTRN', 'RHOA', 'RND3', 'CDH1', 'SS18L1', 'CETN3', 'GATD3', 'CEP250', 'PLK3', 'CEP192', 'CEP131', 'MYD88', 'TADA2A', 'TJP1', 'DDR1', 'TLR2', 'PLK1', 'SIX2', 'EAF2', 'CDK1', 'TP53', 'RTTN', 'CXCL8', 'TOP2A', 'RPS27', 'STAR', 'JMJD7-PLA2G4B', 'SSX2IP', 'BBS4', 'CEP152', 'CHEK2', 'KNL1', 'CDK2', 'NEK2', 'CEP170', 'CEP295', 'VEGFA', 'CD63', 'ALMS1', 'RNF8', 'TADA3', 'CEP162', 'CASP3', 'INF2', 'ERBB2', 'GRP78', 'SNCG', 'PRPF8', 'PTTG1', 'IFT88', 'SART3', 'HAP1', 'CAMSAP2', 'CENPJ', 'BUB1B', 'VSX2', 'PPP1CA', 'PIBF1']\n",
      "\n",
      "Genes examined after PLK4 in the articles published in 2019\n",
      "['COMETT', 'DAAM1', 'KIF2C', 'PCNA', 'MMP1', 'CDH2', 'ATAD2', 'BUB1', 'MARK1', 'FIG4', 'AURKA', 'MIR7-3HG', 'CEP120', 'IL4I1', 'CEP135', 'POLQ', 'RBL1', 'CDH1', 'CEP250', 'KCNH2', 'CTRL', 'TACC3', 'CEP192', 'CEP131', 'FRAP', 'SPIRE1', 'TJP1', 'MMP2', 'PLK1', 'PCM1', 'DVL2', 'POC1A', 'TP53', 'PLK4', 'CEP72', 'SNAI1', 'CLTC', 'RPS27', 'GTSE1', 'DAAM2', 'CEP152', 'PCNT', 'CUL5', 'CEP170', 'SLC3A2', 'POC1B', 'TYRO3', 'AURKB', 'PIK3CA', 'NEDD1', 'STIL', 'DEUP1', 'AURKC', 'CENPJ', 'SASS6', 'ATG5', 'PRICKLE1']\n",
      "\n",
      "Genes examined after PLK4 in the articles published after 2020\n",
      "['DHCR7', 'KIF2C', 'FOXJ1', 'RECQL4', 'MARK1', 'NDC80', 'DLGAP5', 'ABL1', 'CCND1', 'SREBF1', 'SLC28A3', 'HIF1A', 'NIN', 'COL1A1', 'FZD5', 'BCL2', 'PTCH1', 'TUBGCP6', 'KATNB1', 'CEP83', 'MTOR', 'EGR1', 'RABL6', 'CDK5RAP2', 'CNTROB', 'TUBB4A', 'PRC1', 'MAP4', 'BRAF', 'CDC25C', 'TP53BP1', 'SNHG16', 'E2F3', 'RAB8A', 'FTCDNL1', 'FBF1', 'TIAM1', 'SNRPD2', 'KCNH6', 'TUBGCP3', 'WBP11', 'LDHB', 'MSMP', 'IL17A', 'IL17RA', 'CD81', 'IFT46', 'DDX4', 'VIM', 'MELK', 'OFD1', 'CDH2', 'USP28', 'CLASP1', 'CXCL6', 'E2F1', 'CEP120', 'MYCN', 'E2F5', 'CEP135', 'MYO6', 'KIFC1', 'ANLN', 'FPR1', 'CEP290', 'TENT5D', 'BRCA1', 'GOLGB1', 'NKX2-1', 'STAG3', 'MDM2', 'CAPS', 'PCM1', 'CD9', 'SYCP1', 'CCNB1', 'CENPA', 'SRPK1', 'TSG101', 'PCNT', 'FOXM1', 'H2AX', 'CHEK1', 'MAD2L2', 'STAT3', 'PTPN12', 'SOD1', 'PIK3CA', 'PQBP1', 'MRP1', 'PARP1', 'HMGA1', 'EPCAM', 'SPICE1', 'PLPPR5', 'SASS6', 'CEP63', 'PCNA', 'CEP350', 'PROM1', 'ARNT', 'CEP57', 'CCNA2', 'HDAC9', 'CDC16', 'APC2', 'MDM1', 'PTEN', 'AURKA', 'DIAPH1', 'FIG4', 'PDGFR', 'AXIN2', 'KIF18A', 'TUBGCP5', 'CD11B', 'FRAP', 'PTMS', 'TRIM37', 'CXCL1', 'MARS1', 'MKI67', 'AKAP9', 'PDE4DIP', 'CEP164', 'GLI1', 'CEP85', 'GOLGA2', 'PLK4', 'CETN2', 'CDC27', 'MCPH1', 'EGFR', 'BIRC5', 'TPX2', 'WNT7B', 'CEBPB', 'C3orf62', 'CKAP5', 'IFT27', 'CCP110', 'ODF2', 'WEE1', 'PSME4', 'TENT5C', 'NEDD1', 'STIL', 'IL17RC', 'ACTB', 'SNW1', 'CD44', 'DIAPH3', 'TRIM46', 'HAUS6', 'SYCP3', 'KRAS', 'MAP2', 'TNF', 'HMMR', 'DAZL', 'VCL', 'FEN1', 'KIF11', 'ARL13B', 'BRD4', 'RHOA', 'CTRL', 'CEP192', 'CEP131', 'PIEZO1', 'PAX7', 'ALDH1A2', 'FAM83D', 'PDCD6IP', 'TJP1', 'DNMT', 'MYC', 'PLK1', 'POU5F1', 'CDK1', 'EXO1', 'CCDC66', 'LMNB1', 'TP53', 'E2F4', 'GLI3', 'SNAI1', 'RFC4', 'RPS27', 'STAR', 'IFT52', 'IL6', 'CEP152', 'CHEK2', 'CDK2', 'CKS2', 'HDAC6', 'ABCB1', 'SLC3A2', 'CFTR', 'CD63', 'TTBK2', 'AURKB', 'GPER1', 'SLU7', 'MCIDAS', 'TERT', 'DDB1', 'PRPF8', 'SREBF2', 'PTTG1', 'IFT88', 'DEUP1', 'TRIP13', 'CAMSAP2', 'CENPJ', 'CLIP1', 'CDCA5', 'HSPA2', 'IQGAP1']\n"
     ]
    }
   ],
   "source": [
    "# Loading data\n",
    "# When using dictionaries created above\n",
    "# train_dic, dev_dic, test_dic = evaluation.load_dic(mode, input_dir=\"./eval\")\n",
    "\n",
    "# When using precomputed dictionaries that encompass all experiments from all articles\n",
    "# These dictionaries were used for evaluation in the manuscript\n",
    "train_dic, dev_dic, test_dic = evaluation.load_dic(input_dir=\"./eval_pre_computed\")\n",
    "\n",
    "print(\"Genes examined after PLK4 in the articles published before 2018\")\n",
    "print(train_dic[\"PLK4\"]) \n",
    "print(\"\\nGenes examined after PLK4 in the articles published in 2019\")\n",
    "print(dev_dic[\"PLK4\"]) \n",
    "print(\"\\nGenes examined after PLK4 in the articles published after 2020\")\n",
    "print(test_dic[\"PLK4\"]) "
   ]
  },
  {
   "cell_type": "code",
   "execution_count": 4,
   "id": "smaller-distinction",
   "metadata": {},
   "outputs": [],
   "source": [
    "# Genes examined after a query gene in the previous data are not considered false or true. \n",
    "# They are removed from evaluation.\n",
    "# prev_dic stores genes examined previously to the answer data set\n",
    "\n",
    "def get_dictionaries_for_evaluation(eval_mode, train_dic, dev_dic, test_dic):   \n",
    "    if eval_mode == \"dev\":\n",
    "        prev_dic = train_dic.copy()\n",
    "        answer_dic = dev_dic.copy()\n",
    "    elif eval_mode == \"test\":\n",
    "        prev_dic = {k: train_dic[k] + dev_dic[k] for k in train_dic}\n",
    "        answer_dic = test_dic.copy()\n",
    "    else:\n",
    "        raise ValueError(\"Evaluation mode should be \\\"dev\\\" or \\\"test\\\"\")\n",
    "    \n",
    "    return prev_dic, answer_dic\n",
    "\n",
    "eval_mode = \"test\" #dev or test\n",
    "prev_dic, answer_dic = get_dictionaries_for_evaluation(eval_mode, train_dic, dev_dic, test_dic)"
   ]
  },
  {
   "cell_type": "code",
   "execution_count": 5,
   "id": "anticipated-scheduling",
   "metadata": {},
   "outputs": [
    {
     "name": "stderr",
     "output_type": "stream",
     "text": [
      "100%|██████████| 5/5 [00:00<00:00, 13.11it/s]\n"
     ]
    },
    {
     "data": {
      "text/html": [
       "<div>\n",
       "<style scoped>\n",
       "    .dataframe tbody tr th:only-of-type {\n",
       "        vertical-align: middle;\n",
       "    }\n",
       "\n",
       "    .dataframe tbody tr th {\n",
       "        vertical-align: top;\n",
       "    }\n",
       "\n",
       "    .dataframe thead th {\n",
       "        text-align: right;\n",
       "    }\n",
       "</style>\n",
       "<table border=\"1\" class=\"dataframe\">\n",
       "  <thead>\n",
       "    <tr style=\"text-align: right;\">\n",
       "      <th></th>\n",
       "      <th>Symbol</th>\n",
       "      <th>AUC at 100 for xgboost</th>\n",
       "    </tr>\n",
       "  </thead>\n",
       "  <tbody>\n",
       "    <tr>\n",
       "      <th>0</th>\n",
       "      <td>PLK4</td>\n",
       "      <td>0.585285</td>\n",
       "    </tr>\n",
       "    <tr>\n",
       "      <th>1</th>\n",
       "      <td>SASS6</td>\n",
       "      <td>0.663106</td>\n",
       "    </tr>\n",
       "    <tr>\n",
       "      <th>2</th>\n",
       "      <td>CEP152</td>\n",
       "      <td>0.644797</td>\n",
       "    </tr>\n",
       "    <tr>\n",
       "      <th>3</th>\n",
       "      <td>CEP192</td>\n",
       "      <td>0.701162</td>\n",
       "    </tr>\n",
       "    <tr>\n",
       "      <th>4</th>\n",
       "      <td>PCNT</td>\n",
       "      <td>0.558299</td>\n",
       "    </tr>\n",
       "  </tbody>\n",
       "</table>\n",
       "</div>"
      ],
      "text/plain": [
       "   Symbol  AUC at 100 for xgboost\n",
       "0    PLK4                0.585285\n",
       "1   SASS6                0.663106\n",
       "2  CEP152                0.644797\n",
       "3  CEP192                0.701162\n",
       "4    PCNT                0.558299"
      ]
     },
     "execution_count": 5,
     "metadata": {},
     "output_type": "execute_result"
    }
   ],
   "source": [
    "#Calculate AUC\n",
    "model_name =\"xgboost\"\n",
    "genes = [\"PLK4\",\"SASS6\",\"CEP152\",\"CEP192\",\"PCNT\"]\n",
    "result_dir = \"./result/xgboost\"\n",
    "top_k = 100\n",
    "\n",
    "import os\n",
    "import tqdm\n",
    "\n",
    "evaluation.calculate_auc_for_many_genes(result_dir, model_name, prev_dic, answer_dic, top_k, genes=genes)"
   ]
  },
  {
   "cell_type": "markdown",
   "id": "green-cheat",
   "metadata": {},
   "source": [
    "# Comparison with other tools "
   ]
  },
  {
   "cell_type": "code",
   "execution_count": 11,
   "id": "continental-string",
   "metadata": {},
   "outputs": [
    {
     "name": "stderr",
     "output_type": "stream",
     "text": [
      "100%|██████████| 5/5 [00:00<00:00, 14.54it/s]\n",
      "100%|██████████| 5/5 [00:00<00:00, 11.18it/s]\n",
      "100%|██████████| 5/5 [00:00<00:00, 11.29it/s]\n",
      "100%|██████████| 5/5 [00:00<00:00, 13.03it/s]\n",
      "100%|██████████| 5/5 [00:00<00:00, 13.88it/s]\n",
      "100%|██████████| 5/5 [00:00<00:00, 14.24it/s]\n"
     ]
    },
    {
     "data": {
      "text/html": [
       "<div>\n",
       "<style scoped>\n",
       "    .dataframe tbody tr th:only-of-type {\n",
       "        vertical-align: middle;\n",
       "    }\n",
       "\n",
       "    .dataframe tbody tr th {\n",
       "        vertical-align: top;\n",
       "    }\n",
       "\n",
       "    .dataframe thead th {\n",
       "        text-align: right;\n",
       "    }\n",
       "</style>\n",
       "<table border=\"1\" class=\"dataframe\">\n",
       "  <thead>\n",
       "    <tr style=\"text-align: right;\">\n",
       "      <th></th>\n",
       "      <th>Symbol</th>\n",
       "      <th>AUC at 100 for xgboost</th>\n",
       "      <th>AUC at 100 for string_rwr</th>\n",
       "      <th>AUC at 100 for funcoup_rwr</th>\n",
       "      <th>AUC at 100 for gosemsim</th>\n",
       "      <th>AUC at 100 for string_raw</th>\n",
       "      <th>AUC at 100 for funcoup_raw</th>\n",
       "    </tr>\n",
       "  </thead>\n",
       "  <tbody>\n",
       "    <tr>\n",
       "      <th>0</th>\n",
       "      <td>PLK4</td>\n",
       "      <td>0.585285</td>\n",
       "      <td>0.575909</td>\n",
       "      <td>0.534329</td>\n",
       "      <td>0.559810</td>\n",
       "      <td>0.571395</td>\n",
       "      <td>0.573635</td>\n",
       "    </tr>\n",
       "    <tr>\n",
       "      <th>1</th>\n",
       "      <td>SASS6</td>\n",
       "      <td>0.663106</td>\n",
       "      <td>0.631155</td>\n",
       "      <td>0.593017</td>\n",
       "      <td>0.637505</td>\n",
       "      <td>0.612100</td>\n",
       "      <td>0.599347</td>\n",
       "    </tr>\n",
       "    <tr>\n",
       "      <th>2</th>\n",
       "      <td>CEP152</td>\n",
       "      <td>0.644797</td>\n",
       "      <td>0.626169</td>\n",
       "      <td>0.613997</td>\n",
       "      <td>0.626184</td>\n",
       "      <td>0.626296</td>\n",
       "      <td>0.607878</td>\n",
       "    </tr>\n",
       "    <tr>\n",
       "      <th>3</th>\n",
       "      <td>CEP192</td>\n",
       "      <td>0.701162</td>\n",
       "      <td>0.640055</td>\n",
       "      <td>0.640026</td>\n",
       "      <td>0.640094</td>\n",
       "      <td>0.633397</td>\n",
       "      <td>0.633251</td>\n",
       "    </tr>\n",
       "    <tr>\n",
       "      <th>4</th>\n",
       "      <td>PCNT</td>\n",
       "      <td>0.558299</td>\n",
       "      <td>0.553281</td>\n",
       "      <td>0.544564</td>\n",
       "      <td>0.547083</td>\n",
       "      <td>0.547124</td>\n",
       "      <td>0.545804</td>\n",
       "    </tr>\n",
       "  </tbody>\n",
       "</table>\n",
       "</div>"
      ],
      "text/plain": [
       "   Symbol  AUC at 100 for xgboost  AUC at 100 for string_rwr  \\\n",
       "0    PLK4                0.585285                   0.575909   \n",
       "1   SASS6                0.663106                   0.631155   \n",
       "2  CEP152                0.644797                   0.626169   \n",
       "3  CEP192                0.701162                   0.640055   \n",
       "4    PCNT                0.558299                   0.553281   \n",
       "\n",
       "   AUC at 100 for funcoup_rwr  AUC at 100 for gosemsim  \\\n",
       "0                    0.534329                 0.559810   \n",
       "1                    0.593017                 0.637505   \n",
       "2                    0.613997                 0.626184   \n",
       "3                    0.640026                 0.640094   \n",
       "4                    0.544564                 0.547083   \n",
       "\n",
       "   AUC at 100 for string_raw  AUC at 100 for funcoup_raw  \n",
       "0                   0.571395                    0.573635  \n",
       "1                   0.612100                    0.599347  \n",
       "2                   0.626296                    0.607878  \n",
       "3                   0.633397                    0.633251  \n",
       "4                   0.547124                    0.545804  "
      ]
     },
     "execution_count": 11,
     "metadata": {},
     "output_type": "execute_result"
    }
   ],
   "source": [
    "import tqdm\n",
    "import os\n",
    "from lexas import evaluation\n",
    "\n",
    "model_names =[\"xgboost\",\"string_rwr\",\"funcoup_rwr\",\"gosemsim\",\"string_raw\",\"funcoup_raw\"]\n",
    "genes = [\"PLK4\",\"SASS6\",\"CEP152\",\"CEP192\",\"PCNT\"]\n",
    "top_k = 100\n",
    "results = []\n",
    "\n",
    "for model_name in model_names:\n",
    "    result_dir = f\"./result/{model_name}\"\n",
    "    result = evaluation.calculate_auc_for_many_genes(result_dir, model_name, prev_dic, answer_dic, top_k, genes=genes)\n",
    "    results.append(result)\n",
    "\n",
    "from functools import reduce\n",
    "merged_df = reduce(lambda left, right: pd.merge(left, right, on='Symbol', how='inner'), results)\n",
    "merged_df "
   ]
  },
  {
   "cell_type": "code",
   "execution_count": 12,
   "id": "martial-architect",
   "metadata": {},
   "outputs": [
    {
     "data": {
      "text/plain": [
       "AUC at 100 for xgboost        0.630530\n",
       "AUC at 100 for string_rwr     0.605314\n",
       "AUC at 100 for funcoup_rwr    0.585186\n",
       "AUC at 100 for gosemsim       0.602135\n",
       "AUC at 100 for string_raw     0.598062\n",
       "AUC at 100 for funcoup_raw    0.591983\n",
       "dtype: float64"
      ]
     },
     "execution_count": 12,
     "metadata": {},
     "output_type": "execute_result"
    }
   ],
   "source": [
    "merged_df.mean()"
   ]
  },
  {
   "cell_type": "markdown",
   "id": "northern-providence",
   "metadata": {},
   "source": [
    "# Mann-Whitney U test and 95%CI"
   ]
  },
  {
   "cell_type": "code",
   "execution_count": 7,
   "id": "cordless-canadian",
   "metadata": {},
   "outputs": [
    {
     "name": "stdout",
     "output_type": "stream",
     "text": [
      "P value: MannwhitneyuResult(statistic=7.0, pvalue=0.1481349357421432)\n"
     ]
    },
    {
     "data": {
      "text/plain": [
       "(0.025215876716281116, -0.02813302477232972, 0.08049244043995707)"
      ]
     },
     "execution_count": 7,
     "metadata": {},
     "output_type": "execute_result"
    }
   ],
   "source": [
    "import numpy as np\n",
    "import pandas as pd\n",
    "from scipy.stats import mannwhitneyu\n",
    "\n",
    "group1_data = merged_df[\"AUC at 100 for xgboost\"]\n",
    "group2_data = merged_df[\"AUC at 100 for string_rwr\"]\n",
    "\n",
    "# Perform a Mann-Whitney U test to compare the two groups (In the articles, with Bonferroni correction)\n",
    "print(\"P value:\", mannwhitneyu(group1_data, group2_data))\n",
    "\n",
    "# Calculate the effect size (difference in means) between the two groups\n",
    "original_effect = np.mean(group1_data) - np.mean(group2_data)\n",
    "\n",
    "# Bootstrap resampling for estimating a 95% confidence interval of the effect size difference\n",
    "bootstrap_samples = 10000\n",
    "bootstrap_effects = []\n",
    "\n",
    "for _ in range(bootstrap_samples):\n",
    "    # Randomly sample with replacement from both groups' data\n",
    "    sample_group1 = np.random.choice(group1_data, size=len(merged_df), replace=True)\n",
    "    sample_group2 = np.random.choice(group2_data, size=len(merged_df), replace=True)\n",
    "\n",
    "    # Calculate the effect size (difference in means) for the bootstrap sample\n",
    "    effect = np.mean(sample_group1) - np.mean(sample_group2)\n",
    "    bootstrap_effects.append(effect)\n",
    "\n",
    "# Calculate the 95% confidence interval for the effect size difference\n",
    "lower_bound = np.percentile(bootstrap_effects, 2.5)\n",
    "upper_bound = np.percentile(bootstrap_effects, 97.5)\n",
    "\n",
    "original_effect, lower_bound, upper_bound"
   ]
  }
 ],
 "metadata": {
  "kernelspec": {
   "display_name": "Python 3",
   "language": "python",
   "name": "python3"
  },
  "language_info": {
   "codemirror_mode": {
    "name": "ipython",
    "version": 3
   },
   "file_extension": ".py",
   "mimetype": "text/x-python",
   "name": "python",
   "nbconvert_exporter": "python",
   "pygments_lexer": "ipython3",
   "version": "3.6.9"
  }
 },
 "nbformat": 4,
 "nbformat_minor": 5
}
